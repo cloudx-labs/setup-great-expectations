{
 "cells": [
  {
   "cell_type": "code",
   "execution_count": 1,
   "id": "f29d5e01-e145-42c7-b16f-d7206519209d",
   "metadata": {
    "collapsed": true,
    "jupyter": {
     "outputs_hidden": true
    },
    "tags": []
   },
   "outputs": [
    {
     "name": "stdout",
     "output_type": "stream",
     "text": [
      "Defaulting to user installation because normal site-packages is not writeable\n",
      "Collecting great_expectations\n",
      "  Downloading great_expectations-0.17.7-py3-none-any.whl (5.4 MB)\n",
      "\u001b[2K     \u001b[90m━━━━━━━━━━━━━━━━━━━━━━━━━━━━━━━━━━━━━━━━\u001b[0m \u001b[32m5.4/5.4 MB\u001b[0m \u001b[31m42.9 MB/s\u001b[0m eta \u001b[36m0:00:00\u001b[0ma \u001b[36m0:00:01\u001b[0m\n",
      "\u001b[?25hCollecting altair<5.0.0,>=4.2.1 (from great_expectations)\n",
      "  Downloading altair-4.2.2-py3-none-any.whl (813 kB)\n",
      "\u001b[2K     \u001b[90m━━━━━━━━━━━━━━━━━━━━━━━━━━━━━━━━━━━━━━\u001b[0m \u001b[32m813.6/813.6 kB\u001b[0m \u001b[31m32.7 MB/s\u001b[0m eta \u001b[36m0:00:00\u001b[0m\n",
      "\u001b[?25hCollecting Click<=8.1.3,>=7.1.2 (from great_expectations)\n",
      "  Downloading click-8.1.3-py3-none-any.whl (96 kB)\n",
      "\u001b[2K     \u001b[90m━━━━━━━━━━━━━━━━━━━━━━━━━━━━━━━━━━━━━━━━\u001b[0m \u001b[32m96.6/96.6 kB\u001b[0m \u001b[31m11.2 MB/s\u001b[0m eta \u001b[36m0:00:00\u001b[0m\n",
      "\u001b[?25hCollecting colorama>=0.4.3 (from great_expectations)\n",
      "  Downloading colorama-0.4.6-py2.py3-none-any.whl (25 kB)\n",
      "Requirement already satisfied: cryptography>=3.2 in /usr/lib/python3/dist-packages (from great_expectations) (3.4.8)\n",
      "Requirement already satisfied: Ipython>=7.16.3 in ./.local/lib/python3.10/site-packages (from great_expectations) (8.6.0)\n",
      "Collecting ipywidgets>=7.5.1 (from great_expectations)\n",
      "  Downloading ipywidgets-8.1.0-py3-none-any.whl (139 kB)\n",
      "\u001b[2K     \u001b[90m━━━━━━━━━━━━━━━━━━━━━━━━━━━━━━━━━━━━━━\u001b[0m \u001b[32m139.3/139.3 kB\u001b[0m \u001b[31m15.8 MB/s\u001b[0m eta \u001b[36m0:00:00\u001b[0m\n",
      "\u001b[?25hRequirement already satisfied: jinja2>=2.10 in ./.local/lib/python3.10/site-packages (from great_expectations) (3.1.2)\n",
      "Collecting jsonpatch>=1.22 (from great_expectations)\n",
      "  Downloading jsonpatch-1.33-py2.py3-none-any.whl (12 kB)\n",
      "Requirement already satisfied: jsonschema>=2.5.1 in ./.local/lib/python3.10/site-packages (from great_expectations) (4.17.0)\n",
      "Collecting makefun<2,>=1.7.0 (from great_expectations)\n",
      "  Downloading makefun-1.15.1-py2.py3-none-any.whl (22 kB)\n",
      "Collecting marshmallow<4.0.0,>=3.7.1 (from great_expectations)\n",
      "  Downloading marshmallow-3.20.1-py3-none-any.whl (49 kB)\n",
      "\u001b[2K     \u001b[90m━━━━━━━━━━━━━━━━━━━━━━━━━━━━━━━━━━━━━━━━\u001b[0m \u001b[32m49.4/49.4 kB\u001b[0m \u001b[31m5.3 MB/s\u001b[0m eta \u001b[36m0:00:00\u001b[0m\n",
      "\u001b[?25hRequirement already satisfied: mistune>=0.8.4 in ./.local/lib/python3.10/site-packages (from great_expectations) (2.0.4)\n",
      "Requirement already satisfied: nbformat>=5.0 in ./.local/lib/python3.10/site-packages (from great_expectations) (5.7.0)\n",
      "Requirement already satisfied: notebook>=6.4.10 in ./.local/lib/python3.10/site-packages (from great_expectations) (6.5.2)\n",
      "Requirement already satisfied: packaging in ./.local/lib/python3.10/site-packages (from great_expectations) (21.3)\n",
      "Collecting pydantic<2.0,>=1.9.2 (from great_expectations)\n",
      "  Downloading pydantic-1.10.12-cp310-cp310-manylinux_2_17_x86_64.manylinux2014_x86_64.whl (3.1 MB)\n",
      "\u001b[2K     \u001b[90m━━━━━━━━━━━━━━━━━━━━━━━━━━━━━━━━━━━━━━━━\u001b[0m \u001b[32m3.1/3.1 MB\u001b[0m \u001b[31m49.5 MB/s\u001b[0m eta \u001b[36m0:00:00\u001b[0ma \u001b[36m0:00:01\u001b[0m\n",
      "\u001b[?25hRequirement already satisfied: pyparsing>=2.4 in /usr/lib/python3/dist-packages (from great_expectations) (2.4.7)\n",
      "Requirement already satisfied: python-dateutil>=2.8.1 in ./.local/lib/python3.10/site-packages (from great_expectations) (2.8.2)\n",
      "Requirement already satisfied: pytz>=2021.3 in ./.local/lib/python3.10/site-packages (from great_expectations) (2022.6)\n",
      "Requirement already satisfied: requests>=2.20 in ./.local/lib/python3.10/site-packages (from great_expectations) (2.28.1)\n",
      "Collecting ruamel.yaml<0.17.18,>=0.16 (from great_expectations)\n",
      "  Downloading ruamel.yaml-0.17.17-py3-none-any.whl (109 kB)\n",
      "\u001b[2K     \u001b[90m━━━━━━━━━━━━━━━━━━━━━━━━━━━━━━━━━━━━━━\u001b[0m \u001b[32m109.1/109.1 kB\u001b[0m \u001b[31m12.4 MB/s\u001b[0m eta \u001b[36m0:00:00\u001b[0m\n",
      "\u001b[?25hCollecting scipy>=1.6.0 (from great_expectations)\n",
      "  Downloading scipy-1.11.1-cp310-cp310-manylinux_2_17_x86_64.manylinux2014_x86_64.whl (36.3 MB)\n",
      "\u001b[2K     \u001b[90m━━━━━━━━━━━━━━━━━━━━━━━━━━━━━━━━━━━━━━━━\u001b[0m \u001b[32m36.3/36.3 MB\u001b[0m \u001b[31m42.6 MB/s\u001b[0m eta \u001b[36m0:00:00\u001b[0m00:01\u001b[0m00:01\u001b[0m\n",
      "\u001b[?25hCollecting tqdm>=4.59.0 (from great_expectations)\n",
      "  Downloading tqdm-4.65.0-py3-none-any.whl (77 kB)\n",
      "\u001b[2K     \u001b[90m━━━━━━━━━━━━━━━━━━━━━━━━━━━━━━━━━━━━━━━━\u001b[0m \u001b[32m77.1/77.1 kB\u001b[0m \u001b[31m9.4 MB/s\u001b[0m eta \u001b[36m0:00:00\u001b[0m\n",
      "\u001b[?25hRequirement already satisfied: typing-extensions>=3.10.0.0 in ./.local/lib/python3.10/site-packages (from great_expectations) (4.5.0)\n",
      "Collecting tzlocal>=1.2 (from great_expectations)\n",
      "  Downloading tzlocal-5.0.1-py3-none-any.whl (20 kB)\n",
      "Requirement already satisfied: urllib3>=1.26 in ./.local/lib/python3.10/site-packages (from great_expectations) (1.26.12)\n",
      "Requirement already satisfied: numpy>=1.22.4 in ./.local/lib/python3.10/site-packages (from great_expectations) (1.24.3)\n",
      "Collecting pandas>=1.3.0 (from great_expectations)\n",
      "  Downloading pandas-2.0.3-cp310-cp310-manylinux_2_17_x86_64.manylinux2014_x86_64.whl (12.3 MB)\n",
      "\u001b[2K     \u001b[90m━━━━━━━━━━━━━━━━━━━━━━━━━━━━━━━━━━━━━━━━\u001b[0m \u001b[32m12.3/12.3 MB\u001b[0m \u001b[31m63.9 MB/s\u001b[0m eta \u001b[36m0:00:00\u001b[0m00:01\u001b[0m00:01\u001b[0m\n",
      "\u001b[?25hRequirement already satisfied: entrypoints in ./.local/lib/python3.10/site-packages (from altair<5.0.0,>=4.2.1->great_expectations) (0.4)\n",
      "Collecting toolz (from altair<5.0.0,>=4.2.1->great_expectations)\n",
      "  Downloading toolz-0.12.0-py3-none-any.whl (55 kB)\n",
      "\u001b[2K     \u001b[90m━━━━━━━━━━━━━━━━━━━━━━━━━━━━━━━━━━━━━━━━\u001b[0m \u001b[32m55.8/55.8 kB\u001b[0m \u001b[31m6.5 MB/s\u001b[0m eta \u001b[36m0:00:00\u001b[0m\n",
      "\u001b[?25hRequirement already satisfied: backcall in ./.local/lib/python3.10/site-packages (from Ipython>=7.16.3->great_expectations) (0.2.0)\n",
      "Requirement already satisfied: decorator in ./.local/lib/python3.10/site-packages (from Ipython>=7.16.3->great_expectations) (5.1.1)\n",
      "Requirement already satisfied: jedi>=0.16 in ./.local/lib/python3.10/site-packages (from Ipython>=7.16.3->great_expectations) (0.18.1)\n",
      "Requirement already satisfied: matplotlib-inline in ./.local/lib/python3.10/site-packages (from Ipython>=7.16.3->great_expectations) (0.1.6)\n",
      "Requirement already satisfied: pickleshare in ./.local/lib/python3.10/site-packages (from Ipython>=7.16.3->great_expectations) (0.7.5)\n",
      "Requirement already satisfied: prompt-toolkit<3.1.0,>3.0.1 in ./.local/lib/python3.10/site-packages (from Ipython>=7.16.3->great_expectations) (3.0.32)\n",
      "Requirement already satisfied: pygments>=2.4.0 in ./.local/lib/python3.10/site-packages (from Ipython>=7.16.3->great_expectations) (2.13.0)\n",
      "Requirement already satisfied: stack-data in ./.local/lib/python3.10/site-packages (from Ipython>=7.16.3->great_expectations) (0.6.0)\n",
      "Requirement already satisfied: traitlets>=5 in ./.local/lib/python3.10/site-packages (from Ipython>=7.16.3->great_expectations) (5.5.0)\n",
      "Requirement already satisfied: pexpect>4.3 in ./.local/lib/python3.10/site-packages (from Ipython>=7.16.3->great_expectations) (4.8.0)\n",
      "Collecting comm>=0.1.3 (from ipywidgets>=7.5.1->great_expectations)\n",
      "  Downloading comm-0.1.4-py3-none-any.whl (6.6 kB)\n",
      "Collecting widgetsnbextension~=4.0.7 (from ipywidgets>=7.5.1->great_expectations)\n",
      "  Downloading widgetsnbextension-4.0.8-py3-none-any.whl (2.3 MB)\n",
      "\u001b[2K     \u001b[90m━━━━━━━━━━━━━━━━━━━━━━━━━━━━━━━━━━━━━━━━\u001b[0m \u001b[32m2.3/2.3 MB\u001b[0m \u001b[31m46.1 MB/s\u001b[0m eta \u001b[36m0:00:00\u001b[0ma \u001b[36m0:00:01\u001b[0m\n",
      "\u001b[?25hCollecting jupyterlab-widgets~=3.0.7 (from ipywidgets>=7.5.1->great_expectations)\n",
      "  Downloading jupyterlab_widgets-3.0.8-py3-none-any.whl (214 kB)\n",
      "\u001b[2K     \u001b[90m━━━━━━━━━━━━━━━━━━━━━━━━━━━━━━━━━━━━━━\u001b[0m \u001b[32m215.0/215.0 kB\u001b[0m \u001b[31m20.4 MB/s\u001b[0m eta \u001b[36m0:00:00\u001b[0m\n",
      "\u001b[?25hRequirement already satisfied: MarkupSafe>=2.0 in ./.local/lib/python3.10/site-packages (from jinja2>=2.10->great_expectations) (2.1.1)\n",
      "Collecting jsonpointer>=1.9 (from jsonpatch>=1.22->great_expectations)\n",
      "  Downloading jsonpointer-2.4-py2.py3-none-any.whl (7.8 kB)\n",
      "Requirement already satisfied: attrs>=17.4.0 in ./.local/lib/python3.10/site-packages (from jsonschema>=2.5.1->great_expectations) (22.1.0)\n",
      "Requirement already satisfied: pyrsistent!=0.17.0,!=0.17.1,!=0.17.2,>=0.14.0 in ./.local/lib/python3.10/site-packages (from jsonschema>=2.5.1->great_expectations) (0.19.2)\n",
      "Requirement already satisfied: fastjsonschema in ./.local/lib/python3.10/site-packages (from nbformat>=5.0->great_expectations) (2.16.2)\n",
      "Requirement already satisfied: jupyter-core in ./.local/lib/python3.10/site-packages (from nbformat>=5.0->great_expectations) (4.11.2)\n",
      "Requirement already satisfied: tornado>=6.1 in ./.local/lib/python3.10/site-packages (from notebook>=6.4.10->great_expectations) (6.2)\n",
      "Requirement already satisfied: pyzmq>=17 in ./.local/lib/python3.10/site-packages (from notebook>=6.4.10->great_expectations) (24.0.1)\n",
      "Requirement already satisfied: argon2-cffi in ./.local/lib/python3.10/site-packages (from notebook>=6.4.10->great_expectations) (21.3.0)\n",
      "Requirement already satisfied: jupyter-client>=5.3.4 in ./.local/lib/python3.10/site-packages (from notebook>=6.4.10->great_expectations) (7.4.4)\n",
      "Requirement already satisfied: ipython-genutils in ./.local/lib/python3.10/site-packages (from notebook>=6.4.10->great_expectations) (0.2.0)\n",
      "Requirement already satisfied: nbconvert>=5 in ./.local/lib/python3.10/site-packages (from notebook>=6.4.10->great_expectations) (7.2.3)\n",
      "Requirement already satisfied: nest-asyncio>=1.5 in ./.local/lib/python3.10/site-packages (from notebook>=6.4.10->great_expectations) (1.5.6)\n",
      "Requirement already satisfied: ipykernel in ./.local/lib/python3.10/site-packages (from notebook>=6.4.10->great_expectations) (6.17.0)\n",
      "Requirement already satisfied: Send2Trash>=1.8.0 in ./.local/lib/python3.10/site-packages (from notebook>=6.4.10->great_expectations) (1.8.0)\n",
      "Requirement already satisfied: terminado>=0.8.3 in ./.local/lib/python3.10/site-packages (from notebook>=6.4.10->great_expectations) (0.17.0)\n",
      "Requirement already satisfied: prometheus-client in ./.local/lib/python3.10/site-packages (from notebook>=6.4.10->great_expectations) (0.15.0)\n",
      "Requirement already satisfied: nbclassic>=0.4.7 in ./.local/lib/python3.10/site-packages (from notebook>=6.4.10->great_expectations) (0.4.8)\n",
      "Collecting tzdata>=2022.1 (from pandas>=1.3.0->great_expectations)\n",
      "  Downloading tzdata-2023.3-py2.py3-none-any.whl (341 kB)\n",
      "\u001b[2K     \u001b[90m━━━━━━━━━━━━━━━━━━━━━━━━━━━━━━━━━━━━━━\u001b[0m \u001b[32m341.8/341.8 kB\u001b[0m \u001b[31m26.1 MB/s\u001b[0m eta \u001b[36m0:00:00\u001b[0m\n",
      "\u001b[?25hRequirement already satisfied: six>=1.5 in /usr/lib/python3/dist-packages (from python-dateutil>=2.8.1->great_expectations) (1.16.0)\n",
      "Requirement already satisfied: charset-normalizer<3,>=2 in ./.local/lib/python3.10/site-packages (from requests>=2.20->great_expectations) (2.1.1)\n",
      "Requirement already satisfied: idna<4,>=2.5 in ./.local/lib/python3.10/site-packages (from requests>=2.20->great_expectations) (3.4)\n",
      "Requirement already satisfied: certifi>=2017.4.17 in ./.local/lib/python3.10/site-packages (from requests>=2.20->great_expectations) (2022.9.24)\n",
      "Requirement already satisfied: parso<0.9.0,>=0.8.0 in ./.local/lib/python3.10/site-packages (from jedi>=0.16->Ipython>=7.16.3->great_expectations) (0.8.3)\n",
      "Requirement already satisfied: jupyter-server>=1.8 in ./.local/lib/python3.10/site-packages (from nbclassic>=0.4.7->notebook>=6.4.10->great_expectations) (1.23.0)\n",
      "Requirement already satisfied: notebook-shim>=0.1.0 in ./.local/lib/python3.10/site-packages (from nbclassic>=0.4.7->notebook>=6.4.10->great_expectations) (0.2.2)\n",
      "Requirement already satisfied: beautifulsoup4 in ./.local/lib/python3.10/site-packages (from nbconvert>=5->notebook>=6.4.10->great_expectations) (4.11.1)\n",
      "Requirement already satisfied: bleach in ./.local/lib/python3.10/site-packages (from nbconvert>=5->notebook>=6.4.10->great_expectations) (5.0.1)\n",
      "Requirement already satisfied: defusedxml in ./.local/lib/python3.10/site-packages (from nbconvert>=5->notebook>=6.4.10->great_expectations) (0.7.1)\n",
      "Requirement already satisfied: jupyterlab-pygments in ./.local/lib/python3.10/site-packages (from nbconvert>=5->notebook>=6.4.10->great_expectations) (0.2.2)\n",
      "Requirement already satisfied: nbclient>=0.5.0 in ./.local/lib/python3.10/site-packages (from nbconvert>=5->notebook>=6.4.10->great_expectations) (0.7.0)\n",
      "Requirement already satisfied: pandocfilters>=1.4.1 in ./.local/lib/python3.10/site-packages (from nbconvert>=5->notebook>=6.4.10->great_expectations) (1.5.0)\n",
      "Requirement already satisfied: tinycss2 in ./.local/lib/python3.10/site-packages (from nbconvert>=5->notebook>=6.4.10->great_expectations) (1.2.1)\n",
      "Requirement already satisfied: ptyprocess>=0.5 in ./.local/lib/python3.10/site-packages (from pexpect>4.3->Ipython>=7.16.3->great_expectations) (0.7.0)\n",
      "Requirement already satisfied: wcwidth in ./.local/lib/python3.10/site-packages (from prompt-toolkit<3.1.0,>3.0.1->Ipython>=7.16.3->great_expectations) (0.2.5)\n",
      "Requirement already satisfied: argon2-cffi-bindings in ./.local/lib/python3.10/site-packages (from argon2-cffi->notebook>=6.4.10->great_expectations) (21.2.0)\n",
      "Requirement already satisfied: debugpy>=1.0 in ./.local/lib/python3.10/site-packages (from ipykernel->notebook>=6.4.10->great_expectations) (1.6.3)\n",
      "Requirement already satisfied: psutil in ./.local/lib/python3.10/site-packages (from ipykernel->notebook>=6.4.10->great_expectations) (5.9.4)\n",
      "Requirement already satisfied: executing>=1.2.0 in ./.local/lib/python3.10/site-packages (from stack-data->Ipython>=7.16.3->great_expectations) (1.2.0)\n",
      "Requirement already satisfied: asttokens>=2.1.0 in ./.local/lib/python3.10/site-packages (from stack-data->Ipython>=7.16.3->great_expectations) (2.1.0)\n",
      "Requirement already satisfied: pure-eval in ./.local/lib/python3.10/site-packages (from stack-data->Ipython>=7.16.3->great_expectations) (0.2.2)\n",
      "Requirement already satisfied: anyio<4,>=3.1.0 in ./.local/lib/python3.10/site-packages (from jupyter-server>=1.8->nbclassic>=0.4.7->notebook>=6.4.10->great_expectations) (3.6.2)\n",
      "Requirement already satisfied: websocket-client in ./.local/lib/python3.10/site-packages (from jupyter-server>=1.8->nbclassic>=0.4.7->notebook>=6.4.10->great_expectations) (1.4.2)\n",
      "Requirement already satisfied: cffi>=1.0.1 in ./.local/lib/python3.10/site-packages (from argon2-cffi-bindings->argon2-cffi->notebook>=6.4.10->great_expectations) (1.15.1)\n",
      "Requirement already satisfied: soupsieve>1.2 in ./.local/lib/python3.10/site-packages (from beautifulsoup4->nbconvert>=5->notebook>=6.4.10->great_expectations) (2.3.2.post1)\n",
      "Requirement already satisfied: webencodings in ./.local/lib/python3.10/site-packages (from bleach->nbconvert>=5->notebook>=6.4.10->great_expectations) (0.5.1)\n",
      "Requirement already satisfied: sniffio>=1.1 in ./.local/lib/python3.10/site-packages (from anyio<4,>=3.1.0->jupyter-server>=1.8->nbclassic>=0.4.7->notebook>=6.4.10->great_expectations) (1.3.0)\n",
      "Requirement already satisfied: pycparser in ./.local/lib/python3.10/site-packages (from cffi>=1.0.1->argon2-cffi-bindings->argon2-cffi->notebook>=6.4.10->great_expectations) (2.21)\n",
      "Installing collected packages: makefun, widgetsnbextension, tzlocal, tzdata, tqdm, toolz, scipy, ruamel.yaml, pydantic, jupyterlab-widgets, jsonpointer, comm, colorama, Click, pandas, marshmallow, jsonpatch, altair, ipywidgets, great_expectations\n",
      "Successfully installed Click-8.1.3 altair-4.2.2 colorama-0.4.6 comm-0.1.4 great_expectations-0.17.7 ipywidgets-8.1.0 jsonpatch-1.33 jsonpointer-2.4 jupyterlab-widgets-3.0.8 makefun-1.15.1 marshmallow-3.20.1 pandas-2.0.3 pydantic-1.10.12 ruamel.yaml-0.17.17 scipy-1.11.1 toolz-0.12.0 tqdm-4.65.0 tzdata-2023.3 tzlocal-5.0.1 widgetsnbextension-4.0.8\n",
      "\n",
      "\u001b[1m[\u001b[0m\u001b[34;49mnotice\u001b[0m\u001b[1;39;49m]\u001b[0m\u001b[39;49m A new release of pip is available: \u001b[0m\u001b[31;49m23.1.2\u001b[0m\u001b[39;49m -> \u001b[0m\u001b[32;49m23.2.1\u001b[0m\n",
      "\u001b[1m[\u001b[0m\u001b[34;49mnotice\u001b[0m\u001b[1;39;49m]\u001b[0m\u001b[39;49m To update, run: \u001b[0m\u001b[32;49mpython3 -m pip install --upgrade pip\u001b[0m\n"
     ]
    }
   ],
   "source": [
    "!pip install great_expectations sqlalchemy sqlite3"
   ]
  },
  {
   "cell_type": "code",
   "execution_count": 33,
   "id": "e22f8341-e5c9-45d6-a492-7ecb1c833eca",
   "metadata": {},
   "outputs": [
    {
     "name": "stdout",
     "output_type": "stream",
     "text": [
      "\u001b[36m\n",
      "  ___              _     ___                  _        _   _\n",
      " / __|_ _ ___ __ _| |_  | __|_ ___ __  ___ __| |_ __ _| |_(_)___ _ _  ___\n",
      "| (_ | '_/ -_) _` |  _| | _|\\ \\ / '_ \\/ -_) _|  _/ _` |  _| / _ \\ ' \\(_-<\n",
      " \\___|_| \\___\\__,_|\\__| |___/_\\_\\ .__/\\___\\__|\\__\\__,_|\\__|_\\___/_||_/__/\n",
      "                                |_|\n",
      "             ~ Always know what to expect from your data ~\n",
      "\u001b[0m\n",
      "This looks like an existing project that \u001b[32mappears complete!\u001b[0m You are \u001b[32mready to roll.\u001b[0m\n",
      "\n",
      "\u001b[0m"
     ]
    }
   ],
   "source": [
    "# Create a Great Expectations project\n",
    "!great_expectations init"
   ]
  },
  {
   "cell_type": "markdown",
   "id": "661d561c-dc24-4763-be51-1b596f29cbfc",
   "metadata": {},
   "source": [
    "<h3> 1. Imports </h3>"
   ]
  },
  {
   "cell_type": "code",
   "execution_count": 1,
   "id": "3a858fdf-a576-4bfb-8c2a-b2fd08f29091",
   "metadata": {
    "tags": []
   },
   "outputs": [],
   "source": [
    "import pandas as pd\n",
    "import sqlite3\n",
    "from sqlalchemy import create_engine\n",
    "import os"
   ]
  },
  {
   "cell_type": "code",
   "execution_count": 2,
   "id": "40211e16-9560-43c7-99d0-465e644d00c5",
   "metadata": {
    "tags": []
   },
   "outputs": [
    {
     "name": "stdout",
     "output_type": "stream",
     "text": [
      "2023-08-29T10:06:58-0300 - INFO - Great Expectations logging enabled at 20 level by JupyterUX module.\n"
     ]
    }
   ],
   "source": [
    "import great_expectations as gx\n",
    "import great_expectations.jupyter_ux"
   ]
  },
  {
   "cell_type": "markdown",
   "id": "cbb774ac-ab7e-4fbc-a5c1-4f62aea6044e",
   "metadata": {},
   "source": [
    "<h3> 2. Setting up the data, Data Context and Data Source </h3>"
   ]
  },
  {
   "cell_type": "code",
   "execution_count": 18,
   "id": "1c5ce4a2-a4f3-4503-ad7a-1ba467ce0103",
   "metadata": {},
   "outputs": [
    {
     "name": "stdout",
     "output_type": "stream",
     "text": [
      "2023-08-29T17:46:14-0300 - INFO - FileDataContext loading fluent config\n",
      "2023-08-29T17:46:14-0300 - INFO - Loading 'datasources' ->\n",
      "[{'assets': [...],\n",
      "  'connection_string': 'sqlite:///jobsalary.db',\n",
      "  'name': 'salary',\n",
      "  'type': 'sql'},\n",
      " {'name': 'default_pandas_datasource', 'type': 'pandas'}]\n",
      "2023-08-29T17:46:14-0300 - INFO - Loaded 'salary' from fluent config\n",
      "2023-08-29T17:46:14-0300 - INFO - Saving 1 Fluent Datasources to /home/andro/great_expectations/great_expectations.yml\n",
      "2023-08-29T17:46:14-0300 - INFO - SQLDatasource.dict() - substituting config values\n",
      "The datasource of that name already exists\n"
     ]
    }
   ],
   "source": [
    "filename = 'downloaded_content.csv'\n",
    "db_filename = 'jobsalary.db'\n",
    "source_name = 'salary'\n",
    "if filename not in os.listdir():\n",
    "    !wget --output-file=\"logs.csv\" \"https://docs.google.com/spreadsheets/d/1IPS5dBSGtwYVbjsfbaMCYIWnOuRmJcbequohNxCyGVw/export?format=csv&gid=1625408792\" -O \"downloaded_content.csv\"\n",
    "\n",
    "if db_filename not in os.listdir():\n",
    "    df = pd.read_csv('downloaded_content.csv')\n",
    "    # new_columns = ['Timestamp', 'Age', 'Industry', 'Title', 'Title_Description', 'Salary', 'Bonus', 'CurrencyA', 'CurrencyB', 'Income_Context', 'Country', 'US_State', 'City', 'Overall_Experience', 'Field_Experience', 'Education', 'Gender', 'Race']\n",
    "    new_columns = [x.lower() for x in ['Timestamp', 'Age', 'Industry', 'Title', 'Title_Description', 'Salary', 'Bonus', 'CurrencyA', 'CurrencyB', 'Income_Context', 'Country', 'US_State', 'City', 'Overall_Experience', 'Field_Experience', 'Education', 'Gender', 'Race']]\n",
    "    df.columns = new_columns\n",
    "    disk_engine = create_engine('sqlite:///jobsalary.db')\n",
    "    df.to_sql('salary', disk_engine, if_exists='replace')\n",
    "    \n",
    "context = gx.get_context()\n",
    "try:\n",
    "    context.sources.add_sql(name=source_name, connection_string='sqlite:///jobsalary.db')\n",
    "except:\n",
    "    print('The datasource of that name already exists')"
   ]
  },
  {
   "cell_type": "markdown",
   "id": "76977482-65d0-48ac-b9cc-46fa1e14a49f",
   "metadata": {},
   "source": [
    "<h3> 3. Create a Batch Request </h3>"
   ]
  },
  {
   "cell_type": "code",
   "execution_count": 28,
   "id": "da4d0117-2225-4ab4-bf46-32126e0b4b30",
   "metadata": {},
   "outputs": [],
   "source": [
    "salary_asset = context.datasources[\n",
    "    \"salary\"\n",
    "].get_asset(\"salary\")\n",
    "\n",
    "full_batch_salary_batch_request = (\n",
    "    salary_asset.build_batch_request()\n",
    ")"
   ]
  },
  {
   "cell_type": "markdown",
   "id": "37050751-d741-4f94-b0bc-31bf950646a4",
   "metadata": {},
   "source": [
    "<h3> 4. Configure Expectation Suite in Context </h3>"
   ]
  },
  {
   "cell_type": "code",
   "execution_count": 29,
   "id": "49fdda28-1833-4fb3-a171-f87d6d375437",
   "metadata": {
    "tags": []
   },
   "outputs": [],
   "source": [
    "expectation_suite_name = \"salary_expectation_suite\"\n",
    "\n",
    "expectation_suite = context.add_or_update_expectation_suite(\n",
    "    expectation_suite_name=expectation_suite_name\n",
    ")"
   ]
  },
  {
   "cell_type": "markdown",
   "id": "4cd0ce4d-46f4-4444-8907-2106d883174d",
   "metadata": {},
   "source": [
    "<h2> <u> We have a few options when approaching setting un Expectations </u></h2>"
   ]
  },
  {
   "cell_type": "markdown",
   "id": "0ed37ff2-c50f-457e-9bd2-f188b2f445c1",
   "metadata": {},
   "source": [
    "<h2> Option 1: Creating an Expectation Suiste using Data Assistant </h2>"
   ]
  },
  {
   "cell_type": "markdown",
   "id": "df8a2880-7987-4952-9a1b-4564bf5ea092",
   "metadata": {},
   "source": [
    "<h3> 5. Run the Data Assistant on the Batch </h3>"
   ]
  },
  {
   "cell_type": "code",
   "execution_count": 30,
   "id": "fd06f94d-48a8-440e-9015-44dc55a453cc",
   "metadata": {
    "collapsed": true,
    "jupyter": {
     "outputs_hidden": true
    },
    "tags": []
   },
   "outputs": [
    {
     "name": "stdout",
     "output_type": "stream",
     "text": [
      "2023-08-29T17:59:13-0300 - INFO - SQLDatasource.dict() - substituting config values\n",
      "2023-08-29T17:59:13-0300 - INFO - A new sqlite connection was created: <sqlite3.Connection object at 0x7fd9e798a740>, <sqlalchemy.pool.base._ConnectionRecord object at 0x7fd9e773b580>\n",
      "2023-08-29T17:59:13-0300 - INFO - Adding custom sqlite functions to connection <sqlite3.Connection object at 0x7fd9e798a740>\n",
      "2023-08-29T17:59:13-0300 - INFO - Adding custom sqlite functions to connection <sqlalchemy.pool.base._ConnectionFairy object at 0x7fd9e773bd60>\n",
      "2023-08-29T17:59:14-0300 - INFO - batch_slice: None was parsed to: slice(0, None, None)\n",
      "\n"
     ]
    },
    {
     "data": {
      "application/vnd.jupyter.widget-view+json": {
       "model_id": "c2a516e485c44ea4bedb4b0199fb7401",
       "version_major": 2,
       "version_minor": 0
      },
      "text/plain": [
       "Generating Expectations:   0%|          | 0/8 [00:00<?, ?it/s]"
      ]
     },
     "metadata": {},
     "output_type": "display_data"
    },
    {
     "data": {
      "application/vnd.jupyter.widget-view+json": {
       "model_id": "",
       "version_major": 2,
       "version_minor": 0
      },
      "text/plain": [
       "Profiling Dataset:         0%|          | 0/1 [00:00<?, ?it/s]"
      ]
     },
     "metadata": {},
     "output_type": "display_data"
    },
    {
     "data": {
      "application/vnd.jupyter.widget-view+json": {
       "model_id": "3d94f283d8d445bdbe734b58cdd20884",
       "version_major": 2,
       "version_minor": 0
      },
      "text/plain": [
       "Calculating Metrics:   0%|          | 0/2 [00:00<?, ?it/s]"
      ]
     },
     "metadata": {},
     "output_type": "display_data"
    },
    {
     "data": {
      "application/vnd.jupyter.widget-view+json": {
       "model_id": "8e50b2874070467b93c3568a6683cdda",
       "version_major": 2,
       "version_minor": 0
      },
      "text/plain": [
       "Calculating Metrics:   0%|          | 0/2 [00:00<?, ?it/s]"
      ]
     },
     "metadata": {},
     "output_type": "display_data"
    },
    {
     "data": {
      "application/vnd.jupyter.widget-view+json": {
       "model_id": "a55f45267b074330b7d15b646cc50a33",
       "version_major": 2,
       "version_minor": 0
      },
      "text/plain": [
       "Calculating Metrics:   0%|          | 0/2 [00:00<?, ?it/s]"
      ]
     },
     "metadata": {},
     "output_type": "display_data"
    },
    {
     "data": {
      "application/vnd.jupyter.widget-view+json": {
       "model_id": "fb094d3c79c7499a8c275057c08916d8",
       "version_major": 2,
       "version_minor": 0
      },
      "text/plain": [
       "Calculating Metrics:   0%|          | 0/2 [00:00<?, ?it/s]"
      ]
     },
     "metadata": {},
     "output_type": "display_data"
    },
    {
     "data": {
      "application/vnd.jupyter.widget-view+json": {
       "model_id": "bb543c15d6aa435c934a850e58ecd048",
       "version_major": 2,
       "version_minor": 0
      },
      "text/plain": [
       "Calculating Metrics:   0%|          | 0/1 [00:00<?, ?it/s]"
      ]
     },
     "metadata": {},
     "output_type": "display_data"
    },
    {
     "data": {
      "application/vnd.jupyter.widget-view+json": {
       "model_id": "6e56dcf346bb4dc6829c352e9968b1e6",
       "version_major": 2,
       "version_minor": 0
      },
      "text/plain": [
       "Calculating Metrics:   0%|          | 0/2 [00:00<?, ?it/s]"
      ]
     },
     "metadata": {},
     "output_type": "display_data"
    },
    {
     "data": {
      "application/vnd.jupyter.widget-view+json": {
       "model_id": "96bc3832387446789f78a3bdbc2e3077",
       "version_major": 2,
       "version_minor": 0
      },
      "text/plain": [
       "Calculating Metrics:   0%|          | 0/42 [00:00<?, ?it/s]"
      ]
     },
     "metadata": {},
     "output_type": "display_data"
    },
    {
     "data": {
      "application/vnd.jupyter.widget-view+json": {
       "model_id": "",
       "version_major": 2,
       "version_minor": 0
      },
      "text/plain": [
       "Profiling Dataset:         0%|          | 0/1 [00:00<?, ?it/s]"
      ]
     },
     "metadata": {},
     "output_type": "display_data"
    },
    {
     "data": {
      "application/vnd.jupyter.widget-view+json": {
       "model_id": "13b0edebad0840a3a59c1edde6f94298",
       "version_major": 2,
       "version_minor": 0
      },
      "text/plain": [
       "Calculating Metrics:   0%|          | 0/6 [00:00<?, ?it/s]"
      ]
     },
     "metadata": {},
     "output_type": "display_data"
    },
    {
     "data": {
      "application/vnd.jupyter.widget-view+json": {
       "model_id": "c715238851f5447e8a433e8a99bd6827",
       "version_major": 2,
       "version_minor": 0
      },
      "text/plain": [
       "Calculating Metrics:   0%|          | 0/2 [00:00<?, ?it/s]"
      ]
     },
     "metadata": {},
     "output_type": "display_data"
    },
    {
     "data": {
      "application/vnd.jupyter.widget-view+json": {
       "model_id": "e21e9168195d484484befa594ca51777",
       "version_major": 2,
       "version_minor": 0
      },
      "text/plain": [
       "Calculating Metrics:   0%|          | 0/7 [00:00<?, ?it/s]"
      ]
     },
     "metadata": {},
     "output_type": "display_data"
    },
    {
     "data": {
      "application/vnd.jupyter.widget-view+json": {
       "model_id": "fff679116bfc4282a06633ecc9f56077",
       "version_major": 2,
       "version_minor": 0
      },
      "text/plain": [
       "Calculating Metrics:   0%|          | 0/6 [00:00<?, ?it/s]"
      ]
     },
     "metadata": {},
     "output_type": "display_data"
    },
    {
     "data": {
      "application/vnd.jupyter.widget-view+json": {
       "model_id": "16d58424269a42188a8174cf0a71aaeb",
       "version_major": 2,
       "version_minor": 0
      },
      "text/plain": [
       "Calculating Metrics:   0%|          | 0/2 [00:00<?, ?it/s]"
      ]
     },
     "metadata": {},
     "output_type": "display_data"
    },
    {
     "data": {
      "application/vnd.jupyter.widget-view+json": {
       "model_id": "7a4540462c3941dcb1d688ab3bb7c1bf",
       "version_major": 2,
       "version_minor": 0
      },
      "text/plain": [
       "Calculating Metrics:   0%|          | 0/1 [00:00<?, ?it/s]"
      ]
     },
     "metadata": {},
     "output_type": "display_data"
    },
    {
     "data": {
      "application/vnd.jupyter.widget-view+json": {
       "model_id": "cee70c976dac4a2b97eeca4486061f8d",
       "version_major": 2,
       "version_minor": 0
      },
      "text/plain": [
       "Calculating Metrics:   0%|          | 0/2 [00:00<?, ?it/s]"
      ]
     },
     "metadata": {},
     "output_type": "display_data"
    },
    {
     "data": {
      "application/vnd.jupyter.widget-view+json": {
       "model_id": "ba4bb00b7eba49a49364c50ad78df59b",
       "version_major": 2,
       "version_minor": 0
      },
      "text/plain": [
       "Calculating Metrics:   0%|          | 0/61 [00:00<?, ?it/s]"
      ]
     },
     "metadata": {},
     "output_type": "display_data"
    },
    {
     "data": {
      "application/vnd.jupyter.widget-view+json": {
       "model_id": "",
       "version_major": 2,
       "version_minor": 0
      },
      "text/plain": [
       "Profiling Dataset:         0%|          | 0/0 [00:00<?, ?it/s]"
      ]
     },
     "metadata": {},
     "output_type": "display_data"
    },
    {
     "data": {
      "application/vnd.jupyter.widget-view+json": {
       "model_id": "b9e16081fde54fce9126d4cdf78316a7",
       "version_major": 2,
       "version_minor": 0
      },
      "text/plain": [
       "Calculating Metrics:   0%|          | 0/2 [00:00<?, ?it/s]"
      ]
     },
     "metadata": {},
     "output_type": "display_data"
    },
    {
     "data": {
      "application/vnd.jupyter.widget-view+json": {
       "model_id": "215f05ab3d41473bae131348cc6e830f",
       "version_major": 2,
       "version_minor": 0
      },
      "text/plain": [
       "Calculating Metrics:   0%|          | 0/1 [00:00<?, ?it/s]"
      ]
     },
     "metadata": {},
     "output_type": "display_data"
    },
    {
     "data": {
      "application/vnd.jupyter.widget-view+json": {
       "model_id": "e54cc3ae544f47a4bb11053fca8a9f40",
       "version_major": 2,
       "version_minor": 0
      },
      "text/plain": [
       "Calculating Metrics:   0%|          | 0/2 [00:00<?, ?it/s]"
      ]
     },
     "metadata": {},
     "output_type": "display_data"
    },
    {
     "data": {
      "application/vnd.jupyter.widget-view+json": {
       "model_id": "d0c28b3acd954d898d3d45f7a1f1baed",
       "version_major": 2,
       "version_minor": 0
      },
      "text/plain": [
       "Calculating Metrics:   0%|          | 0/61 [00:00<?, ?it/s]"
      ]
     },
     "metadata": {},
     "output_type": "display_data"
    },
    {
     "data": {
      "application/vnd.jupyter.widget-view+json": {
       "model_id": "",
       "version_major": 2,
       "version_minor": 0
      },
      "text/plain": [
       "Profiling Dataset:         0%|          | 0/9 [00:00<?, ?it/s]"
      ]
     },
     "metadata": {},
     "output_type": "display_data"
    },
    {
     "data": {
      "application/vnd.jupyter.widget-view+json": {
       "model_id": "e847a94320f94a159e970b4424be1feb",
       "version_major": 2,
       "version_minor": 0
      },
      "text/plain": [
       "Calculating Metrics:   0%|          | 0/7 [00:00<?, ?it/s]"
      ]
     },
     "metadata": {},
     "output_type": "display_data"
    },
    {
     "data": {
      "application/vnd.jupyter.widget-view+json": {
       "model_id": "09802ae3fb0c44dd984261e9fcbcf936",
       "version_major": 2,
       "version_minor": 0
      },
      "text/plain": [
       "Calculating Metrics:   0%|          | 0/2 [00:00<?, ?it/s]"
      ]
     },
     "metadata": {},
     "output_type": "display_data"
    },
    {
     "data": {
      "application/vnd.jupyter.widget-view+json": {
       "model_id": "0b80ba596d3a4097bccf43d7335662fd",
       "version_major": 2,
       "version_minor": 0
      },
      "text/plain": [
       "Calculating Metrics:   0%|          | 0/7 [00:00<?, ?it/s]"
      ]
     },
     "metadata": {},
     "output_type": "display_data"
    },
    {
     "data": {
      "application/vnd.jupyter.widget-view+json": {
       "model_id": "d1af300fc4d14253b0fafd2d03de30ba",
       "version_major": 2,
       "version_minor": 0
      },
      "text/plain": [
       "Calculating Metrics:   0%|          | 0/7 [00:00<?, ?it/s]"
      ]
     },
     "metadata": {},
     "output_type": "display_data"
    },
    {
     "data": {
      "application/vnd.jupyter.widget-view+json": {
       "model_id": "d2bf6e503f234fc39f5f59001931d0f4",
       "version_major": 2,
       "version_minor": 0
      },
      "text/plain": [
       "Calculating Metrics:   0%|          | 0/7 [00:00<?, ?it/s]"
      ]
     },
     "metadata": {},
     "output_type": "display_data"
    },
    {
     "data": {
      "application/vnd.jupyter.widget-view+json": {
       "model_id": "8ad1453e39764d2792c01ce517d33207",
       "version_major": 2,
       "version_minor": 0
      },
      "text/plain": [
       "Calculating Metrics:   0%|          | 0/2 [00:00<?, ?it/s]"
      ]
     },
     "metadata": {},
     "output_type": "display_data"
    },
    {
     "data": {
      "application/vnd.jupyter.widget-view+json": {
       "model_id": "d1112b99264b4c6283306363d7de8d10",
       "version_major": 2,
       "version_minor": 0
      },
      "text/plain": [
       "Calculating Metrics:   0%|          | 0/7 [00:00<?, ?it/s]"
      ]
     },
     "metadata": {},
     "output_type": "display_data"
    },
    {
     "data": {
      "application/vnd.jupyter.widget-view+json": {
       "model_id": "cfdafb90b5e74e24bc1b7449658910a4",
       "version_major": 2,
       "version_minor": 0
      },
      "text/plain": [
       "Calculating Metrics:   0%|          | 0/7 [00:00<?, ?it/s]"
      ]
     },
     "metadata": {},
     "output_type": "display_data"
    },
    {
     "data": {
      "application/vnd.jupyter.widget-view+json": {
       "model_id": "fc9a41b8983b4da3af19d7877d1d963f",
       "version_major": 2,
       "version_minor": 0
      },
      "text/plain": [
       "Calculating Metrics:   0%|          | 0/7 [00:00<?, ?it/s]"
      ]
     },
     "metadata": {},
     "output_type": "display_data"
    },
    {
     "data": {
      "application/vnd.jupyter.widget-view+json": {
       "model_id": "085f65cf34b34a9ca62d457786605eeb",
       "version_major": 2,
       "version_minor": 0
      },
      "text/plain": [
       "Calculating Metrics:   0%|          | 0/2 [00:00<?, ?it/s]"
      ]
     },
     "metadata": {},
     "output_type": "display_data"
    },
    {
     "data": {
      "application/vnd.jupyter.widget-view+json": {
       "model_id": "2779b28905004964ac97d71d1a1574db",
       "version_major": 2,
       "version_minor": 0
      },
      "text/plain": [
       "Calculating Metrics:   0%|          | 0/7 [00:00<?, ?it/s]"
      ]
     },
     "metadata": {},
     "output_type": "display_data"
    },
    {
     "data": {
      "application/vnd.jupyter.widget-view+json": {
       "model_id": "3e8d3811b3694ef9ad90ce8d4dd44fb4",
       "version_major": 2,
       "version_minor": 0
      },
      "text/plain": [
       "Calculating Metrics:   0%|          | 0/7 [00:00<?, ?it/s]"
      ]
     },
     "metadata": {},
     "output_type": "display_data"
    },
    {
     "data": {
      "application/vnd.jupyter.widget-view+json": {
       "model_id": "aee4b8c04dbb49d9b401f6c1726eb664",
       "version_major": 2,
       "version_minor": 0
      },
      "text/plain": [
       "Calculating Metrics:   0%|          | 0/7 [00:00<?, ?it/s]"
      ]
     },
     "metadata": {},
     "output_type": "display_data"
    },
    {
     "data": {
      "application/vnd.jupyter.widget-view+json": {
       "model_id": "98ac8095900b4d64ad700ca78ac59687",
       "version_major": 2,
       "version_minor": 0
      },
      "text/plain": [
       "Calculating Metrics:   0%|          | 0/2 [00:00<?, ?it/s]"
      ]
     },
     "metadata": {},
     "output_type": "display_data"
    },
    {
     "data": {
      "application/vnd.jupyter.widget-view+json": {
       "model_id": "00ae954146d44beaaa9cc618ac1ee350",
       "version_major": 2,
       "version_minor": 0
      },
      "text/plain": [
       "Calculating Metrics:   0%|          | 0/7 [00:00<?, ?it/s]"
      ]
     },
     "metadata": {},
     "output_type": "display_data"
    },
    {
     "data": {
      "application/vnd.jupyter.widget-view+json": {
       "model_id": "ed505585073049afb114c44d04f35642",
       "version_major": 2,
       "version_minor": 0
      },
      "text/plain": [
       "Calculating Metrics:   0%|          | 0/7 [00:00<?, ?it/s]"
      ]
     },
     "metadata": {},
     "output_type": "display_data"
    },
    {
     "data": {
      "application/vnd.jupyter.widget-view+json": {
       "model_id": "a34cde5c66f141a18ac287b80216aca5",
       "version_major": 2,
       "version_minor": 0
      },
      "text/plain": [
       "Calculating Metrics:   0%|          | 0/7 [00:00<?, ?it/s]"
      ]
     },
     "metadata": {},
     "output_type": "display_data"
    },
    {
     "data": {
      "application/vnd.jupyter.widget-view+json": {
       "model_id": "90ece19ddd4640a5b3a139d9efe558fd",
       "version_major": 2,
       "version_minor": 0
      },
      "text/plain": [
       "Calculating Metrics:   0%|          | 0/2 [00:00<?, ?it/s]"
      ]
     },
     "metadata": {},
     "output_type": "display_data"
    },
    {
     "data": {
      "application/vnd.jupyter.widget-view+json": {
       "model_id": "78d4e542a9f74c9e805ccd012df76d70",
       "version_major": 2,
       "version_minor": 0
      },
      "text/plain": [
       "Calculating Metrics:   0%|          | 0/7 [00:00<?, ?it/s]"
      ]
     },
     "metadata": {},
     "output_type": "display_data"
    },
    {
     "data": {
      "application/vnd.jupyter.widget-view+json": {
       "model_id": "1ae09018302846bd98d6243d81211894",
       "version_major": 2,
       "version_minor": 0
      },
      "text/plain": [
       "Calculating Metrics:   0%|          | 0/7 [00:00<?, ?it/s]"
      ]
     },
     "metadata": {},
     "output_type": "display_data"
    },
    {
     "data": {
      "application/vnd.jupyter.widget-view+json": {
       "model_id": "1daac8c839f24dd09195424014d43296",
       "version_major": 2,
       "version_minor": 0
      },
      "text/plain": [
       "Calculating Metrics:   0%|          | 0/7 [00:00<?, ?it/s]"
      ]
     },
     "metadata": {},
     "output_type": "display_data"
    },
    {
     "data": {
      "application/vnd.jupyter.widget-view+json": {
       "model_id": "958ff380636545ce8c1fc49c3636a8b7",
       "version_major": 2,
       "version_minor": 0
      },
      "text/plain": [
       "Calculating Metrics:   0%|          | 0/2 [00:00<?, ?it/s]"
      ]
     },
     "metadata": {},
     "output_type": "display_data"
    },
    {
     "data": {
      "application/vnd.jupyter.widget-view+json": {
       "model_id": "e4986d6a4c614e0692083f754ba8f68d",
       "version_major": 2,
       "version_minor": 0
      },
      "text/plain": [
       "Calculating Metrics:   0%|          | 0/7 [00:00<?, ?it/s]"
      ]
     },
     "metadata": {},
     "output_type": "display_data"
    },
    {
     "data": {
      "application/vnd.jupyter.widget-view+json": {
       "model_id": "622fa665177f439bbeba11fea7a0a622",
       "version_major": 2,
       "version_minor": 0
      },
      "text/plain": [
       "Calculating Metrics:   0%|          | 0/7 [00:00<?, ?it/s]"
      ]
     },
     "metadata": {},
     "output_type": "display_data"
    },
    {
     "data": {
      "application/vnd.jupyter.widget-view+json": {
       "model_id": "aac61e889b654e0db2e0aab400b7f437",
       "version_major": 2,
       "version_minor": 0
      },
      "text/plain": [
       "Calculating Metrics:   0%|          | 0/7 [00:00<?, ?it/s]"
      ]
     },
     "metadata": {},
     "output_type": "display_data"
    },
    {
     "data": {
      "application/vnd.jupyter.widget-view+json": {
       "model_id": "fd7b8cea44d743cb9685a87939644470",
       "version_major": 2,
       "version_minor": 0
      },
      "text/plain": [
       "Calculating Metrics:   0%|          | 0/2 [00:00<?, ?it/s]"
      ]
     },
     "metadata": {},
     "output_type": "display_data"
    },
    {
     "data": {
      "application/vnd.jupyter.widget-view+json": {
       "model_id": "7fc14401c0fd412a8dc05657b6bc3b82",
       "version_major": 2,
       "version_minor": 0
      },
      "text/plain": [
       "Calculating Metrics:   0%|          | 0/7 [00:00<?, ?it/s]"
      ]
     },
     "metadata": {},
     "output_type": "display_data"
    },
    {
     "data": {
      "application/vnd.jupyter.widget-view+json": {
       "model_id": "e0c04928fb3c43afbc879b00deec15d6",
       "version_major": 2,
       "version_minor": 0
      },
      "text/plain": [
       "Calculating Metrics:   0%|          | 0/7 [00:00<?, ?it/s]"
      ]
     },
     "metadata": {},
     "output_type": "display_data"
    },
    {
     "data": {
      "application/vnd.jupyter.widget-view+json": {
       "model_id": "8ff54bac4a0340539d988038f17a70fa",
       "version_major": 2,
       "version_minor": 0
      },
      "text/plain": [
       "Calculating Metrics:   0%|          | 0/7 [00:00<?, ?it/s]"
      ]
     },
     "metadata": {},
     "output_type": "display_data"
    },
    {
     "data": {
      "application/vnd.jupyter.widget-view+json": {
       "model_id": "d3d1f282e1a2419d89f4fc798f06480e",
       "version_major": 2,
       "version_minor": 0
      },
      "text/plain": [
       "Calculating Metrics:   0%|          | 0/2 [00:00<?, ?it/s]"
      ]
     },
     "metadata": {},
     "output_type": "display_data"
    },
    {
     "data": {
      "application/vnd.jupyter.widget-view+json": {
       "model_id": "487ec28d5a1248068879613bc66e9011",
       "version_major": 2,
       "version_minor": 0
      },
      "text/plain": [
       "Calculating Metrics:   0%|          | 0/7 [00:00<?, ?it/s]"
      ]
     },
     "metadata": {},
     "output_type": "display_data"
    },
    {
     "data": {
      "application/vnd.jupyter.widget-view+json": {
       "model_id": "e954ff4556f44d92a3edbae369664b22",
       "version_major": 2,
       "version_minor": 0
      },
      "text/plain": [
       "Calculating Metrics:   0%|          | 0/7 [00:00<?, ?it/s]"
      ]
     },
     "metadata": {},
     "output_type": "display_data"
    },
    {
     "data": {
      "application/vnd.jupyter.widget-view+json": {
       "model_id": "822dfd17abfb44f08938bc5b15aa49b7",
       "version_major": 2,
       "version_minor": 0
      },
      "text/plain": [
       "Calculating Metrics:   0%|          | 0/7 [00:00<?, ?it/s]"
      ]
     },
     "metadata": {},
     "output_type": "display_data"
    },
    {
     "data": {
      "application/vnd.jupyter.widget-view+json": {
       "model_id": "cf2580b1d0844b3eb5fdf6dbf600c4b8",
       "version_major": 2,
       "version_minor": 0
      },
      "text/plain": [
       "Calculating Metrics:   0%|          | 0/2 [00:00<?, ?it/s]"
      ]
     },
     "metadata": {},
     "output_type": "display_data"
    },
    {
     "data": {
      "application/vnd.jupyter.widget-view+json": {
       "model_id": "524b6a3295cb4cafab4e2811e7d05dc5",
       "version_major": 2,
       "version_minor": 0
      },
      "text/plain": [
       "Calculating Metrics:   0%|          | 0/7 [00:00<?, ?it/s]"
      ]
     },
     "metadata": {},
     "output_type": "display_data"
    },
    {
     "data": {
      "application/vnd.jupyter.widget-view+json": {
       "model_id": "432498afde85497eaa7e3e65c2794290",
       "version_major": 2,
       "version_minor": 0
      },
      "text/plain": [
       "Calculating Metrics:   0%|          | 0/7 [00:00<?, ?it/s]"
      ]
     },
     "metadata": {},
     "output_type": "display_data"
    },
    {
     "data": {
      "application/vnd.jupyter.widget-view+json": {
       "model_id": "5e4a3efcc6c84d20ad8e420259f29aec",
       "version_major": 2,
       "version_minor": 0
      },
      "text/plain": [
       "Calculating Metrics:   0%|          | 0/2 [00:00<?, ?it/s]"
      ]
     },
     "metadata": {},
     "output_type": "display_data"
    },
    {
     "data": {
      "application/vnd.jupyter.widget-view+json": {
       "model_id": "8c41734236154eb1ab6cde87676b8976",
       "version_major": 2,
       "version_minor": 0
      },
      "text/plain": [
       "Calculating Metrics:   0%|          | 0/1 [00:00<?, ?it/s]"
      ]
     },
     "metadata": {},
     "output_type": "display_data"
    },
    {
     "data": {
      "application/vnd.jupyter.widget-view+json": {
       "model_id": "eab1e3978d0f48caae8bc1f6c7e4c3d8",
       "version_major": 2,
       "version_minor": 0
      },
      "text/plain": [
       "Profiling Dataset:         0%|          | 0/2 [00:00<?, ?it/s]"
      ]
     },
     "metadata": {},
     "output_type": "display_data"
    },
    {
     "data": {
      "application/vnd.jupyter.widget-view+json": {
       "model_id": "ce12a86cf76f45e6a7b4d0903f3d8acd",
       "version_major": 2,
       "version_minor": 0
      },
      "text/plain": [
       "Calculating Metrics:   0%|          | 0/9 [00:00<?, ?it/s]"
      ]
     },
     "metadata": {},
     "output_type": "display_data"
    },
    {
     "data": {
      "application/vnd.jupyter.widget-view+json": {
       "model_id": "ab66c7e5d5a74c249797e8f86238bd17",
       "version_major": 2,
       "version_minor": 0
      },
      "text/plain": [
       "Calculating Metrics:   0%|          | 0/8 [00:00<?, ?it/s]"
      ]
     },
     "metadata": {},
     "output_type": "display_data"
    },
    {
     "data": {
      "application/vnd.jupyter.widget-view+json": {
       "model_id": "0a55fac4022944d095b892de5e6d9976",
       "version_major": 2,
       "version_minor": 0
      },
      "text/plain": [
       "Calculating Metrics:   0%|          | 0/5 [00:00<?, ?it/s]"
      ]
     },
     "metadata": {},
     "output_type": "display_data"
    },
    {
     "data": {
      "application/vnd.jupyter.widget-view+json": {
       "model_id": "7bbde01093554d56af86d451f24126a1",
       "version_major": 2,
       "version_minor": 0
      },
      "text/plain": [
       "Calculating Metrics:   0%|          | 0/6 [00:00<?, ?it/s]"
      ]
     },
     "metadata": {},
     "output_type": "display_data"
    },
    {
     "data": {
      "application/vnd.jupyter.widget-view+json": {
       "model_id": "f6600d3237154531b054e846f37697c0",
       "version_major": 2,
       "version_minor": 0
      },
      "text/plain": [
       "Calculating Metrics:   0%|          | 0/6 [00:00<?, ?it/s]"
      ]
     },
     "metadata": {},
     "output_type": "display_data"
    },
    {
     "data": {
      "application/vnd.jupyter.widget-view+json": {
       "model_id": "1eb90bae516241298c14461179f035e0",
       "version_major": 2,
       "version_minor": 0
      },
      "text/plain": [
       "Calculating Metrics:   0%|          | 0/5 [00:00<?, ?it/s]"
      ]
     },
     "metadata": {},
     "output_type": "display_data"
    },
    {
     "data": {
      "application/vnd.jupyter.widget-view+json": {
       "model_id": "2ef7ec242e86416ca49a203a81ce1cc2",
       "version_major": 2,
       "version_minor": 0
      },
      "text/plain": [
       "Calculating Metrics:   0%|          | 0/9 [00:00<?, ?it/s]"
      ]
     },
     "metadata": {},
     "output_type": "display_data"
    },
    {
     "data": {
      "application/vnd.jupyter.widget-view+json": {
       "model_id": "628f201cf809445ea03493f9fdaec928",
       "version_major": 2,
       "version_minor": 0
      },
      "text/plain": [
       "Calculating Metrics:   0%|          | 0/6 [00:00<?, ?it/s]"
      ]
     },
     "metadata": {},
     "output_type": "display_data"
    },
    {
     "data": {
      "application/vnd.jupyter.widget-view+json": {
       "model_id": "2e6f14680cf0454990888f7c6fe7db58",
       "version_major": 2,
       "version_minor": 0
      },
      "text/plain": [
       "Calculating Metrics:   0%|          | 0/11 [00:00<?, ?it/s]"
      ]
     },
     "metadata": {},
     "output_type": "display_data"
    },
    {
     "data": {
      "application/vnd.jupyter.widget-view+json": {
       "model_id": "863c5cf23c384dcd8a1dfde5386ce170",
       "version_major": 2,
       "version_minor": 0
      },
      "text/plain": [
       "Calculating Metrics:   0%|          | 0/9 [00:00<?, ?it/s]"
      ]
     },
     "metadata": {},
     "output_type": "display_data"
    },
    {
     "data": {
      "application/vnd.jupyter.widget-view+json": {
       "model_id": "248a2f61ae954aed9bf43ae3d668c198",
       "version_major": 2,
       "version_minor": 0
      },
      "text/plain": [
       "Calculating Metrics:   0%|          | 0/8 [00:00<?, ?it/s]"
      ]
     },
     "metadata": {},
     "output_type": "display_data"
    },
    {
     "data": {
      "application/vnd.jupyter.widget-view+json": {
       "model_id": "072e5f2f339f4667a398e4bdb28682c5",
       "version_major": 2,
       "version_minor": 0
      },
      "text/plain": [
       "Calculating Metrics:   0%|          | 0/5 [00:00<?, ?it/s]"
      ]
     },
     "metadata": {},
     "output_type": "display_data"
    },
    {
     "data": {
      "application/vnd.jupyter.widget-view+json": {
       "model_id": "6cf6540fb6e644f0ae5116a7ad5d8f69",
       "version_major": 2,
       "version_minor": 0
      },
      "text/plain": [
       "Calculating Metrics:   0%|          | 0/6 [00:00<?, ?it/s]"
      ]
     },
     "metadata": {},
     "output_type": "display_data"
    },
    {
     "data": {
      "application/vnd.jupyter.widget-view+json": {
       "model_id": "a69e46b176d64a13aab1f6ebde8305c2",
       "version_major": 2,
       "version_minor": 0
      },
      "text/plain": [
       "Calculating Metrics:   0%|          | 0/6 [00:00<?, ?it/s]"
      ]
     },
     "metadata": {},
     "output_type": "display_data"
    },
    {
     "data": {
      "application/vnd.jupyter.widget-view+json": {
       "model_id": "8876fe5f136f42718f43fb1954739796",
       "version_major": 2,
       "version_minor": 0
      },
      "text/plain": [
       "Calculating Metrics:   0%|          | 0/5 [00:00<?, ?it/s]"
      ]
     },
     "metadata": {},
     "output_type": "display_data"
    },
    {
     "data": {
      "application/vnd.jupyter.widget-view+json": {
       "model_id": "6264c43904a347ed87c578e699f60881",
       "version_major": 2,
       "version_minor": 0
      },
      "text/plain": [
       "Calculating Metrics:   0%|          | 0/9 [00:00<?, ?it/s]"
      ]
     },
     "metadata": {},
     "output_type": "display_data"
    },
    {
     "data": {
      "application/vnd.jupyter.widget-view+json": {
       "model_id": "e009fe263d1840d782a2d0944df4fc87",
       "version_major": 2,
       "version_minor": 0
      },
      "text/plain": [
       "Calculating Metrics:   0%|          | 0/6 [00:00<?, ?it/s]"
      ]
     },
     "metadata": {},
     "output_type": "display_data"
    },
    {
     "data": {
      "application/vnd.jupyter.widget-view+json": {
       "model_id": "75ae5746e3414a31b48c773a477bff2d",
       "version_major": 2,
       "version_minor": 0
      },
      "text/plain": [
       "Calculating Metrics:   0%|          | 0/11 [00:00<?, ?it/s]"
      ]
     },
     "metadata": {},
     "output_type": "display_data"
    },
    {
     "data": {
      "application/vnd.jupyter.widget-view+json": {
       "model_id": "b6d4fdf4f532453ebf0216b35d024b98",
       "version_major": 2,
       "version_minor": 0
      },
      "text/plain": [
       "Calculating Metrics:   0%|          | 0/2 [00:00<?, ?it/s]"
      ]
     },
     "metadata": {},
     "output_type": "display_data"
    },
    {
     "data": {
      "application/vnd.jupyter.widget-view+json": {
       "model_id": "d5ac3dbf14984659a21138168180ac73",
       "version_major": 2,
       "version_minor": 0
      },
      "text/plain": [
       "Calculating Metrics:   0%|          | 0/1 [00:00<?, ?it/s]"
      ]
     },
     "metadata": {},
     "output_type": "display_data"
    },
    {
     "data": {
      "application/vnd.jupyter.widget-view+json": {
       "model_id": "8de08f09d14c4ae6ab2008b0ef3157c0",
       "version_major": 2,
       "version_minor": 0
      },
      "text/plain": [
       "Profiling Dataset:         0%|          | 0/0 [00:00<?, ?it/s]"
      ]
     },
     "metadata": {},
     "output_type": "display_data"
    },
    {
     "data": {
      "application/vnd.jupyter.widget-view+json": {
       "model_id": "7f74ba54eecc4078a2b18ca20632edc4",
       "version_major": 2,
       "version_minor": 0
      },
      "text/plain": [
       "Calculating Metrics:   0%|          | 0/2 [00:00<?, ?it/s]"
      ]
     },
     "metadata": {},
     "output_type": "display_data"
    },
    {
     "data": {
      "application/vnd.jupyter.widget-view+json": {
       "model_id": "99e785a738d14fcea502434166fe8e9c",
       "version_major": 2,
       "version_minor": 0
      },
      "text/plain": [
       "Calculating Metrics:   0%|          | 0/1 [00:00<?, ?it/s]"
      ]
     },
     "metadata": {},
     "output_type": "display_data"
    },
    {
     "data": {
      "application/vnd.jupyter.widget-view+json": {
       "model_id": "d53c1d7e29864b6ea0caab74cfcb8c7e",
       "version_major": 2,
       "version_minor": 0
      },
      "text/plain": [
       "Profiling Dataset:         0%|          | 0/17 [00:00<?, ?it/s]"
      ]
     },
     "metadata": {},
     "output_type": "display_data"
    },
    {
     "data": {
      "application/vnd.jupyter.widget-view+json": {
       "model_id": "8932d9ccf0b24d2489b2f51d3811a33b",
       "version_major": 2,
       "version_minor": 0
      },
      "text/plain": [
       "Calculating Metrics:   0%|          | 0/6 [00:00<?, ?it/s]"
      ]
     },
     "metadata": {},
     "output_type": "display_data"
    },
    {
     "data": {
      "application/vnd.jupyter.widget-view+json": {
       "model_id": "cfefcedcec7b4f5fbc171d802f9a6288",
       "version_major": 2,
       "version_minor": 0
      },
      "text/plain": [
       "Calculating Metrics:   0%|          | 0/6 [00:00<?, ?it/s]"
      ]
     },
     "metadata": {},
     "output_type": "display_data"
    },
    {
     "data": {
      "application/vnd.jupyter.widget-view+json": {
       "model_id": "cfc23bc130ae4ff796f91799ad4ed479",
       "version_major": 2,
       "version_minor": 0
      },
      "text/plain": [
       "Calculating Metrics:   0%|          | 0/8 [00:00<?, ?it/s]"
      ]
     },
     "metadata": {},
     "output_type": "display_data"
    },
    {
     "data": {
      "application/vnd.jupyter.widget-view+json": {
       "model_id": "140c5b6142b14ac084b65e0524128d65",
       "version_major": 2,
       "version_minor": 0
      },
      "text/plain": [
       "Calculating Metrics:   0%|          | 0/34 [00:00<?, ?it/s]"
      ]
     },
     "metadata": {},
     "output_type": "display_data"
    },
    {
     "data": {
      "application/vnd.jupyter.widget-view+json": {
       "model_id": "4d5515b04dcb45879df8fc3021dc1d34",
       "version_major": 2,
       "version_minor": 0
      },
      "text/plain": [
       "Calculating Metrics:   0%|          | 0/6 [00:00<?, ?it/s]"
      ]
     },
     "metadata": {},
     "output_type": "display_data"
    },
    {
     "data": {
      "application/vnd.jupyter.widget-view+json": {
       "model_id": "e4f94f417ca84a1ebfd95890ed0bb337",
       "version_major": 2,
       "version_minor": 0
      },
      "text/plain": [
       "Calculating Metrics:   0%|          | 0/6 [00:00<?, ?it/s]"
      ]
     },
     "metadata": {},
     "output_type": "display_data"
    },
    {
     "data": {
      "application/vnd.jupyter.widget-view+json": {
       "model_id": "35b9cf8b20d541219d4f20faefb17da3",
       "version_major": 2,
       "version_minor": 0
      },
      "text/plain": [
       "Calculating Metrics:   0%|          | 0/8 [00:00<?, ?it/s]"
      ]
     },
     "metadata": {},
     "output_type": "display_data"
    },
    {
     "data": {
      "application/vnd.jupyter.widget-view+json": {
       "model_id": "d1b9bc7a63d645a784a43a01e53c0760",
       "version_major": 2,
       "version_minor": 0
      },
      "text/plain": [
       "Calculating Metrics:   0%|          | 0/34 [00:00<?, ?it/s]"
      ]
     },
     "metadata": {},
     "output_type": "display_data"
    },
    {
     "data": {
      "application/vnd.jupyter.widget-view+json": {
       "model_id": "e713d09508134138ba3609619cd8a2a1",
       "version_major": 2,
       "version_minor": 0
      },
      "text/plain": [
       "Calculating Metrics:   0%|          | 0/6 [00:00<?, ?it/s]"
      ]
     },
     "metadata": {},
     "output_type": "display_data"
    },
    {
     "data": {
      "application/vnd.jupyter.widget-view+json": {
       "model_id": "f3db5221011e466abd241d2dcf934db0",
       "version_major": 2,
       "version_minor": 0
      },
      "text/plain": [
       "Calculating Metrics:   0%|          | 0/6 [00:00<?, ?it/s]"
      ]
     },
     "metadata": {},
     "output_type": "display_data"
    },
    {
     "data": {
      "application/vnd.jupyter.widget-view+json": {
       "model_id": "722a78ccc3504884954129f4fd751173",
       "version_major": 2,
       "version_minor": 0
      },
      "text/plain": [
       "Calculating Metrics:   0%|          | 0/8 [00:00<?, ?it/s]"
      ]
     },
     "metadata": {},
     "output_type": "display_data"
    },
    {
     "data": {
      "application/vnd.jupyter.widget-view+json": {
       "model_id": "253d2ed0884f4524bace82768865cc3d",
       "version_major": 2,
       "version_minor": 0
      },
      "text/plain": [
       "Calculating Metrics:   0%|          | 0/34 [00:00<?, ?it/s]"
      ]
     },
     "metadata": {},
     "output_type": "display_data"
    },
    {
     "data": {
      "application/vnd.jupyter.widget-view+json": {
       "model_id": "8599769e479a4aaf8f631b5426691399",
       "version_major": 2,
       "version_minor": 0
      },
      "text/plain": [
       "Calculating Metrics:   0%|          | 0/6 [00:00<?, ?it/s]"
      ]
     },
     "metadata": {},
     "output_type": "display_data"
    },
    {
     "data": {
      "application/vnd.jupyter.widget-view+json": {
       "model_id": "74bdb5c4fa9a4a87a234cdbbe5bc5611",
       "version_major": 2,
       "version_minor": 0
      },
      "text/plain": [
       "Calculating Metrics:   0%|          | 0/6 [00:00<?, ?it/s]"
      ]
     },
     "metadata": {},
     "output_type": "display_data"
    },
    {
     "data": {
      "application/vnd.jupyter.widget-view+json": {
       "model_id": "bc80139f90424eafbc472183fa58dfab",
       "version_major": 2,
       "version_minor": 0
      },
      "text/plain": [
       "Calculating Metrics:   0%|          | 0/8 [00:00<?, ?it/s]"
      ]
     },
     "metadata": {},
     "output_type": "display_data"
    },
    {
     "data": {
      "application/vnd.jupyter.widget-view+json": {
       "model_id": "6b94f4dedca74fb0b37cc6ffd81a10fd",
       "version_major": 2,
       "version_minor": 0
      },
      "text/plain": [
       "Calculating Metrics:   0%|          | 0/34 [00:00<?, ?it/s]"
      ]
     },
     "metadata": {},
     "output_type": "display_data"
    },
    {
     "data": {
      "application/vnd.jupyter.widget-view+json": {
       "model_id": "0d94645d951d48ccbf03e908e3c91f40",
       "version_major": 2,
       "version_minor": 0
      },
      "text/plain": [
       "Calculating Metrics:   0%|          | 0/6 [00:00<?, ?it/s]"
      ]
     },
     "metadata": {},
     "output_type": "display_data"
    },
    {
     "data": {
      "application/vnd.jupyter.widget-view+json": {
       "model_id": "bb06099fc0c84274b355d4bd58442b8d",
       "version_major": 2,
       "version_minor": 0
      },
      "text/plain": [
       "Calculating Metrics:   0%|          | 0/6 [00:00<?, ?it/s]"
      ]
     },
     "metadata": {},
     "output_type": "display_data"
    },
    {
     "data": {
      "application/vnd.jupyter.widget-view+json": {
       "model_id": "cca2400ecb1240d3afe00ab08a5dc962",
       "version_major": 2,
       "version_minor": 0
      },
      "text/plain": [
       "Calculating Metrics:   0%|          | 0/8 [00:00<?, ?it/s]"
      ]
     },
     "metadata": {},
     "output_type": "display_data"
    },
    {
     "data": {
      "application/vnd.jupyter.widget-view+json": {
       "model_id": "3fc8c3aa7119430882bb25ced61a5fac",
       "version_major": 2,
       "version_minor": 0
      },
      "text/plain": [
       "Calculating Metrics:   0%|          | 0/34 [00:00<?, ?it/s]"
      ]
     },
     "metadata": {},
     "output_type": "display_data"
    },
    {
     "data": {
      "application/vnd.jupyter.widget-view+json": {
       "model_id": "cc619d8644c74fa59b907bc4a82d6fbf",
       "version_major": 2,
       "version_minor": 0
      },
      "text/plain": [
       "Calculating Metrics:   0%|          | 0/6 [00:00<?, ?it/s]"
      ]
     },
     "metadata": {},
     "output_type": "display_data"
    },
    {
     "data": {
      "application/vnd.jupyter.widget-view+json": {
       "model_id": "d21e64d6fd784b218e676af96321556b",
       "version_major": 2,
       "version_minor": 0
      },
      "text/plain": [
       "Calculating Metrics:   0%|          | 0/6 [00:00<?, ?it/s]"
      ]
     },
     "metadata": {},
     "output_type": "display_data"
    },
    {
     "data": {
      "application/vnd.jupyter.widget-view+json": {
       "model_id": "e9ec41f84f9a47daa82d5399bc189a0f",
       "version_major": 2,
       "version_minor": 0
      },
      "text/plain": [
       "Calculating Metrics:   0%|          | 0/8 [00:00<?, ?it/s]"
      ]
     },
     "metadata": {},
     "output_type": "display_data"
    },
    {
     "data": {
      "application/vnd.jupyter.widget-view+json": {
       "model_id": "f14958a191894831b42e0cf3b4a48394",
       "version_major": 2,
       "version_minor": 0
      },
      "text/plain": [
       "Calculating Metrics:   0%|          | 0/34 [00:00<?, ?it/s]"
      ]
     },
     "metadata": {},
     "output_type": "display_data"
    },
    {
     "data": {
      "application/vnd.jupyter.widget-view+json": {
       "model_id": "7190c869ac86462db6ca792db161d671",
       "version_major": 2,
       "version_minor": 0
      },
      "text/plain": [
       "Calculating Metrics:   0%|          | 0/6 [00:00<?, ?it/s]"
      ]
     },
     "metadata": {},
     "output_type": "display_data"
    },
    {
     "data": {
      "application/vnd.jupyter.widget-view+json": {
       "model_id": "dcaef5d8133f49a99366beae0c3f0abb",
       "version_major": 2,
       "version_minor": 0
      },
      "text/plain": [
       "Calculating Metrics:   0%|          | 0/6 [00:00<?, ?it/s]"
      ]
     },
     "metadata": {},
     "output_type": "display_data"
    },
    {
     "data": {
      "application/vnd.jupyter.widget-view+json": {
       "model_id": "6ef49139074b4a36bd7d5aece5ee3193",
       "version_major": 2,
       "version_minor": 0
      },
      "text/plain": [
       "Calculating Metrics:   0%|          | 0/8 [00:00<?, ?it/s]"
      ]
     },
     "metadata": {},
     "output_type": "display_data"
    },
    {
     "data": {
      "application/vnd.jupyter.widget-view+json": {
       "model_id": "0368128c1b6d4b99a2f4d466f447a781",
       "version_major": 2,
       "version_minor": 0
      },
      "text/plain": [
       "Calculating Metrics:   0%|          | 0/34 [00:00<?, ?it/s]"
      ]
     },
     "metadata": {},
     "output_type": "display_data"
    },
    {
     "data": {
      "application/vnd.jupyter.widget-view+json": {
       "model_id": "b234965a2b6d4300a1696b14cbac90a6",
       "version_major": 2,
       "version_minor": 0
      },
      "text/plain": [
       "Calculating Metrics:   0%|          | 0/6 [00:00<?, ?it/s]"
      ]
     },
     "metadata": {},
     "output_type": "display_data"
    },
    {
     "data": {
      "application/vnd.jupyter.widget-view+json": {
       "model_id": "93871c4f39684bf4aa564f3c55171ebd",
       "version_major": 2,
       "version_minor": 0
      },
      "text/plain": [
       "Calculating Metrics:   0%|          | 0/6 [00:00<?, ?it/s]"
      ]
     },
     "metadata": {},
     "output_type": "display_data"
    },
    {
     "data": {
      "application/vnd.jupyter.widget-view+json": {
       "model_id": "9b5317fc794542d685c5c4e745853045",
       "version_major": 2,
       "version_minor": 0
      },
      "text/plain": [
       "Calculating Metrics:   0%|          | 0/8 [00:00<?, ?it/s]"
      ]
     },
     "metadata": {},
     "output_type": "display_data"
    },
    {
     "data": {
      "application/vnd.jupyter.widget-view+json": {
       "model_id": "96c7f4351bab45458e1cfd1b5a79311f",
       "version_major": 2,
       "version_minor": 0
      },
      "text/plain": [
       "Calculating Metrics:   0%|          | 0/34 [00:00<?, ?it/s]"
      ]
     },
     "metadata": {},
     "output_type": "display_data"
    },
    {
     "data": {
      "application/vnd.jupyter.widget-view+json": {
       "model_id": "e62b8142ffed4ac3a445b798020b189d",
       "version_major": 2,
       "version_minor": 0
      },
      "text/plain": [
       "Calculating Metrics:   0%|          | 0/6 [00:00<?, ?it/s]"
      ]
     },
     "metadata": {},
     "output_type": "display_data"
    },
    {
     "data": {
      "application/vnd.jupyter.widget-view+json": {
       "model_id": "c48050af5a54451dbb10ad5ca9607284",
       "version_major": 2,
       "version_minor": 0
      },
      "text/plain": [
       "Calculating Metrics:   0%|          | 0/6 [00:00<?, ?it/s]"
      ]
     },
     "metadata": {},
     "output_type": "display_data"
    },
    {
     "data": {
      "application/vnd.jupyter.widget-view+json": {
       "model_id": "6e1ce07932474547afd7003d1fce21cd",
       "version_major": 2,
       "version_minor": 0
      },
      "text/plain": [
       "Calculating Metrics:   0%|          | 0/8 [00:00<?, ?it/s]"
      ]
     },
     "metadata": {},
     "output_type": "display_data"
    },
    {
     "data": {
      "application/vnd.jupyter.widget-view+json": {
       "model_id": "f699d4db15854d939c9f8af1f3900774",
       "version_major": 2,
       "version_minor": 0
      },
      "text/plain": [
       "Calculating Metrics:   0%|          | 0/34 [00:00<?, ?it/s]"
      ]
     },
     "metadata": {},
     "output_type": "display_data"
    },
    {
     "data": {
      "application/vnd.jupyter.widget-view+json": {
       "model_id": "4b6be3141a9c4b548c8af90ac8a82606",
       "version_major": 2,
       "version_minor": 0
      },
      "text/plain": [
       "Calculating Metrics:   0%|          | 0/6 [00:00<?, ?it/s]"
      ]
     },
     "metadata": {},
     "output_type": "display_data"
    },
    {
     "data": {
      "application/vnd.jupyter.widget-view+json": {
       "model_id": "390bb5e54dd34822becd3fbaa4eb2e35",
       "version_major": 2,
       "version_minor": 0
      },
      "text/plain": [
       "Calculating Metrics:   0%|          | 0/6 [00:00<?, ?it/s]"
      ]
     },
     "metadata": {},
     "output_type": "display_data"
    },
    {
     "data": {
      "application/vnd.jupyter.widget-view+json": {
       "model_id": "b713ea4bd38a4a998bb743665b41bed8",
       "version_major": 2,
       "version_minor": 0
      },
      "text/plain": [
       "Calculating Metrics:   0%|          | 0/8 [00:00<?, ?it/s]"
      ]
     },
     "metadata": {},
     "output_type": "display_data"
    },
    {
     "data": {
      "application/vnd.jupyter.widget-view+json": {
       "model_id": "175a3b57375f49ae90f5f8244100ee10",
       "version_major": 2,
       "version_minor": 0
      },
      "text/plain": [
       "Calculating Metrics:   0%|          | 0/34 [00:00<?, ?it/s]"
      ]
     },
     "metadata": {},
     "output_type": "display_data"
    },
    {
     "data": {
      "application/vnd.jupyter.widget-view+json": {
       "model_id": "135f7bc0509c4909b6d904e61b8568d2",
       "version_major": 2,
       "version_minor": 0
      },
      "text/plain": [
       "Calculating Metrics:   0%|          | 0/6 [00:00<?, ?it/s]"
      ]
     },
     "metadata": {},
     "output_type": "display_data"
    },
    {
     "data": {
      "application/vnd.jupyter.widget-view+json": {
       "model_id": "369cb4f51c99451ebe5a32bea1ac587e",
       "version_major": 2,
       "version_minor": 0
      },
      "text/plain": [
       "Calculating Metrics:   0%|          | 0/6 [00:00<?, ?it/s]"
      ]
     },
     "metadata": {},
     "output_type": "display_data"
    },
    {
     "data": {
      "application/vnd.jupyter.widget-view+json": {
       "model_id": "1ab64c02ecbf4d85ac1daa6805704191",
       "version_major": 2,
       "version_minor": 0
      },
      "text/plain": [
       "Calculating Metrics:   0%|          | 0/8 [00:00<?, ?it/s]"
      ]
     },
     "metadata": {},
     "output_type": "display_data"
    },
    {
     "data": {
      "application/vnd.jupyter.widget-view+json": {
       "model_id": "55ca2317747d4a90a56eb8df28593e76",
       "version_major": 2,
       "version_minor": 0
      },
      "text/plain": [
       "Calculating Metrics:   0%|          | 0/34 [00:00<?, ?it/s]"
      ]
     },
     "metadata": {},
     "output_type": "display_data"
    },
    {
     "data": {
      "application/vnd.jupyter.widget-view+json": {
       "model_id": "be8fce52c0884f51bde442e768ebe16f",
       "version_major": 2,
       "version_minor": 0
      },
      "text/plain": [
       "Calculating Metrics:   0%|          | 0/6 [00:00<?, ?it/s]"
      ]
     },
     "metadata": {},
     "output_type": "display_data"
    },
    {
     "data": {
      "application/vnd.jupyter.widget-view+json": {
       "model_id": "3978f89a8d9545ecb1d45168e47bbaba",
       "version_major": 2,
       "version_minor": 0
      },
      "text/plain": [
       "Calculating Metrics:   0%|          | 0/6 [00:00<?, ?it/s]"
      ]
     },
     "metadata": {},
     "output_type": "display_data"
    },
    {
     "data": {
      "application/vnd.jupyter.widget-view+json": {
       "model_id": "757e281c35454b13ad2731acbc5daa37",
       "version_major": 2,
       "version_minor": 0
      },
      "text/plain": [
       "Calculating Metrics:   0%|          | 0/8 [00:00<?, ?it/s]"
      ]
     },
     "metadata": {},
     "output_type": "display_data"
    },
    {
     "data": {
      "application/vnd.jupyter.widget-view+json": {
       "model_id": "22ec712be5024b33865c827f2efcbae0",
       "version_major": 2,
       "version_minor": 0
      },
      "text/plain": [
       "Calculating Metrics:   0%|          | 0/34 [00:00<?, ?it/s]"
      ]
     },
     "metadata": {},
     "output_type": "display_data"
    },
    {
     "data": {
      "application/vnd.jupyter.widget-view+json": {
       "model_id": "2e88ef93c9c54d58a0aa84a4636f7831",
       "version_major": 2,
       "version_minor": 0
      },
      "text/plain": [
       "Calculating Metrics:   0%|          | 0/6 [00:00<?, ?it/s]"
      ]
     },
     "metadata": {},
     "output_type": "display_data"
    },
    {
     "data": {
      "application/vnd.jupyter.widget-view+json": {
       "model_id": "9f56f897e4f44a9bb195fc1714cc5f5c",
       "version_major": 2,
       "version_minor": 0
      },
      "text/plain": [
       "Calculating Metrics:   0%|          | 0/6 [00:00<?, ?it/s]"
      ]
     },
     "metadata": {},
     "output_type": "display_data"
    },
    {
     "data": {
      "application/vnd.jupyter.widget-view+json": {
       "model_id": "fe874efdde714a8bb4f56ede0eaec0dc",
       "version_major": 2,
       "version_minor": 0
      },
      "text/plain": [
       "Calculating Metrics:   0%|          | 0/8 [00:00<?, ?it/s]"
      ]
     },
     "metadata": {},
     "output_type": "display_data"
    },
    {
     "data": {
      "application/vnd.jupyter.widget-view+json": {
       "model_id": "f9db152f763944479838665f25937095",
       "version_major": 2,
       "version_minor": 0
      },
      "text/plain": [
       "Calculating Metrics:   0%|          | 0/34 [00:00<?, ?it/s]"
      ]
     },
     "metadata": {},
     "output_type": "display_data"
    },
    {
     "data": {
      "application/vnd.jupyter.widget-view+json": {
       "model_id": "b6dec3999a754a2da687fcb369598933",
       "version_major": 2,
       "version_minor": 0
      },
      "text/plain": [
       "Calculating Metrics:   0%|          | 0/6 [00:00<?, ?it/s]"
      ]
     },
     "metadata": {},
     "output_type": "display_data"
    },
    {
     "data": {
      "application/vnd.jupyter.widget-view+json": {
       "model_id": "12b9695106d74c0a96e471fe5422d72e",
       "version_major": 2,
       "version_minor": 0
      },
      "text/plain": [
       "Calculating Metrics:   0%|          | 0/6 [00:00<?, ?it/s]"
      ]
     },
     "metadata": {},
     "output_type": "display_data"
    },
    {
     "data": {
      "application/vnd.jupyter.widget-view+json": {
       "model_id": "8c651805907a445aa2a22441cd91f2b0",
       "version_major": 2,
       "version_minor": 0
      },
      "text/plain": [
       "Calculating Metrics:   0%|          | 0/8 [00:00<?, ?it/s]"
      ]
     },
     "metadata": {},
     "output_type": "display_data"
    },
    {
     "data": {
      "application/vnd.jupyter.widget-view+json": {
       "model_id": "eacb499d63ad447196c55159b10707d2",
       "version_major": 2,
       "version_minor": 0
      },
      "text/plain": [
       "Calculating Metrics:   0%|          | 0/34 [00:00<?, ?it/s]"
      ]
     },
     "metadata": {},
     "output_type": "display_data"
    },
    {
     "data": {
      "application/vnd.jupyter.widget-view+json": {
       "model_id": "1baa78ce5b7540b3aad1ff0cccc0a585",
       "version_major": 2,
       "version_minor": 0
      },
      "text/plain": [
       "Calculating Metrics:   0%|          | 0/6 [00:00<?, ?it/s]"
      ]
     },
     "metadata": {},
     "output_type": "display_data"
    },
    {
     "data": {
      "application/vnd.jupyter.widget-view+json": {
       "model_id": "ce5f0e46a8f04b488803889ecc318156",
       "version_major": 2,
       "version_minor": 0
      },
      "text/plain": [
       "Calculating Metrics:   0%|          | 0/6 [00:00<?, ?it/s]"
      ]
     },
     "metadata": {},
     "output_type": "display_data"
    },
    {
     "data": {
      "application/vnd.jupyter.widget-view+json": {
       "model_id": "1717bdf13baa4c32bf9445d551f9597a",
       "version_major": 2,
       "version_minor": 0
      },
      "text/plain": [
       "Calculating Metrics:   0%|          | 0/8 [00:00<?, ?it/s]"
      ]
     },
     "metadata": {},
     "output_type": "display_data"
    },
    {
     "data": {
      "application/vnd.jupyter.widget-view+json": {
       "model_id": "374ca174afda498f8413a03f006e2780",
       "version_major": 2,
       "version_minor": 0
      },
      "text/plain": [
       "Calculating Metrics:   0%|          | 0/34 [00:00<?, ?it/s]"
      ]
     },
     "metadata": {},
     "output_type": "display_data"
    },
    {
     "data": {
      "application/vnd.jupyter.widget-view+json": {
       "model_id": "83edb422112a4013ad0b5781287810d1",
       "version_major": 2,
       "version_minor": 0
      },
      "text/plain": [
       "Calculating Metrics:   0%|          | 0/6 [00:00<?, ?it/s]"
      ]
     },
     "metadata": {},
     "output_type": "display_data"
    },
    {
     "data": {
      "application/vnd.jupyter.widget-view+json": {
       "model_id": "4825fe70db67485998bef4f7439741dc",
       "version_major": 2,
       "version_minor": 0
      },
      "text/plain": [
       "Calculating Metrics:   0%|          | 0/6 [00:00<?, ?it/s]"
      ]
     },
     "metadata": {},
     "output_type": "display_data"
    },
    {
     "data": {
      "application/vnd.jupyter.widget-view+json": {
       "model_id": "ef081c4bac544cc1b384bc6f893e41d0",
       "version_major": 2,
       "version_minor": 0
      },
      "text/plain": [
       "Calculating Metrics:   0%|          | 0/8 [00:00<?, ?it/s]"
      ]
     },
     "metadata": {},
     "output_type": "display_data"
    },
    {
     "data": {
      "application/vnd.jupyter.widget-view+json": {
       "model_id": "23b9b38a302b46ffa35f50210a195581",
       "version_major": 2,
       "version_minor": 0
      },
      "text/plain": [
       "Calculating Metrics:   0%|          | 0/34 [00:00<?, ?it/s]"
      ]
     },
     "metadata": {},
     "output_type": "display_data"
    },
    {
     "data": {
      "application/vnd.jupyter.widget-view+json": {
       "model_id": "86ebe06bd46a461d9d0afc7a2161f278",
       "version_major": 2,
       "version_minor": 0
      },
      "text/plain": [
       "Calculating Metrics:   0%|          | 0/6 [00:00<?, ?it/s]"
      ]
     },
     "metadata": {},
     "output_type": "display_data"
    },
    {
     "data": {
      "application/vnd.jupyter.widget-view+json": {
       "model_id": "75302c96781e4a2595617e3527799a4c",
       "version_major": 2,
       "version_minor": 0
      },
      "text/plain": [
       "Calculating Metrics:   0%|          | 0/6 [00:00<?, ?it/s]"
      ]
     },
     "metadata": {},
     "output_type": "display_data"
    },
    {
     "data": {
      "application/vnd.jupyter.widget-view+json": {
       "model_id": "583ff7d70c0f475581bb0bc6aec98475",
       "version_major": 2,
       "version_minor": 0
      },
      "text/plain": [
       "Calculating Metrics:   0%|          | 0/8 [00:00<?, ?it/s]"
      ]
     },
     "metadata": {},
     "output_type": "display_data"
    },
    {
     "data": {
      "application/vnd.jupyter.widget-view+json": {
       "model_id": "3dc525b865884c2da430aa565fa789dc",
       "version_major": 2,
       "version_minor": 0
      },
      "text/plain": [
       "Calculating Metrics:   0%|          | 0/34 [00:00<?, ?it/s]"
      ]
     },
     "metadata": {},
     "output_type": "display_data"
    },
    {
     "data": {
      "application/vnd.jupyter.widget-view+json": {
       "model_id": "892e4cdc96fd45ca87a3ce51e37c3119",
       "version_major": 2,
       "version_minor": 0
      },
      "text/plain": [
       "Calculating Metrics:   0%|          | 0/2 [00:00<?, ?it/s]"
      ]
     },
     "metadata": {},
     "output_type": "display_data"
    },
    {
     "data": {
      "application/vnd.jupyter.widget-view+json": {
       "model_id": "710671203a354fdf974f479579d93f32",
       "version_major": 2,
       "version_minor": 0
      },
      "text/plain": [
       "Calculating Metrics:   0%|          | 0/1 [00:00<?, ?it/s]"
      ]
     },
     "metadata": {},
     "output_type": "display_data"
    },
    {
     "data": {
      "application/vnd.jupyter.widget-view+json": {
       "model_id": "79b4abfc7f7349d48d9875f1118b2c65",
       "version_major": 2,
       "version_minor": 0
      },
      "text/plain": [
       "Calculating Metrics:   0%|          | 0/42 [00:00<?, ?it/s]"
      ]
     },
     "metadata": {},
     "output_type": "display_data"
    },
    {
     "data": {
      "application/vnd.jupyter.widget-view+json": {
       "model_id": "3f63562ca852433f916f87a99ea1e59b",
       "version_major": 2,
       "version_minor": 0
      },
      "text/plain": [
       "Profiling Dataset:         0%|          | 0/7 [00:00<?, ?it/s]"
      ]
     },
     "metadata": {},
     "output_type": "display_data"
    },
    {
     "data": {
      "application/vnd.jupyter.widget-view+json": {
       "model_id": "b03be0c49b1d48c88a5fdb60a2c7bada",
       "version_major": 2,
       "version_minor": 0
      },
      "text/plain": [
       "Calculating Metrics:   0%|          | 0/6 [00:00<?, ?it/s]"
      ]
     },
     "metadata": {},
     "output_type": "display_data"
    },
    {
     "data": {
      "application/vnd.jupyter.widget-view+json": {
       "model_id": "d3cfb1fabcd745b98622983ef66df40f",
       "version_major": 2,
       "version_minor": 0
      },
      "text/plain": [
       "Calculating Metrics:   0%|          | 0/5 [00:00<?, ?it/s]"
      ]
     },
     "metadata": {},
     "output_type": "display_data"
    },
    {
     "data": {
      "application/vnd.jupyter.widget-view+json": {
       "model_id": "f0bbc885fcce49a6a1d14572096309be",
       "version_major": 2,
       "version_minor": 0
      },
      "text/plain": [
       "Calculating Metrics:   0%|          | 0/5 [00:00<?, ?it/s]"
      ]
     },
     "metadata": {},
     "output_type": "display_data"
    },
    {
     "data": {
      "application/vnd.jupyter.widget-view+json": {
       "model_id": "570b70d715bd4d1d8ee7286d67d6dabc",
       "version_major": 2,
       "version_minor": 0
      },
      "text/plain": [
       "Calculating Metrics:   0%|          | 0/10 [00:00<?, ?it/s]"
      ]
     },
     "metadata": {},
     "output_type": "display_data"
    },
    {
     "data": {
      "application/vnd.jupyter.widget-view+json": {
       "model_id": "71f4f4b5c4f74474b7bc080901ba3def",
       "version_major": 2,
       "version_minor": 0
      },
      "text/plain": [
       "Calculating Metrics:   0%|          | 0/6 [00:00<?, ?it/s]"
      ]
     },
     "metadata": {},
     "output_type": "display_data"
    },
    {
     "data": {
      "application/vnd.jupyter.widget-view+json": {
       "model_id": "eb1dfd727ecd4ea88c6cefe4215b7d32",
       "version_major": 2,
       "version_minor": 0
      },
      "text/plain": [
       "Calculating Metrics:   0%|          | 0/5 [00:00<?, ?it/s]"
      ]
     },
     "metadata": {},
     "output_type": "display_data"
    },
    {
     "data": {
      "application/vnd.jupyter.widget-view+json": {
       "model_id": "d7b94840c1b0431885476701b477d637",
       "version_major": 2,
       "version_minor": 0
      },
      "text/plain": [
       "Calculating Metrics:   0%|          | 0/5 [00:00<?, ?it/s]"
      ]
     },
     "metadata": {},
     "output_type": "display_data"
    },
    {
     "data": {
      "application/vnd.jupyter.widget-view+json": {
       "model_id": "fb6bc877ae84413c8e4eeba5514f358e",
       "version_major": 2,
       "version_minor": 0
      },
      "text/plain": [
       "Calculating Metrics:   0%|          | 0/10 [00:00<?, ?it/s]"
      ]
     },
     "metadata": {},
     "output_type": "display_data"
    },
    {
     "data": {
      "application/vnd.jupyter.widget-view+json": {
       "model_id": "e052c250608a473aa3bc1338617b1382",
       "version_major": 2,
       "version_minor": 0
      },
      "text/plain": [
       "Calculating Metrics:   0%|          | 0/6 [00:00<?, ?it/s]"
      ]
     },
     "metadata": {},
     "output_type": "display_data"
    },
    {
     "data": {
      "application/vnd.jupyter.widget-view+json": {
       "model_id": "b7251ee559cf4dd4b70c8bffd2d878be",
       "version_major": 2,
       "version_minor": 0
      },
      "text/plain": [
       "Calculating Metrics:   0%|          | 0/5 [00:00<?, ?it/s]"
      ]
     },
     "metadata": {},
     "output_type": "display_data"
    },
    {
     "data": {
      "application/vnd.jupyter.widget-view+json": {
       "model_id": "38e869fe66704dbf9e3cd2c7c5deae52",
       "version_major": 2,
       "version_minor": 0
      },
      "text/plain": [
       "Calculating Metrics:   0%|          | 0/5 [00:00<?, ?it/s]"
      ]
     },
     "metadata": {},
     "output_type": "display_data"
    },
    {
     "data": {
      "application/vnd.jupyter.widget-view+json": {
       "model_id": "9ca5ba6f0c9a4e15b8a7a760935beec5",
       "version_major": 2,
       "version_minor": 0
      },
      "text/plain": [
       "Calculating Metrics:   0%|          | 0/10 [00:00<?, ?it/s]"
      ]
     },
     "metadata": {},
     "output_type": "display_data"
    },
    {
     "data": {
      "application/vnd.jupyter.widget-view+json": {
       "model_id": "2fe29790970046c58afa6a618441401f",
       "version_major": 2,
       "version_minor": 0
      },
      "text/plain": [
       "Calculating Metrics:   0%|          | 0/6 [00:00<?, ?it/s]"
      ]
     },
     "metadata": {},
     "output_type": "display_data"
    },
    {
     "data": {
      "application/vnd.jupyter.widget-view+json": {
       "model_id": "f01e1caf0cc24ee5b17494695ee2f7ba",
       "version_major": 2,
       "version_minor": 0
      },
      "text/plain": [
       "Calculating Metrics:   0%|          | 0/5 [00:00<?, ?it/s]"
      ]
     },
     "metadata": {},
     "output_type": "display_data"
    },
    {
     "data": {
      "application/vnd.jupyter.widget-view+json": {
       "model_id": "30683f7e20054742a571f3ac0a1c158f",
       "version_major": 2,
       "version_minor": 0
      },
      "text/plain": [
       "Calculating Metrics:   0%|          | 0/5 [00:00<?, ?it/s]"
      ]
     },
     "metadata": {},
     "output_type": "display_data"
    },
    {
     "data": {
      "application/vnd.jupyter.widget-view+json": {
       "model_id": "fbd6ed855e344b0197e6a7d483021023",
       "version_major": 2,
       "version_minor": 0
      },
      "text/plain": [
       "Calculating Metrics:   0%|          | 0/10 [00:00<?, ?it/s]"
      ]
     },
     "metadata": {},
     "output_type": "display_data"
    },
    {
     "data": {
      "application/vnd.jupyter.widget-view+json": {
       "model_id": "cba1a2beeb74433d9d1a19c71acbf315",
       "version_major": 2,
       "version_minor": 0
      },
      "text/plain": [
       "Calculating Metrics:   0%|          | 0/6 [00:00<?, ?it/s]"
      ]
     },
     "metadata": {},
     "output_type": "display_data"
    },
    {
     "data": {
      "application/vnd.jupyter.widget-view+json": {
       "model_id": "74544dc1a7504e0487ad9213b24fd74f",
       "version_major": 2,
       "version_minor": 0
      },
      "text/plain": [
       "Calculating Metrics:   0%|          | 0/5 [00:00<?, ?it/s]"
      ]
     },
     "metadata": {},
     "output_type": "display_data"
    },
    {
     "data": {
      "application/vnd.jupyter.widget-view+json": {
       "model_id": "39d3d9f9c1d4476899df2e23becd6997",
       "version_major": 2,
       "version_minor": 0
      },
      "text/plain": [
       "Calculating Metrics:   0%|          | 0/5 [00:00<?, ?it/s]"
      ]
     },
     "metadata": {},
     "output_type": "display_data"
    },
    {
     "data": {
      "application/vnd.jupyter.widget-view+json": {
       "model_id": "e1a6bb22431742b7b5c3bbeb83101b71",
       "version_major": 2,
       "version_minor": 0
      },
      "text/plain": [
       "Calculating Metrics:   0%|          | 0/10 [00:00<?, ?it/s]"
      ]
     },
     "metadata": {},
     "output_type": "display_data"
    },
    {
     "data": {
      "application/vnd.jupyter.widget-view+json": {
       "model_id": "d6be303220e24a0f8f5999a6a7ac465a",
       "version_major": 2,
       "version_minor": 0
      },
      "text/plain": [
       "Calculating Metrics:   0%|          | 0/6 [00:00<?, ?it/s]"
      ]
     },
     "metadata": {},
     "output_type": "display_data"
    },
    {
     "data": {
      "application/vnd.jupyter.widget-view+json": {
       "model_id": "8ffe6e89062643f7ba81e01808a24faf",
       "version_major": 2,
       "version_minor": 0
      },
      "text/plain": [
       "Calculating Metrics:   0%|          | 0/5 [00:00<?, ?it/s]"
      ]
     },
     "metadata": {},
     "output_type": "display_data"
    },
    {
     "data": {
      "application/vnd.jupyter.widget-view+json": {
       "model_id": "b9ccbc22ee8d42d4bf02b4c18fb2eb5c",
       "version_major": 2,
       "version_minor": 0
      },
      "text/plain": [
       "Calculating Metrics:   0%|          | 0/5 [00:00<?, ?it/s]"
      ]
     },
     "metadata": {},
     "output_type": "display_data"
    },
    {
     "data": {
      "application/vnd.jupyter.widget-view+json": {
       "model_id": "b8ec2e3f64894fbaa66b6dc5ebce642f",
       "version_major": 2,
       "version_minor": 0
      },
      "text/plain": [
       "Calculating Metrics:   0%|          | 0/10 [00:00<?, ?it/s]"
      ]
     },
     "metadata": {},
     "output_type": "display_data"
    },
    {
     "data": {
      "application/vnd.jupyter.widget-view+json": {
       "model_id": "a9bac003b2c7437298b5782e85d1b652",
       "version_major": 2,
       "version_minor": 0
      },
      "text/plain": [
       "Calculating Metrics:   0%|          | 0/6 [00:00<?, ?it/s]"
      ]
     },
     "metadata": {},
     "output_type": "display_data"
    },
    {
     "data": {
      "application/vnd.jupyter.widget-view+json": {
       "model_id": "a34e021478944ae0a8e2d00e0556522b",
       "version_major": 2,
       "version_minor": 0
      },
      "text/plain": [
       "Calculating Metrics:   0%|          | 0/5 [00:00<?, ?it/s]"
      ]
     },
     "metadata": {},
     "output_type": "display_data"
    },
    {
     "data": {
      "application/vnd.jupyter.widget-view+json": {
       "model_id": "7c7f095cbb1f43f7be70516d71854797",
       "version_major": 2,
       "version_minor": 0
      },
      "text/plain": [
       "Calculating Metrics:   0%|          | 0/5 [00:00<?, ?it/s]"
      ]
     },
     "metadata": {},
     "output_type": "display_data"
    },
    {
     "data": {
      "application/vnd.jupyter.widget-view+json": {
       "model_id": "6a9a776017044a18be8ab6221a4ec422",
       "version_major": 2,
       "version_minor": 0
      },
      "text/plain": [
       "Calculating Metrics:   0%|          | 0/10 [00:00<?, ?it/s]"
      ]
     },
     "metadata": {},
     "output_type": "display_data"
    }
   ],
   "source": [
    "data_assistant_result = context.assistants.onboarding.run(\n",
    "    batch_request=full_batch_salary_batch_request)"
   ]
  },
  {
   "cell_type": "code",
   "execution_count": 31,
   "id": "be4cf419-271b-46b2-812c-fdaf8f347175",
   "metadata": {
    "collapsed": true,
    "jupyter": {
     "outputs_hidden": true
    },
    "tags": []
   },
   "outputs": [
    {
     "data": {
      "text/plain": [
       "{\n",
       "  \"expectation_suite_name\": \"tmp.OnboardingDataAssistantResult.suite.0a5daef0\",\n",
       "  \"ge_cloud_id\": null,\n",
       "  \"expectations\": [\n",
       "    {\n",
       "      \"expectation_type\": \"expect_table_row_count_to_be_between\",\n",
       "      \"kwargs\": {\n",
       "        \"max_value\": 27971,\n",
       "        \"min_value\": 27971\n",
       "      },\n",
       "      \"meta\": {\n",
       "        \"profiler_details\": {\n",
       "          \"metric_configuration\": {\n",
       "            \"metric_name\": \"table.row_count\",\n",
       "            \"domain_kwargs\": {},\n",
       "            \"metric_value_kwargs\": null\n",
       "          },\n",
       "          \"num_batches\": 1\n",
       "        }\n",
       "      }\n",
       "    },\n",
       "    {\n",
       "      \"expectation_type\": \"expect_table_columns_to_match_set\",\n",
       "      \"kwargs\": {\n",
       "        \"exact_match\": null,\n",
       "        \"column_set\": [\n",
       "          \"timestamp\",\n",
       "          \"age\",\n",
       "          \"title\",\n",
       "          \"currencya\",\n",
       "          \"city\",\n",
       "          \"overall_experience\",\n",
       "          \"country\",\n",
       "          \"gender\",\n",
       "          \"index\",\n",
       "          \"bonus\",\n",
       "          \"currencyb\",\n",
       "          \"income_context\",\n",
       "          \"industry\",\n",
       "          \"race\",\n",
       "          \"field_experience\",\n",
       "          \"us_state\",\n",
       "          \"education\",\n",
       "          \"salary\",\n",
       "          \"title_description\"\n",
       "        ]\n",
       "      },\n",
       "      \"meta\": {\n",
       "        \"profiler_details\": {\n",
       "          \"success_ratio\": 1.0\n",
       "        }\n",
       "      }\n",
       "    },\n",
       "    {\n",
       "      \"expectation_type\": \"expect_column_values_to_be_unique\",\n",
       "      \"kwargs\": {\n",
       "        \"column\": \"index\"\n",
       "      },\n",
       "      \"meta\": {\n",
       "        \"profiler_details\": {\n",
       "          \"metric_configuration\": {\n",
       "            \"metric_name\": \"column_values.unique.unexpected_count\",\n",
       "            \"domain_kwargs\": {\n",
       "              \"column\": \"index\"\n",
       "            },\n",
       "            \"metric_value_kwargs\": null\n",
       "          },\n",
       "          \"num_batches\": 1\n",
       "        }\n",
       "      }\n",
       "    },\n",
       "    {\n",
       "      \"expectation_type\": \"expect_column_values_to_not_be_null\",\n",
       "      \"kwargs\": {\n",
       "        \"column\": \"index\"\n",
       "      },\n",
       "      \"meta\": {\n",
       "        \"profiler_details\": {\n",
       "          \"metric_configuration\": {\n",
       "            \"metric_name\": \"column_values.nonnull.unexpected_count\",\n",
       "            \"domain_kwargs\": {\n",
       "              \"column\": \"index\"\n",
       "            },\n",
       "            \"metric_value_kwargs\": null\n",
       "          },\n",
       "          \"num_batches\": 1\n",
       "        }\n",
       "      }\n",
       "    },\n",
       "    {\n",
       "      \"expectation_type\": \"expect_column_values_to_not_be_null\",\n",
       "      \"kwargs\": {\n",
       "        \"column\": \"timestamp\"\n",
       "      },\n",
       "      \"meta\": {\n",
       "        \"profiler_details\": {\n",
       "          \"metric_configuration\": {\n",
       "            \"metric_name\": \"column_values.nonnull.unexpected_count\",\n",
       "            \"domain_kwargs\": {\n",
       "              \"column\": \"timestamp\"\n",
       "            },\n",
       "            \"metric_value_kwargs\": null\n",
       "          },\n",
       "          \"num_batches\": 1\n",
       "        }\n",
       "      }\n",
       "    },\n",
       "    {\n",
       "      \"expectation_type\": \"expect_column_values_to_not_be_null\",\n",
       "      \"kwargs\": {\n",
       "        \"column\": \"age\"\n",
       "      },\n",
       "      \"meta\": {\n",
       "        \"profiler_details\": {\n",
       "          \"metric_configuration\": {\n",
       "            \"metric_name\": \"column_values.nonnull.unexpected_count\",\n",
       "            \"domain_kwargs\": {\n",
       "              \"column\": \"age\"\n",
       "            },\n",
       "            \"metric_value_kwargs\": null\n",
       "          },\n",
       "          \"num_batches\": 1\n",
       "        }\n",
       "      }\n",
       "    },\n",
       "    {\n",
       "      \"expectation_type\": \"expect_column_values_to_not_be_null\",\n",
       "      \"kwargs\": {\n",
       "        \"column\": \"title\"\n",
       "      },\n",
       "      \"meta\": {\n",
       "        \"profiler_details\": {\n",
       "          \"metric_configuration\": {\n",
       "            \"metric_name\": \"column_values.nonnull.unexpected_count\",\n",
       "            \"domain_kwargs\": {\n",
       "              \"column\": \"title\"\n",
       "            },\n",
       "            \"metric_value_kwargs\": null\n",
       "          },\n",
       "          \"num_batches\": 1\n",
       "        }\n",
       "      }\n",
       "    },\n",
       "    {\n",
       "      \"expectation_type\": \"expect_column_values_to_not_be_null\",\n",
       "      \"kwargs\": {\n",
       "        \"column\": \"salary\"\n",
       "      },\n",
       "      \"meta\": {\n",
       "        \"profiler_details\": {\n",
       "          \"metric_configuration\": {\n",
       "            \"metric_name\": \"column_values.nonnull.unexpected_count\",\n",
       "            \"domain_kwargs\": {\n",
       "              \"column\": \"salary\"\n",
       "            },\n",
       "            \"metric_value_kwargs\": null\n",
       "          },\n",
       "          \"num_batches\": 1\n",
       "        }\n",
       "      }\n",
       "    },\n",
       "    {\n",
       "      \"expectation_type\": \"expect_column_values_to_not_be_null\",\n",
       "      \"kwargs\": {\n",
       "        \"column\": \"currencya\"\n",
       "      },\n",
       "      \"meta\": {\n",
       "        \"profiler_details\": {\n",
       "          \"metric_configuration\": {\n",
       "            \"metric_name\": \"column_values.nonnull.unexpected_count\",\n",
       "            \"domain_kwargs\": {\n",
       "              \"column\": \"currencya\"\n",
       "            },\n",
       "            \"metric_value_kwargs\": null\n",
       "          },\n",
       "          \"num_batches\": 1\n",
       "        }\n",
       "      }\n",
       "    },\n",
       "    {\n",
       "      \"expectation_type\": \"expect_column_values_to_not_be_null\",\n",
       "      \"kwargs\": {\n",
       "        \"column\": \"country\"\n",
       "      },\n",
       "      \"meta\": {\n",
       "        \"profiler_details\": {\n",
       "          \"metric_configuration\": {\n",
       "            \"metric_name\": \"column_values.nonnull.unexpected_count\",\n",
       "            \"domain_kwargs\": {\n",
       "              \"column\": \"country\"\n",
       "            },\n",
       "            \"metric_value_kwargs\": null\n",
       "          },\n",
       "          \"num_batches\": 1\n",
       "        }\n",
       "      }\n",
       "    },\n",
       "    {\n",
       "      \"expectation_type\": \"expect_column_values_to_not_be_null\",\n",
       "      \"kwargs\": {\n",
       "        \"column\": \"overall_experience\"\n",
       "      },\n",
       "      \"meta\": {\n",
       "        \"profiler_details\": {\n",
       "          \"metric_configuration\": {\n",
       "            \"metric_name\": \"column_values.nonnull.unexpected_count\",\n",
       "            \"domain_kwargs\": {\n",
       "              \"column\": \"overall_experience\"\n",
       "            },\n",
       "            \"metric_value_kwargs\": null\n",
       "          },\n",
       "          \"num_batches\": 1\n",
       "        }\n",
       "      }\n",
       "    },\n",
       "    {\n",
       "      \"expectation_type\": \"expect_column_values_to_not_be_null\",\n",
       "      \"kwargs\": {\n",
       "        \"column\": \"field_experience\"\n",
       "      },\n",
       "      \"meta\": {\n",
       "        \"profiler_details\": {\n",
       "          \"metric_configuration\": {\n",
       "            \"metric_name\": \"column_values.nonnull.unexpected_count\",\n",
       "            \"domain_kwargs\": {\n",
       "              \"column\": \"field_experience\"\n",
       "            },\n",
       "            \"metric_value_kwargs\": null\n",
       "          },\n",
       "          \"num_batches\": 1\n",
       "        }\n",
       "      }\n",
       "    },\n",
       "    {\n",
       "      \"expectation_type\": \"expect_column_min_to_be_between\",\n",
       "      \"kwargs\": {\n",
       "        \"column\": \"index\",\n",
       "        \"max_value\": 0,\n",
       "        \"min_value\": 0,\n",
       "        \"strict_max\": false,\n",
       "        \"strict_min\": false\n",
       "      },\n",
       "      \"meta\": {\n",
       "        \"profiler_details\": {\n",
       "          \"metric_configuration\": {\n",
       "            \"metric_name\": \"column.min\",\n",
       "            \"domain_kwargs\": {\n",
       "              \"column\": \"index\"\n",
       "            },\n",
       "            \"metric_value_kwargs\": null\n",
       "          },\n",
       "          \"num_batches\": 1\n",
       "        }\n",
       "      }\n",
       "    },\n",
       "    {\n",
       "      \"expectation_type\": \"expect_column_max_to_be_between\",\n",
       "      \"kwargs\": {\n",
       "        \"column\": \"index\",\n",
       "        \"max_value\": 27970,\n",
       "        \"min_value\": 27970,\n",
       "        \"strict_max\": false,\n",
       "        \"strict_min\": false\n",
       "      },\n",
       "      \"meta\": {\n",
       "        \"profiler_details\": {\n",
       "          \"metric_configuration\": {\n",
       "            \"metric_name\": \"column.max\",\n",
       "            \"domain_kwargs\": {\n",
       "              \"column\": \"index\"\n",
       "            },\n",
       "            \"metric_value_kwargs\": null\n",
       "          },\n",
       "          \"num_batches\": 1\n",
       "        }\n",
       "      }\n",
       "    },\n",
       "    {\n",
       "      \"expectation_type\": \"expect_column_values_to_be_between\",\n",
       "      \"kwargs\": {\n",
       "        \"column\": \"index\",\n",
       "        \"mostly\": 1.0,\n",
       "        \"max_value\": 27970,\n",
       "        \"min_value\": 0,\n",
       "        \"strict_max\": false,\n",
       "        \"strict_min\": false\n",
       "      },\n",
       "      \"meta\": {\n",
       "        \"profiler_details\": {\n",
       "          \"column_min_values_range_estimator\": {\n",
       "            \"metric_configuration\": {\n",
       "              \"metric_name\": \"column.min\",\n",
       "              \"domain_kwargs\": {\n",
       "                \"column\": \"index\"\n",
       "              },\n",
       "              \"metric_value_kwargs\": null\n",
       "            },\n",
       "            \"num_batches\": 1\n",
       "          },\n",
       "          \"column_max_values_range_estimator\": {\n",
       "            \"metric_configuration\": {\n",
       "              \"metric_name\": \"column.max\",\n",
       "              \"domain_kwargs\": {\n",
       "                \"column\": \"index\"\n",
       "              },\n",
       "              \"metric_value_kwargs\": null\n",
       "            },\n",
       "            \"num_batches\": 1\n",
       "          }\n",
       "        }\n",
       "      }\n",
       "    },\n",
       "    {\n",
       "      \"expectation_type\": \"expect_column_quantile_values_to_be_between\",\n",
       "      \"kwargs\": {\n",
       "        \"column\": \"index\",\n",
       "        \"allow_relative_error\": false,\n",
       "        \"quantile_ranges\": {\n",
       "          \"quantiles\": [\n",
       "            0.25,\n",
       "            0.5,\n",
       "            0.75\n",
       "          ],\n",
       "          \"value_ranges\": [\n",
       "            [\n",
       "              6991,\n",
       "              6991\n",
       "            ],\n",
       "            [\n",
       "              13984,\n",
       "              13984\n",
       "            ],\n",
       "            [\n",
       "              20977,\n",
       "              20977\n",
       "            ]\n",
       "          ]\n",
       "        }\n",
       "      },\n",
       "      \"meta\": {\n",
       "        \"profiler_details\": {\n",
       "          \"metric_configuration\": {\n",
       "            \"metric_name\": \"column.quantile_values\",\n",
       "            \"domain_kwargs\": {\n",
       "              \"column\": \"index\"\n",
       "            },\n",
       "            \"metric_value_kwargs\": {\n",
       "              \"quantiles\": [\n",
       "                0.25,\n",
       "                0.5,\n",
       "                0.75\n",
       "              ],\n",
       "              \"allow_relative_error\": false\n",
       "            }\n",
       "          },\n",
       "          \"num_batches\": 1\n",
       "        }\n",
       "      }\n",
       "    },\n",
       "    {\n",
       "      \"expectation_type\": \"expect_column_median_to_be_between\",\n",
       "      \"kwargs\": {\n",
       "        \"column\": \"index\",\n",
       "        \"max_value\": 13985,\n",
       "        \"min_value\": 13985,\n",
       "        \"strict_max\": false,\n",
       "        \"strict_min\": false\n",
       "      },\n",
       "      \"meta\": {\n",
       "        \"profiler_details\": {\n",
       "          \"metric_configuration\": {\n",
       "            \"metric_name\": \"column.median\",\n",
       "            \"domain_kwargs\": {\n",
       "              \"column\": \"index\"\n",
       "            },\n",
       "            \"metric_value_kwargs\": null\n",
       "          },\n",
       "          \"num_batches\": 1\n",
       "        }\n",
       "      }\n",
       "    },\n",
       "    {\n",
       "      \"expectation_type\": \"expect_column_mean_to_be_between\",\n",
       "      \"kwargs\": {\n",
       "        \"column\": \"index\",\n",
       "        \"max_value\": 13985.0,\n",
       "        \"min_value\": 13985.0,\n",
       "        \"strict_max\": false,\n",
       "        \"strict_min\": false\n",
       "      },\n",
       "      \"meta\": {\n",
       "        \"profiler_details\": {\n",
       "          \"metric_configuration\": {\n",
       "            \"metric_name\": \"column.mean\",\n",
       "            \"domain_kwargs\": {\n",
       "              \"column\": \"index\"\n",
       "            },\n",
       "            \"metric_value_kwargs\": null\n",
       "          },\n",
       "          \"num_batches\": 1\n",
       "        }\n",
       "      }\n",
       "    },\n",
       "    {\n",
       "      \"expectation_type\": \"expect_column_stdev_to_be_between\",\n",
       "      \"kwargs\": {\n",
       "        \"column\": \"index\",\n",
       "        \"max_value\": 8074.6765260287675,\n",
       "        \"min_value\": 8074.6765260287675,\n",
       "        \"strict_max\": false,\n",
       "        \"strict_min\": false\n",
       "      },\n",
       "      \"meta\": {\n",
       "        \"profiler_details\": {\n",
       "          \"metric_configuration\": {\n",
       "            \"metric_name\": \"column.standard_deviation\",\n",
       "            \"domain_kwargs\": {\n",
       "              \"column\": \"index\"\n",
       "            },\n",
       "            \"metric_value_kwargs\": null\n",
       "          },\n",
       "          \"num_batches\": 1\n",
       "        }\n",
       "      }\n",
       "    },\n",
       "    {\n",
       "      \"expectation_type\": \"expect_column_min_to_be_between\",\n",
       "      \"kwargs\": {\n",
       "        \"column\": \"bonus\",\n",
       "        \"max_value\": 0.0,\n",
       "        \"min_value\": 0.0,\n",
       "        \"strict_max\": false,\n",
       "        \"strict_min\": false\n",
       "      },\n",
       "      \"meta\": {\n",
       "        \"profiler_details\": {\n",
       "          \"metric_configuration\": {\n",
       "            \"metric_name\": \"column.min\",\n",
       "            \"domain_kwargs\": {\n",
       "              \"column\": \"bonus\"\n",
       "            },\n",
       "            \"metric_value_kwargs\": null\n",
       "          },\n",
       "          \"num_batches\": 1\n",
       "        }\n",
       "      }\n",
       "    },\n",
       "    {\n",
       "      \"expectation_type\": \"expect_column_max_to_be_between\",\n",
       "      \"kwargs\": {\n",
       "        \"column\": \"bonus\",\n",
       "        \"max_value\": 120000000.0,\n",
       "        \"min_value\": 120000000.0,\n",
       "        \"strict_max\": false,\n",
       "        \"strict_min\": false\n",
       "      },\n",
       "      \"meta\": {\n",
       "        \"profiler_details\": {\n",
       "          \"metric_configuration\": {\n",
       "            \"metric_name\": \"column.max\",\n",
       "            \"domain_kwargs\": {\n",
       "              \"column\": \"bonus\"\n",
       "            },\n",
       "            \"metric_value_kwargs\": null\n",
       "          },\n",
       "          \"num_batches\": 1\n",
       "        }\n",
       "      }\n",
       "    },\n",
       "    {\n",
       "      \"expectation_type\": \"expect_column_values_to_be_between\",\n",
       "      \"kwargs\": {\n",
       "        \"column\": \"bonus\",\n",
       "        \"mostly\": 1.0,\n",
       "        \"max_value\": 120000000.0,\n",
       "        \"min_value\": 0.0,\n",
       "        \"strict_max\": false,\n",
       "        \"strict_min\": false\n",
       "      },\n",
       "      \"meta\": {\n",
       "        \"profiler_details\": {\n",
       "          \"column_min_values_range_estimator\": {\n",
       "            \"metric_configuration\": {\n",
       "              \"metric_name\": \"column.min\",\n",
       "              \"domain_kwargs\": {\n",
       "                \"column\": \"bonus\"\n",
       "              },\n",
       "              \"metric_value_kwargs\": null\n",
       "            },\n",
       "            \"num_batches\": 1\n",
       "          },\n",
       "          \"column_max_values_range_estimator\": {\n",
       "            \"metric_configuration\": {\n",
       "              \"metric_name\": \"column.max\",\n",
       "              \"domain_kwargs\": {\n",
       "                \"column\": \"bonus\"\n",
       "              },\n",
       "              \"metric_value_kwargs\": null\n",
       "            },\n",
       "            \"num_batches\": 1\n",
       "          }\n",
       "        }\n",
       "      }\n",
       "    },\n",
       "    {\n",
       "      \"expectation_type\": \"expect_column_quantile_values_to_be_between\",\n",
       "      \"kwargs\": {\n",
       "        \"column\": \"bonus\",\n",
       "        \"allow_relative_error\": false,\n",
       "        \"quantile_ranges\": {\n",
       "          \"quantiles\": [\n",
       "            0.25,\n",
       "            0.5,\n",
       "            0.75\n",
       "          ],\n",
       "          \"value_ranges\": [\n",
       "            [\n",
       "              0.0,\n",
       "              0.0\n",
       "            ],\n",
       "            [\n",
       "              0.0,\n",
       "              0.0\n",
       "            ],\n",
       "            [\n",
       "              5000.0,\n",
       "              5000.0\n",
       "            ]\n",
       "          ]\n",
       "        }\n",
       "      },\n",
       "      \"meta\": {\n",
       "        \"profiler_details\": {\n",
       "          \"metric_configuration\": {\n",
       "            \"metric_name\": \"column.quantile_values\",\n",
       "            \"domain_kwargs\": {\n",
       "              \"column\": \"bonus\"\n",
       "            },\n",
       "            \"metric_value_kwargs\": {\n",
       "              \"quantiles\": [\n",
       "                0.25,\n",
       "                0.5,\n",
       "                0.75\n",
       "              ],\n",
       "              \"allow_relative_error\": false\n",
       "            }\n",
       "          },\n",
       "          \"num_batches\": 1\n",
       "        }\n",
       "      }\n",
       "    },\n",
       "    {\n",
       "      \"expectation_type\": \"expect_column_median_to_be_between\",\n",
       "      \"kwargs\": {\n",
       "        \"column\": \"bonus\",\n",
       "        \"max_value\": 2000.0,\n",
       "        \"min_value\": 2000.0,\n",
       "        \"strict_max\": false,\n",
       "        \"strict_min\": false\n",
       "      },\n",
       "      \"meta\": {\n",
       "        \"profiler_details\": {\n",
       "          \"metric_configuration\": {\n",
       "            \"metric_name\": \"column.median\",\n",
       "            \"domain_kwargs\": {\n",
       "              \"column\": \"bonus\"\n",
       "            },\n",
       "            \"metric_value_kwargs\": null\n",
       "          },\n",
       "          \"num_batches\": 1\n",
       "        }\n",
       "      }\n",
       "    },\n",
       "    {\n",
       "      \"expectation_type\": \"expect_column_mean_to_be_between\",\n",
       "      \"kwargs\": {\n",
       "        \"column\": \"bonus\",\n",
       "        \"max_value\": 18199.092823336232,\n",
       "        \"min_value\": 18199.092823336232,\n",
       "        \"strict_max\": false,\n",
       "        \"strict_min\": false\n",
       "      },\n",
       "      \"meta\": {\n",
       "        \"profiler_details\": {\n",
       "          \"metric_configuration\": {\n",
       "            \"metric_name\": \"column.mean\",\n",
       "            \"domain_kwargs\": {\n",
       "              \"column\": \"bonus\"\n",
       "            },\n",
       "            \"metric_value_kwargs\": null\n",
       "          },\n",
       "          \"num_batches\": 1\n",
       "        }\n",
       "      }\n",
       "    },\n",
       "    {\n",
       "      \"expectation_type\": \"expect_column_stdev_to_be_between\",\n",
       "      \"kwargs\": {\n",
       "        \"column\": \"bonus\",\n",
       "        \"max_value\": 835260.271340808,\n",
       "        \"min_value\": 835260.271340808,\n",
       "        \"strict_max\": false,\n",
       "        \"strict_min\": false\n",
       "      },\n",
       "      \"meta\": {\n",
       "        \"profiler_details\": {\n",
       "          \"metric_configuration\": {\n",
       "            \"metric_name\": \"column.standard_deviation\",\n",
       "            \"domain_kwargs\": {\n",
       "              \"column\": \"bonus\"\n",
       "            },\n",
       "            \"metric_value_kwargs\": null\n",
       "          },\n",
       "          \"num_batches\": 1\n",
       "        }\n",
       "      }\n",
       "    },\n",
       "    {\n",
       "      \"expectation_type\": \"expect_column_value_lengths_to_be_between\",\n",
       "      \"kwargs\": {\n",
       "        \"column\": \"timestamp\",\n",
       "        \"mostly\": 1.0,\n",
       "        \"max_value\": 19,\n",
       "        \"min_value\": 16,\n",
       "        \"strict_max\": false,\n",
       "        \"strict_min\": false\n",
       "      },\n",
       "      \"meta\": {\n",
       "        \"profiler_details\": {\n",
       "          \"column_min_length_range_estimator\": {\n",
       "            \"metric_configuration\": {\n",
       "              \"metric_name\": \"column_values.length.min\",\n",
       "              \"domain_kwargs\": {\n",
       "                \"column\": \"timestamp\"\n",
       "              },\n",
       "              \"metric_value_kwargs\": null\n",
       "            },\n",
       "            \"num_batches\": 1\n",
       "          },\n",
       "          \"column_max_length_range_estimator\": {\n",
       "            \"metric_configuration\": {\n",
       "              \"metric_name\": \"column_values.length.max\",\n",
       "              \"domain_kwargs\": {\n",
       "                \"column\": \"timestamp\"\n",
       "              },\n",
       "              \"metric_value_kwargs\": null\n",
       "            },\n",
       "            \"num_batches\": 1\n",
       "          }\n",
       "        }\n",
       "      }\n",
       "    },\n",
       "    {\n",
       "      \"expectation_type\": \"expect_column_values_to_match_regex\",\n",
       "      \"kwargs\": {\n",
       "        \"column\": \"timestamp\",\n",
       "        \"mostly\": 1.0,\n",
       "        \"regex\": \"[A-Za-z0-9\\\\.,;:!?()\\\\\\\"'%\\\\-]+\"\n",
       "      },\n",
       "      \"meta\": {\n",
       "        \"profiler_details\": {\n",
       "          \"success_ratio\": 1.0,\n",
       "          \"evaluated_regexes\": {\n",
       "            \"[A-Za-z0-9\\\\.,;:!?()\\\\\\\"'%\\\\-]+\": 1.0,\n",
       "            \"(?:25[0-5]|2[0-4]\\\\d|[01]\\\\d{2}|\\\\d{1,2})(?:.(?:25[0-5]|2[0-4]\\\\d|[01]\\\\d{2}|\\\\d{1,2})){3}\": 1.0,\n",
       "            \"\\\\d+\": 1.0,\n",
       "            \"-?\\\\d+(?:\\\\.\\\\d*)?\": 1.0,\n",
       "            \"-?\\\\d+\": 1.0,\n",
       "            \"<\\\\/?(?:p|a|b|img)(?: \\\\/)?>\": 0.0,\n",
       "            \"^\\\\s+\": 0.0,\n",
       "            \"\\\\b[0-9a-fA-F]{8}\\\\b-[0-9a-fA-F]{4}-[0-5][0-9a-fA-F]{3}-[089ab][0-9a-fA-F]{3}-\\\\b[0-9a-fA-F]{12}\\\\b \": 0.0,\n",
       "            \"\\\\s+$\": 0.0,\n",
       "            \"https?:\\\\/\\\\/(?:www\\\\.)?[-a-zA-Z0-9@:%._\\\\+~#=]{2,255}\\\\.[a-z]{2,6}\\\\b(?:[-a-zA-Z0-9@:%_\\\\+.~#()?&//=]*)\": 0.0\n",
       "          }\n",
       "        }\n",
       "      }\n",
       "    },\n",
       "    {\n",
       "      \"expectation_type\": \"expect_column_value_lengths_to_be_between\",\n",
       "      \"kwargs\": {\n",
       "        \"column\": \"age\",\n",
       "        \"mostly\": 1.0,\n",
       "        \"max_value\": 10,\n",
       "        \"min_value\": 5,\n",
       "        \"strict_max\": false,\n",
       "        \"strict_min\": false\n",
       "      },\n",
       "      \"meta\": {\n",
       "        \"profiler_details\": {\n",
       "          \"column_min_length_range_estimator\": {\n",
       "            \"metric_configuration\": {\n",
       "              \"metric_name\": \"column_values.length.min\",\n",
       "              \"domain_kwargs\": {\n",
       "                \"column\": \"age\"\n",
       "              },\n",
       "              \"metric_value_kwargs\": null\n",
       "            },\n",
       "            \"num_batches\": 1\n",
       "          },\n",
       "          \"column_max_length_range_estimator\": {\n",
       "            \"metric_configuration\": {\n",
       "              \"metric_name\": \"column_values.length.max\",\n",
       "              \"domain_kwargs\": {\n",
       "                \"column\": \"age\"\n",
       "              },\n",
       "              \"metric_value_kwargs\": null\n",
       "            },\n",
       "            \"num_batches\": 1\n",
       "          }\n",
       "        }\n",
       "      }\n",
       "    },\n",
       "    {\n",
       "      \"expectation_type\": \"expect_column_values_to_match_regex\",\n",
       "      \"kwargs\": {\n",
       "        \"column\": \"age\",\n",
       "        \"mostly\": 1.0,\n",
       "        \"regex\": \"[A-Za-z0-9\\\\.,;:!?()\\\\\\\"'%\\\\-]+\"\n",
       "      },\n",
       "      \"meta\": {\n",
       "        \"profiler_details\": {\n",
       "          \"success_ratio\": 1.0,\n",
       "          \"evaluated_regexes\": {\n",
       "            \"[A-Za-z0-9\\\\.,;:!?()\\\\\\\"'%\\\\-]+\": 1.0,\n",
       "            \"\\\\d+\": 1.0,\n",
       "            \"-?\\\\d+(?:\\\\.\\\\d*)?\": 1.0,\n",
       "            \"-?\\\\d+\": 1.0,\n",
       "            \"(?:25[0-5]|2[0-4]\\\\d|[01]\\\\d{2}|\\\\d{1,2})(?:.(?:25[0-5]|2[0-4]\\\\d|[01]\\\\d{2}|\\\\d{1,2})){3}\": 0.0,\n",
       "            \"<\\\\/?(?:p|a|b|img)(?: \\\\/)?>\": 0.0,\n",
       "            \"^\\\\s+\": 0.0,\n",
       "            \"\\\\b[0-9a-fA-F]{8}\\\\b-[0-9a-fA-F]{4}-[0-5][0-9a-fA-F]{3}-[089ab][0-9a-fA-F]{3}-\\\\b[0-9a-fA-F]{12}\\\\b \": 0.0,\n",
       "            \"\\\\s+$\": 0.0,\n",
       "            \"https?:\\\\/\\\\/(?:www\\\\.)?[-a-zA-Z0-9@:%._\\\\+~#=]{2,255}\\\\.[a-z]{2,6}\\\\b(?:[-a-zA-Z0-9@:%_\\\\+.~#()?&//=]*)\": 0.0\n",
       "          }\n",
       "        }\n",
       "      }\n",
       "    },\n",
       "    {\n",
       "      \"expectation_type\": \"expect_column_value_lengths_to_be_between\",\n",
       "      \"kwargs\": {\n",
       "        \"column\": \"industry\",\n",
       "        \"mostly\": 1.0,\n",
       "        \"max_value\": 171,\n",
       "        \"min_value\": 2,\n",
       "        \"strict_max\": false,\n",
       "        \"strict_min\": false\n",
       "      },\n",
       "      \"meta\": {\n",
       "        \"profiler_details\": {\n",
       "          \"column_min_length_range_estimator\": {\n",
       "            \"metric_configuration\": {\n",
       "              \"metric_name\": \"column_values.length.min\",\n",
       "              \"domain_kwargs\": {\n",
       "                \"column\": \"industry\"\n",
       "              },\n",
       "              \"metric_value_kwargs\": null\n",
       "            },\n",
       "            \"num_batches\": 1\n",
       "          },\n",
       "          \"column_max_length_range_estimator\": {\n",
       "            \"metric_configuration\": {\n",
       "              \"metric_name\": \"column_values.length.max\",\n",
       "              \"domain_kwargs\": {\n",
       "                \"column\": \"industry\"\n",
       "              },\n",
       "              \"metric_value_kwargs\": null\n",
       "            },\n",
       "            \"num_batches\": 1\n",
       "          }\n",
       "        }\n",
       "      }\n",
       "    },\n",
       "    {\n",
       "      \"expectation_type\": \"expect_column_values_to_match_regex\",\n",
       "      \"kwargs\": {\n",
       "        \"column\": \"industry\",\n",
       "        \"mostly\": 1.0,\n",
       "        \"regex\": \"[A-Za-z0-9\\\\.,;:!?()\\\\\\\"'%\\\\-]+\"\n",
       "      },\n",
       "      \"meta\": {\n",
       "        \"profiler_details\": {\n",
       "          \"success_ratio\": 1.0,\n",
       "          \"evaluated_regexes\": {\n",
       "            \"[A-Za-z0-9\\\\.,;:!?()\\\\\\\"'%\\\\-]+\": 1.0,\n",
       "            \"\\\\s+$\": 0.010681386429621133,\n",
       "            \"\\\\d+\": 0.000250905050360228,\n",
       "            \"-?\\\\d+(?:\\\\.\\\\d*)?\": 0.000250905050360228,\n",
       "            \"-?\\\\d+\": 0.000250905050360228,\n",
       "            \"^\\\\s+\": 7.168715724577942e-05,\n",
       "            \"(?:25[0-5]|2[0-4]\\\\d|[01]\\\\d{2}|\\\\d{1,2})(?:.(?:25[0-5]|2[0-4]\\\\d|[01]\\\\d{2}|\\\\d{1,2})){3}\": 0.0,\n",
       "            \"<\\\\/?(?:p|a|b|img)(?: \\\\/)?>\": 0.0,\n",
       "            \"\\\\b[0-9a-fA-F]{8}\\\\b-[0-9a-fA-F]{4}-[0-5][0-9a-fA-F]{3}-[089ab][0-9a-fA-F]{3}-\\\\b[0-9a-fA-F]{12}\\\\b \": 0.0,\n",
       "            \"https?:\\\\/\\\\/(?:www\\\\.)?[-a-zA-Z0-9@:%._\\\\+~#=]{2,255}\\\\.[a-z]{2,6}\\\\b(?:[-a-zA-Z0-9@:%_\\\\+.~#()?&//=]*)\": 0.0\n",
       "          }\n",
       "        }\n",
       "      }\n",
       "    },\n",
       "    {\n",
       "      \"expectation_type\": \"expect_column_value_lengths_to_be_between\",\n",
       "      \"kwargs\": {\n",
       "        \"column\": \"title\",\n",
       "        \"mostly\": 1.0,\n",
       "        \"max_value\": 126,\n",
       "        \"min_value\": 1,\n",
       "        \"strict_max\": false,\n",
       "        \"strict_min\": false\n",
       "      },\n",
       "      \"meta\": {\n",
       "        \"profiler_details\": {\n",
       "          \"column_min_length_range_estimator\": {\n",
       "            \"metric_configuration\": {\n",
       "              \"metric_name\": \"column_values.length.min\",\n",
       "              \"domain_kwargs\": {\n",
       "                \"column\": \"title\"\n",
       "              },\n",
       "              \"metric_value_kwargs\": null\n",
       "            },\n",
       "            \"num_batches\": 1\n",
       "          },\n",
       "          \"column_max_length_range_estimator\": {\n",
       "            \"metric_configuration\": {\n",
       "              \"metric_name\": \"column_values.length.max\",\n",
       "              \"domain_kwargs\": {\n",
       "                \"column\": \"title\"\n",
       "              },\n",
       "              \"metric_value_kwargs\": null\n",
       "            },\n",
       "            \"num_batches\": 1\n",
       "          }\n",
       "        }\n",
       "      }\n",
       "    },\n",
       "    {\n",
       "      \"expectation_type\": \"expect_column_values_to_match_regex\",\n",
       "      \"kwargs\": {\n",
       "        \"column\": \"title\",\n",
       "        \"mostly\": 1.0,\n",
       "        \"regex\": \"[A-Za-z0-9\\\\.,;:!?()\\\\\\\"'%\\\\-]+\"\n",
       "      },\n",
       "      \"meta\": {\n",
       "        \"profiler_details\": {\n",
       "          \"success_ratio\": 1.0,\n",
       "          \"evaluated_regexes\": {\n",
       "            \"[A-Za-z0-9\\\\.,;:!?()\\\\\\\"'%\\\\-]+\": 1.0,\n",
       "            \"\\\\s+$\": 0.12305602230881985,\n",
       "            \"\\\\d+\": 0.00782953773551178,\n",
       "            \"-?\\\\d+(?:\\\\.\\\\d*)?\": 0.00782953773551178,\n",
       "            \"-?\\\\d+\": 0.00782953773551178,\n",
       "            \"^\\\\s+\": 0.0007865289049372564,\n",
       "            \"(?:25[0-5]|2[0-4]\\\\d|[01]\\\\d{2}|\\\\d{1,2})(?:.(?:25[0-5]|2[0-4]\\\\d|[01]\\\\d{2}|\\\\d{1,2})){3}\": 0.0,\n",
       "            \"<\\\\/?(?:p|a|b|img)(?: \\\\/)?>\": 0.0,\n",
       "            \"\\\\b[0-9a-fA-F]{8}\\\\b-[0-9a-fA-F]{4}-[0-5][0-9a-fA-F]{3}-[089ab][0-9a-fA-F]{3}-\\\\b[0-9a-fA-F]{12}\\\\b \": 0.0,\n",
       "            \"https?:\\\\/\\\\/(?:www\\\\.)?[-a-zA-Z0-9@:%._\\\\+~#=]{2,255}\\\\.[a-z]{2,6}\\\\b(?:[-a-zA-Z0-9@:%_\\\\+.~#()?&//=]*)\": 0.0\n",
       "          }\n",
       "        }\n",
       "      }\n",
       "    },\n",
       "    {\n",
       "      \"expectation_type\": \"expect_column_value_lengths_to_be_between\",\n",
       "      \"kwargs\": {\n",
       "        \"column\": \"title_description\",\n",
       "        \"mostly\": 1.0,\n",
       "        \"max_value\": 808,\n",
       "        \"min_value\": 1,\n",
       "        \"strict_max\": false,\n",
       "        \"strict_min\": false\n",
       "      },\n",
       "      \"meta\": {\n",
       "        \"profiler_details\": {\n",
       "          \"column_min_length_range_estimator\": {\n",
       "            \"metric_configuration\": {\n",
       "              \"metric_name\": \"column_values.length.min\",\n",
       "              \"domain_kwargs\": {\n",
       "                \"column\": \"title_description\"\n",
       "              },\n",
       "              \"metric_value_kwargs\": null\n",
       "            },\n",
       "            \"num_batches\": 1\n",
       "          },\n",
       "          \"column_max_length_range_estimator\": {\n",
       "            \"metric_configuration\": {\n",
       "              \"metric_name\": \"column_values.length.max\",\n",
       "              \"domain_kwargs\": {\n",
       "                \"column\": \"title_description\"\n",
       "              },\n",
       "              \"metric_value_kwargs\": null\n",
       "            },\n",
       "            \"num_batches\": 1\n",
       "          }\n",
       "        }\n",
       "      }\n",
       "    },\n",
       "    {\n",
       "      \"expectation_type\": \"expect_column_value_lengths_to_be_between\",\n",
       "      \"kwargs\": {\n",
       "        \"column\": \"salary\",\n",
       "        \"mostly\": 1.0,\n",
       "        \"max_value\": 11,\n",
       "        \"min_value\": 1,\n",
       "        \"strict_max\": false,\n",
       "        \"strict_min\": false\n",
       "      },\n",
       "      \"meta\": {\n",
       "        \"profiler_details\": {\n",
       "          \"column_min_length_range_estimator\": {\n",
       "            \"metric_configuration\": {\n",
       "              \"metric_name\": \"column_values.length.min\",\n",
       "              \"domain_kwargs\": {\n",
       "                \"column\": \"salary\"\n",
       "              },\n",
       "              \"metric_value_kwargs\": null\n",
       "            },\n",
       "            \"num_batches\": 1\n",
       "          },\n",
       "          \"column_max_length_range_estimator\": {\n",
       "            \"metric_configuration\": {\n",
       "              \"metric_name\": \"column_values.length.max\",\n",
       "              \"domain_kwargs\": {\n",
       "                \"column\": \"salary\"\n",
       "              },\n",
       "              \"metric_value_kwargs\": null\n",
       "            },\n",
       "            \"num_batches\": 1\n",
       "          }\n",
       "        }\n",
       "      }\n",
       "    },\n",
       "    {\n",
       "      \"expectation_type\": \"expect_column_values_to_match_regex\",\n",
       "      \"kwargs\": {\n",
       "        \"column\": \"salary\",\n",
       "        \"mostly\": 1.0,\n",
       "        \"regex\": \"[A-Za-z0-9\\\\.,;:!?()\\\\\\\"'%\\\\-]+\"\n",
       "      },\n",
       "      \"meta\": {\n",
       "        \"profiler_details\": {\n",
       "          \"success_ratio\": 1.0,\n",
       "          \"evaluated_regexes\": {\n",
       "            \"[A-Za-z0-9\\\\.,;:!?()\\\\\\\"'%\\\\-]+\": 1.0,\n",
       "            \"\\\\d+\": 1.0,\n",
       "            \"-?\\\\d+(?:\\\\.\\\\d*)?\": 1.0,\n",
       "            \"-?\\\\d+\": 1.0,\n",
       "            \"(?:25[0-5]|2[0-4]\\\\d|[01]\\\\d{2}|\\\\d{1,2})(?:.(?:25[0-5]|2[0-4]\\\\d|[01]\\\\d{2}|\\\\d{1,2})){3}\": 0.22223016695863573,\n",
       "            \"<\\\\/?(?:p|a|b|img)(?: \\\\/)?>\": 0.0,\n",
       "            \"^\\\\s+\": 0.0,\n",
       "            \"\\\\b[0-9a-fA-F]{8}\\\\b-[0-9a-fA-F]{4}-[0-5][0-9a-fA-F]{3}-[089ab][0-9a-fA-F]{3}-\\\\b[0-9a-fA-F]{12}\\\\b \": 0.0,\n",
       "            \"\\\\s+$\": 0.0,\n",
       "            \"https?:\\\\/\\\\/(?:www\\\\.)?[-a-zA-Z0-9@:%._\\\\+~#=]{2,255}\\\\.[a-z]{2,6}\\\\b(?:[-a-zA-Z0-9@:%_\\\\+.~#()?&//=]*)\": 0.0\n",
       "          }\n",
       "        }\n",
       "      }\n",
       "    },\n",
       "    {\n",
       "      \"expectation_type\": \"expect_column_value_lengths_to_be_between\",\n",
       "      \"kwargs\": {\n",
       "        \"column\": \"currencya\",\n",
       "        \"mostly\": 1.0,\n",
       "        \"max_value\": 7,\n",
       "        \"min_value\": 3,\n",
       "        \"strict_max\": false,\n",
       "        \"strict_min\": false\n",
       "      },\n",
       "      \"meta\": {\n",
       "        \"profiler_details\": {\n",
       "          \"column_min_length_range_estimator\": {\n",
       "            \"metric_configuration\": {\n",
       "              \"metric_name\": \"column_values.length.min\",\n",
       "              \"domain_kwargs\": {\n",
       "                \"column\": \"currencya\"\n",
       "              },\n",
       "              \"metric_value_kwargs\": null\n",
       "            },\n",
       "            \"num_batches\": 1\n",
       "          },\n",
       "          \"column_max_length_range_estimator\": {\n",
       "            \"metric_configuration\": {\n",
       "              \"metric_name\": \"column_values.length.max\",\n",
       "              \"domain_kwargs\": {\n",
       "                \"column\": \"currencya\"\n",
       "              },\n",
       "              \"metric_value_kwargs\": null\n",
       "            },\n",
       "            \"num_batches\": 1\n",
       "          }\n",
       "        }\n",
       "      }\n",
       "    },\n",
       "    {\n",
       "      \"expectation_type\": \"expect_column_values_to_match_regex\",\n",
       "      \"kwargs\": {\n",
       "        \"column\": \"currencya\",\n",
       "        \"mostly\": 1.0,\n",
       "        \"regex\": \"[A-Za-z0-9\\\\.,;:!?()\\\\\\\"'%\\\\-]+\"\n",
       "      },\n",
       "      \"meta\": {\n",
       "        \"profiler_details\": {\n",
       "          \"success_ratio\": 1.0,\n",
       "          \"evaluated_regexes\": {\n",
       "            \"[A-Za-z0-9\\\\.,;:!?()\\\\\\\"'%\\\\-]+\": 1.0,\n",
       "            \"(?:25[0-5]|2[0-4]\\\\d|[01]\\\\d{2}|\\\\d{1,2})(?:.(?:25[0-5]|2[0-4]\\\\d|[01]\\\\d{2}|\\\\d{1,2})){3}\": 0.0,\n",
       "            \"<\\\\/?(?:p|a|b|img)(?: \\\\/)?>\": 0.0,\n",
       "            \"^\\\\s+\": 0.0,\n",
       "            \"\\\\b[0-9a-fA-F]{8}\\\\b-[0-9a-fA-F]{4}-[0-5][0-9a-fA-F]{3}-[089ab][0-9a-fA-F]{3}-\\\\b[0-9a-fA-F]{12}\\\\b \": 0.0,\n",
       "            \"\\\\s+$\": 0.0,\n",
       "            \"https?:\\\\/\\\\/(?:www\\\\.)?[-a-zA-Z0-9@:%._\\\\+~#=]{2,255}\\\\.[a-z]{2,6}\\\\b(?:[-a-zA-Z0-9@:%_\\\\+.~#()?&//=]*)\": 0.0,\n",
       "            \"\\\\d+\": 0.0,\n",
       "            \"-?\\\\d+(?:\\\\.\\\\d*)?\": 0.0,\n",
       "            \"-?\\\\d+\": 0.0\n",
       "          }\n",
       "        }\n",
       "      }\n",
       "    },\n",
       "    {\n",
       "      \"expectation_type\": \"expect_column_value_lengths_to_be_between\",\n",
       "      \"kwargs\": {\n",
       "        \"column\": \"currencyb\",\n",
       "        \"mostly\": 1.0,\n",
       "        \"max_value\": 112,\n",
       "        \"min_value\": 1,\n",
       "        \"strict_max\": false,\n",
       "        \"strict_min\": false\n",
       "      },\n",
       "      \"meta\": {\n",
       "        \"profiler_details\": {\n",
       "          \"column_min_length_range_estimator\": {\n",
       "            \"metric_configuration\": {\n",
       "              \"metric_name\": \"column_values.length.min\",\n",
       "              \"domain_kwargs\": {\n",
       "                \"column\": \"currencyb\"\n",
       "              },\n",
       "              \"metric_value_kwargs\": null\n",
       "            },\n",
       "            \"num_batches\": 1\n",
       "          },\n",
       "          \"column_max_length_range_estimator\": {\n",
       "            \"metric_configuration\": {\n",
       "              \"metric_name\": \"column_values.length.max\",\n",
       "              \"domain_kwargs\": {\n",
       "                \"column\": \"currencyb\"\n",
       "              },\n",
       "              \"metric_value_kwargs\": null\n",
       "            },\n",
       "            \"num_batches\": 1\n",
       "          }\n",
       "        }\n",
       "      }\n",
       "    },\n",
       "    {\n",
       "      \"expectation_type\": \"expect_column_values_to_match_regex\",\n",
       "      \"kwargs\": {\n",
       "        \"column\": \"currencyb\",\n",
       "        \"mostly\": 1.0,\n",
       "        \"regex\": \"[A-Za-z0-9\\\\.,;:!?()\\\\\\\"'%\\\\-]+\"\n",
       "      },\n",
       "      \"meta\": {\n",
       "        \"profiler_details\": {\n",
       "          \"success_ratio\": 1.0,\n",
       "          \"evaluated_regexes\": {\n",
       "            \"[A-Za-z0-9\\\\.,;:!?()\\\\\\\"'%\\\\-]+\": 1.0,\n",
       "            \"\\\\s+$\": 0.06666666666666667,\n",
       "            \"\\\\d+\": 0.05641025641025641,\n",
       "            \"-?\\\\d+(?:\\\\.\\\\d*)?\": 0.05641025641025641,\n",
       "            \"-?\\\\d+\": 0.05641025641025641,\n",
       "            \"(?:25[0-5]|2[0-4]\\\\d|[01]\\\\d{2}|\\\\d{1,2})(?:.(?:25[0-5]|2[0-4]\\\\d|[01]\\\\d{2}|\\\\d{1,2})){3}\": 0.005128205128205128,\n",
       "            \"<\\\\/?(?:p|a|b|img)(?: \\\\/)?>\": 0.0,\n",
       "            \"^\\\\s+\": 0.0,\n",
       "            \"\\\\b[0-9a-fA-F]{8}\\\\b-[0-9a-fA-F]{4}-[0-5][0-9a-fA-F]{3}-[089ab][0-9a-fA-F]{3}-\\\\b[0-9a-fA-F]{12}\\\\b \": 0.0,\n",
       "            \"https?:\\\\/\\\\/(?:www\\\\.)?[-a-zA-Z0-9@:%._\\\\+~#=]{2,255}\\\\.[a-z]{2,6}\\\\b(?:[-a-zA-Z0-9@:%_\\\\+.~#()?&//=]*)\": 0.0\n",
       "          }\n",
       "        }\n",
       "      }\n",
       "    },\n",
       "    {\n",
       "      \"expectation_type\": \"expect_column_value_lengths_to_be_between\",\n",
       "      \"kwargs\": {\n",
       "        \"column\": \"income_context\",\n",
       "        \"mostly\": 1.0,\n",
       "        \"max_value\": 1144,\n",
       "        \"min_value\": 1,\n",
       "        \"strict_max\": false,\n",
       "        \"strict_min\": false\n",
       "      },\n",
       "      \"meta\": {\n",
       "        \"profiler_details\": {\n",
       "          \"column_min_length_range_estimator\": {\n",
       "            \"metric_configuration\": {\n",
       "              \"metric_name\": \"column_values.length.min\",\n",
       "              \"domain_kwargs\": {\n",
       "                \"column\": \"income_context\"\n",
       "              },\n",
       "              \"metric_value_kwargs\": null\n",
       "            },\n",
       "            \"num_batches\": 1\n",
       "          },\n",
       "          \"column_max_length_range_estimator\": {\n",
       "            \"metric_configuration\": {\n",
       "              \"metric_name\": \"column_values.length.max\",\n",
       "              \"domain_kwargs\": {\n",
       "                \"column\": \"income_context\"\n",
       "              },\n",
       "              \"metric_value_kwargs\": null\n",
       "            },\n",
       "            \"num_batches\": 1\n",
       "          }\n",
       "        }\n",
       "      }\n",
       "    },\n",
       "    {\n",
       "      \"expectation_type\": \"expect_column_value_lengths_to_be_between\",\n",
       "      \"kwargs\": {\n",
       "        \"column\": \"country\",\n",
       "        \"mostly\": 1.0,\n",
       "        \"max_value\": 209,\n",
       "        \"min_value\": 1,\n",
       "        \"strict_max\": false,\n",
       "        \"strict_min\": false\n",
       "      },\n",
       "      \"meta\": {\n",
       "        \"profiler_details\": {\n",
       "          \"column_min_length_range_estimator\": {\n",
       "            \"metric_configuration\": {\n",
       "              \"metric_name\": \"column_values.length.min\",\n",
       "              \"domain_kwargs\": {\n",
       "                \"column\": \"country\"\n",
       "              },\n",
       "              \"metric_value_kwargs\": null\n",
       "            },\n",
       "            \"num_batches\": 1\n",
       "          },\n",
       "          \"column_max_length_range_estimator\": {\n",
       "            \"metric_configuration\": {\n",
       "              \"metric_name\": \"column_values.length.max\",\n",
       "              \"domain_kwargs\": {\n",
       "                \"column\": \"country\"\n",
       "              },\n",
       "              \"metric_value_kwargs\": null\n",
       "            },\n",
       "            \"num_batches\": 1\n",
       "          }\n",
       "        }\n",
       "      }\n",
       "    },\n",
       "    {\n",
       "      \"expectation_type\": \"expect_column_value_lengths_to_be_between\",\n",
       "      \"kwargs\": {\n",
       "        \"column\": \"us_state\",\n",
       "        \"mostly\": 1.0,\n",
       "        \"max_value\": 114,\n",
       "        \"min_value\": 4,\n",
       "        \"strict_max\": false,\n",
       "        \"strict_min\": false\n",
       "      },\n",
       "      \"meta\": {\n",
       "        \"profiler_details\": {\n",
       "          \"column_min_length_range_estimator\": {\n",
       "            \"metric_configuration\": {\n",
       "              \"metric_name\": \"column_values.length.min\",\n",
       "              \"domain_kwargs\": {\n",
       "                \"column\": \"us_state\"\n",
       "              },\n",
       "              \"metric_value_kwargs\": null\n",
       "            },\n",
       "            \"num_batches\": 1\n",
       "          },\n",
       "          \"column_max_length_range_estimator\": {\n",
       "            \"metric_configuration\": {\n",
       "              \"metric_name\": \"column_values.length.max\",\n",
       "              \"domain_kwargs\": {\n",
       "                \"column\": \"us_state\"\n",
       "              },\n",
       "              \"metric_value_kwargs\": null\n",
       "            },\n",
       "            \"num_batches\": 1\n",
       "          }\n",
       "        }\n",
       "      }\n",
       "    },\n",
       "    {\n",
       "      \"expectation_type\": \"expect_column_values_to_match_regex\",\n",
       "      \"kwargs\": {\n",
       "        \"column\": \"us_state\",\n",
       "        \"mostly\": 1.0,\n",
       "        \"regex\": \"[A-Za-z0-9\\\\.,;:!?()\\\\\\\"'%\\\\-]+\"\n",
       "      },\n",
       "      \"meta\": {\n",
       "        \"profiler_details\": {\n",
       "          \"success_ratio\": 1.0,\n",
       "          \"evaluated_regexes\": {\n",
       "            \"[A-Za-z0-9\\\\.,;:!?()\\\\\\\"'%\\\\-]+\": 1.0,\n",
       "            \"(?:25[0-5]|2[0-4]\\\\d|[01]\\\\d{2}|\\\\d{1,2})(?:.(?:25[0-5]|2[0-4]\\\\d|[01]\\\\d{2}|\\\\d{1,2})){3}\": 0.0,\n",
       "            \"<\\\\/?(?:p|a|b|img)(?: \\\\/)?>\": 0.0,\n",
       "            \"^\\\\s+\": 0.0,\n",
       "            \"\\\\b[0-9a-fA-F]{8}\\\\b-[0-9a-fA-F]{4}-[0-5][0-9a-fA-F]{3}-[089ab][0-9a-fA-F]{3}-\\\\b[0-9a-fA-F]{12}\\\\b \": 0.0,\n",
       "            \"\\\\s+$\": 0.0,\n",
       "            \"https?:\\\\/\\\\/(?:www\\\\.)?[-a-zA-Z0-9@:%._\\\\+~#=]{2,255}\\\\.[a-z]{2,6}\\\\b(?:[-a-zA-Z0-9@:%_\\\\+.~#()?&//=]*)\": 0.0,\n",
       "            \"\\\\d+\": 0.0,\n",
       "            \"-?\\\\d+(?:\\\\.\\\\d*)?\": 0.0,\n",
       "            \"-?\\\\d+\": 0.0\n",
       "          }\n",
       "        }\n",
       "      }\n",
       "    },\n",
       "    {\n",
       "      \"expectation_type\": \"expect_column_value_lengths_to_be_between\",\n",
       "      \"kwargs\": {\n",
       "        \"column\": \"city\",\n",
       "        \"mostly\": 1.0,\n",
       "        \"max_value\": 171,\n",
       "        \"min_value\": 1,\n",
       "        \"strict_max\": false,\n",
       "        \"strict_min\": false\n",
       "      },\n",
       "      \"meta\": {\n",
       "        \"profiler_details\": {\n",
       "          \"column_min_length_range_estimator\": {\n",
       "            \"metric_configuration\": {\n",
       "              \"metric_name\": \"column_values.length.min\",\n",
       "              \"domain_kwargs\": {\n",
       "                \"column\": \"city\"\n",
       "              },\n",
       "              \"metric_value_kwargs\": null\n",
       "            },\n",
       "            \"num_batches\": 1\n",
       "          },\n",
       "          \"column_max_length_range_estimator\": {\n",
       "            \"metric_configuration\": {\n",
       "              \"metric_name\": \"column_values.length.max\",\n",
       "              \"domain_kwargs\": {\n",
       "                \"column\": \"city\"\n",
       "              },\n",
       "              \"metric_value_kwargs\": null\n",
       "            },\n",
       "            \"num_batches\": 1\n",
       "          }\n",
       "        }\n",
       "      }\n",
       "    },\n",
       "    {\n",
       "      \"expectation_type\": \"expect_column_value_lengths_to_be_between\",\n",
       "      \"kwargs\": {\n",
       "        \"column\": \"overall_experience\",\n",
       "        \"mostly\": 1.0,\n",
       "        \"max_value\": 16,\n",
       "        \"min_value\": 9,\n",
       "        \"strict_max\": false,\n",
       "        \"strict_min\": false\n",
       "      },\n",
       "      \"meta\": {\n",
       "        \"profiler_details\": {\n",
       "          \"column_min_length_range_estimator\": {\n",
       "            \"metric_configuration\": {\n",
       "              \"metric_name\": \"column_values.length.min\",\n",
       "              \"domain_kwargs\": {\n",
       "                \"column\": \"overall_experience\"\n",
       "              },\n",
       "              \"metric_value_kwargs\": null\n",
       "            },\n",
       "            \"num_batches\": 1\n",
       "          },\n",
       "          \"column_max_length_range_estimator\": {\n",
       "            \"metric_configuration\": {\n",
       "              \"metric_name\": \"column_values.length.max\",\n",
       "              \"domain_kwargs\": {\n",
       "                \"column\": \"overall_experience\"\n",
       "              },\n",
       "              \"metric_value_kwargs\": null\n",
       "            },\n",
       "            \"num_batches\": 1\n",
       "          }\n",
       "        }\n",
       "      }\n",
       "    },\n",
       "    {\n",
       "      \"expectation_type\": \"expect_column_values_to_match_regex\",\n",
       "      \"kwargs\": {\n",
       "        \"column\": \"overall_experience\",\n",
       "        \"mostly\": 1.0,\n",
       "        \"regex\": \"[A-Za-z0-9\\\\.,;:!?()\\\\\\\"'%\\\\-]+\"\n",
       "      },\n",
       "      \"meta\": {\n",
       "        \"profiler_details\": {\n",
       "          \"success_ratio\": 1.0,\n",
       "          \"evaluated_regexes\": {\n",
       "            \"[A-Za-z0-9\\\\.,;:!?()\\\\\\\"'%\\\\-]+\": 1.0,\n",
       "            \"\\\\d+\": 1.0,\n",
       "            \"-?\\\\d+(?:\\\\.\\\\d*)?\": 1.0,\n",
       "            \"-?\\\\d+\": 1.0,\n",
       "            \"(?:25[0-5]|2[0-4]\\\\d|[01]\\\\d{2}|\\\\d{1,2})(?:.(?:25[0-5]|2[0-4]\\\\d|[01]\\\\d{2}|\\\\d{1,2})){3}\": 0.0,\n",
       "            \"<\\\\/?(?:p|a|b|img)(?: \\\\/)?>\": 0.0,\n",
       "            \"^\\\\s+\": 0.0,\n",
       "            \"\\\\b[0-9a-fA-F]{8}\\\\b-[0-9a-fA-F]{4}-[0-5][0-9a-fA-F]{3}-[089ab][0-9a-fA-F]{3}-\\\\b[0-9a-fA-F]{12}\\\\b \": 0.0,\n",
       "            \"\\\\s+$\": 0.0,\n",
       "            \"https?:\\\\/\\\\/(?:www\\\\.)?[-a-zA-Z0-9@:%._\\\\+~#=]{2,255}\\\\.[a-z]{2,6}\\\\b(?:[-a-zA-Z0-9@:%_\\\\+.~#()?&//=]*)\": 0.0\n",
       "          }\n",
       "        }\n",
       "      }\n",
       "    },\n",
       "    {\n",
       "      \"expectation_type\": \"expect_column_value_lengths_to_be_between\",\n",
       "      \"kwargs\": {\n",
       "        \"column\": \"field_experience\",\n",
       "        \"mostly\": 1.0,\n",
       "        \"max_value\": 16,\n",
       "        \"min_value\": 9,\n",
       "        \"strict_max\": false,\n",
       "        \"strict_min\": false\n",
       "      },\n",
       "      \"meta\": {\n",
       "        \"profiler_details\": {\n",
       "          \"column_min_length_range_estimator\": {\n",
       "            \"metric_configuration\": {\n",
       "              \"metric_name\": \"column_values.length.min\",\n",
       "              \"domain_kwargs\": {\n",
       "                \"column\": \"field_experience\"\n",
       "              },\n",
       "              \"metric_value_kwargs\": null\n",
       "            },\n",
       "            \"num_batches\": 1\n",
       "          },\n",
       "          \"column_max_length_range_estimator\": {\n",
       "            \"metric_configuration\": {\n",
       "              \"metric_name\": \"column_values.length.max\",\n",
       "              \"domain_kwargs\": {\n",
       "                \"column\": \"field_experience\"\n",
       "              },\n",
       "              \"metric_value_kwargs\": null\n",
       "            },\n",
       "            \"num_batches\": 1\n",
       "          }\n",
       "        }\n",
       "      }\n",
       "    },\n",
       "    {\n",
       "      \"expectation_type\": \"expect_column_values_to_match_regex\",\n",
       "      \"kwargs\": {\n",
       "        \"column\": \"field_experience\",\n",
       "        \"mostly\": 1.0,\n",
       "        \"regex\": \"[A-Za-z0-9\\\\.,;:!?()\\\\\\\"'%\\\\-]+\"\n",
       "      },\n",
       "      \"meta\": {\n",
       "        \"profiler_details\": {\n",
       "          \"success_ratio\": 1.0,\n",
       "          \"evaluated_regexes\": {\n",
       "            \"[A-Za-z0-9\\\\.,;:!?()\\\\\\\"'%\\\\-]+\": 1.0,\n",
       "            \"\\\\d+\": 1.0,\n",
       "            \"-?\\\\d+(?:\\\\.\\\\d*)?\": 1.0,\n",
       "            \"-?\\\\d+\": 1.0,\n",
       "            \"(?:25[0-5]|2[0-4]\\\\d|[01]\\\\d{2}|\\\\d{1,2})(?:.(?:25[0-5]|2[0-4]\\\\d|[01]\\\\d{2}|\\\\d{1,2})){3}\": 0.0,\n",
       "            \"<\\\\/?(?:p|a|b|img)(?: \\\\/)?>\": 0.0,\n",
       "            \"^\\\\s+\": 0.0,\n",
       "            \"\\\\b[0-9a-fA-F]{8}\\\\b-[0-9a-fA-F]{4}-[0-5][0-9a-fA-F]{3}-[089ab][0-9a-fA-F]{3}-\\\\b[0-9a-fA-F]{12}\\\\b \": 0.0,\n",
       "            \"\\\\s+$\": 0.0,\n",
       "            \"https?:\\\\/\\\\/(?:www\\\\.)?[-a-zA-Z0-9@:%._\\\\+~#=]{2,255}\\\\.[a-z]{2,6}\\\\b(?:[-a-zA-Z0-9@:%_\\\\+.~#()?&//=]*)\": 0.0\n",
       "          }\n",
       "        }\n",
       "      }\n",
       "    },\n",
       "    {\n",
       "      \"expectation_type\": \"expect_column_value_lengths_to_be_between\",\n",
       "      \"kwargs\": {\n",
       "        \"column\": \"education\",\n",
       "        \"mostly\": 1.0,\n",
       "        \"max_value\": 34,\n",
       "        \"min_value\": 3,\n",
       "        \"strict_max\": false,\n",
       "        \"strict_min\": false\n",
       "      },\n",
       "      \"meta\": {\n",
       "        \"profiler_details\": {\n",
       "          \"column_min_length_range_estimator\": {\n",
       "            \"metric_configuration\": {\n",
       "              \"metric_name\": \"column_values.length.min\",\n",
       "              \"domain_kwargs\": {\n",
       "                \"column\": \"education\"\n",
       "              },\n",
       "              \"metric_value_kwargs\": null\n",
       "            },\n",
       "            \"num_batches\": 1\n",
       "          },\n",
       "          \"column_max_length_range_estimator\": {\n",
       "            \"metric_configuration\": {\n",
       "              \"metric_name\": \"column_values.length.max\",\n",
       "              \"domain_kwargs\": {\n",
       "                \"column\": \"education\"\n",
       "              },\n",
       "              \"metric_value_kwargs\": null\n",
       "            },\n",
       "            \"num_batches\": 1\n",
       "          }\n",
       "        }\n",
       "      }\n",
       "    },\n",
       "    {\n",
       "      \"expectation_type\": \"expect_column_values_to_match_regex\",\n",
       "      \"kwargs\": {\n",
       "        \"column\": \"education\",\n",
       "        \"mostly\": 1.0,\n",
       "        \"regex\": \"[A-Za-z0-9\\\\.,;:!?()\\\\\\\"'%\\\\-]+\"\n",
       "      },\n",
       "      \"meta\": {\n",
       "        \"profiler_details\": {\n",
       "          \"success_ratio\": 1.0,\n",
       "          \"evaluated_regexes\": {\n",
       "            \"[A-Za-z0-9\\\\.,;:!?()\\\\\\\"'%\\\\-]+\": 1.0,\n",
       "            \"(?:25[0-5]|2[0-4]\\\\d|[01]\\\\d{2}|\\\\d{1,2})(?:.(?:25[0-5]|2[0-4]\\\\d|[01]\\\\d{2}|\\\\d{1,2})){3}\": 0.0,\n",
       "            \"<\\\\/?(?:p|a|b|img)(?: \\\\/)?>\": 0.0,\n",
       "            \"^\\\\s+\": 0.0,\n",
       "            \"\\\\b[0-9a-fA-F]{8}\\\\b-[0-9a-fA-F]{4}-[0-5][0-9a-fA-F]{3}-[089ab][0-9a-fA-F]{3}-\\\\b[0-9a-fA-F]{12}\\\\b \": 0.0,\n",
       "            \"\\\\s+$\": 0.0,\n",
       "            \"https?:\\\\/\\\\/(?:www\\\\.)?[-a-zA-Z0-9@:%._\\\\+~#=]{2,255}\\\\.[a-z]{2,6}\\\\b(?:[-a-zA-Z0-9@:%_\\\\+.~#()?&//=]*)\": 0.0,\n",
       "            \"\\\\d+\": 0.0,\n",
       "            \"-?\\\\d+(?:\\\\.\\\\d*)?\": 0.0,\n",
       "            \"-?\\\\d+\": 0.0\n",
       "          }\n",
       "        }\n",
       "      }\n",
       "    },\n",
       "    {\n",
       "      \"expectation_type\": \"expect_column_value_lengths_to_be_between\",\n",
       "      \"kwargs\": {\n",
       "        \"column\": \"gender\",\n",
       "        \"mostly\": 1.0,\n",
       "        \"max_value\": 29,\n",
       "        \"min_value\": 3,\n",
       "        \"strict_max\": false,\n",
       "        \"strict_min\": false\n",
       "      },\n",
       "      \"meta\": {\n",
       "        \"profiler_details\": {\n",
       "          \"column_min_length_range_estimator\": {\n",
       "            \"metric_configuration\": {\n",
       "              \"metric_name\": \"column_values.length.min\",\n",
       "              \"domain_kwargs\": {\n",
       "                \"column\": \"gender\"\n",
       "              },\n",
       "              \"metric_value_kwargs\": null\n",
       "            },\n",
       "            \"num_batches\": 1\n",
       "          },\n",
       "          \"column_max_length_range_estimator\": {\n",
       "            \"metric_configuration\": {\n",
       "              \"metric_name\": \"column_values.length.max\",\n",
       "              \"domain_kwargs\": {\n",
       "                \"column\": \"gender\"\n",
       "              },\n",
       "              \"metric_value_kwargs\": null\n",
       "            },\n",
       "            \"num_batches\": 1\n",
       "          }\n",
       "        }\n",
       "      }\n",
       "    },\n",
       "    {\n",
       "      \"expectation_type\": \"expect_column_values_to_match_regex\",\n",
       "      \"kwargs\": {\n",
       "        \"column\": \"gender\",\n",
       "        \"mostly\": 1.0,\n",
       "        \"regex\": \"[A-Za-z0-9\\\\.,;:!?()\\\\\\\"'%\\\\-]+\"\n",
       "      },\n",
       "      \"meta\": {\n",
       "        \"profiler_details\": {\n",
       "          \"success_ratio\": 1.0,\n",
       "          \"evaluated_regexes\": {\n",
       "            \"[A-Za-z0-9\\\\.,;:!?()\\\\\\\"'%\\\\-]+\": 1.0,\n",
       "            \"(?:25[0-5]|2[0-4]\\\\d|[01]\\\\d{2}|\\\\d{1,2})(?:.(?:25[0-5]|2[0-4]\\\\d|[01]\\\\d{2}|\\\\d{1,2})){3}\": 0.0,\n",
       "            \"<\\\\/?(?:p|a|b|img)(?: \\\\/)?>\": 0.0,\n",
       "            \"^\\\\s+\": 0.0,\n",
       "            \"\\\\b[0-9a-fA-F]{8}\\\\b-[0-9a-fA-F]{4}-[0-5][0-9a-fA-F]{3}-[089ab][0-9a-fA-F]{3}-\\\\b[0-9a-fA-F]{12}\\\\b \": 0.0,\n",
       "            \"\\\\s+$\": 0.0,\n",
       "            \"https?:\\\\/\\\\/(?:www\\\\.)?[-a-zA-Z0-9@:%._\\\\+~#=]{2,255}\\\\.[a-z]{2,6}\\\\b(?:[-a-zA-Z0-9@:%_\\\\+.~#()?&//=]*)\": 0.0,\n",
       "            \"\\\\d+\": 0.0,\n",
       "            \"-?\\\\d+(?:\\\\.\\\\d*)?\": 0.0,\n",
       "            \"-?\\\\d+\": 0.0\n",
       "          }\n",
       "        }\n",
       "      }\n",
       "    },\n",
       "    {\n",
       "      \"expectation_type\": \"expect_column_value_lengths_to_be_between\",\n",
       "      \"kwargs\": {\n",
       "        \"column\": \"race\",\n",
       "        \"mostly\": 1.0,\n",
       "        \"max_value\": 125,\n",
       "        \"min_value\": 5,\n",
       "        \"strict_max\": false,\n",
       "        \"strict_min\": false\n",
       "      },\n",
       "      \"meta\": {\n",
       "        \"profiler_details\": {\n",
       "          \"column_min_length_range_estimator\": {\n",
       "            \"metric_configuration\": {\n",
       "              \"metric_name\": \"column_values.length.min\",\n",
       "              \"domain_kwargs\": {\n",
       "                \"column\": \"race\"\n",
       "              },\n",
       "              \"metric_value_kwargs\": null\n",
       "            },\n",
       "            \"num_batches\": 1\n",
       "          },\n",
       "          \"column_max_length_range_estimator\": {\n",
       "            \"metric_configuration\": {\n",
       "              \"metric_name\": \"column_values.length.max\",\n",
       "              \"domain_kwargs\": {\n",
       "                \"column\": \"race\"\n",
       "              },\n",
       "              \"metric_value_kwargs\": null\n",
       "            },\n",
       "            \"num_batches\": 1\n",
       "          }\n",
       "        }\n",
       "      }\n",
       "    },\n",
       "    {\n",
       "      \"expectation_type\": \"expect_column_values_to_match_regex\",\n",
       "      \"kwargs\": {\n",
       "        \"column\": \"race\",\n",
       "        \"mostly\": 1.0,\n",
       "        \"regex\": \"[A-Za-z0-9\\\\.,;:!?()\\\\\\\"'%\\\\-]+\"\n",
       "      },\n",
       "      \"meta\": {\n",
       "        \"profiler_details\": {\n",
       "          \"success_ratio\": 1.0,\n",
       "          \"evaluated_regexes\": {\n",
       "            \"[A-Za-z0-9\\\\.,;:!?()\\\\\\\"'%\\\\-]+\": 1.0,\n",
       "            \"(?:25[0-5]|2[0-4]\\\\d|[01]\\\\d{2}|\\\\d{1,2})(?:.(?:25[0-5]|2[0-4]\\\\d|[01]\\\\d{2}|\\\\d{1,2})){3}\": 0.0,\n",
       "            \"<\\\\/?(?:p|a|b|img)(?: \\\\/)?>\": 0.0,\n",
       "            \"^\\\\s+\": 0.0,\n",
       "            \"\\\\b[0-9a-fA-F]{8}\\\\b-[0-9a-fA-F]{4}-[0-5][0-9a-fA-F]{3}-[089ab][0-9a-fA-F]{3}-\\\\b[0-9a-fA-F]{12}\\\\b \": 0.0,\n",
       "            \"\\\\s+$\": 0.0,\n",
       "            \"https?:\\\\/\\\\/(?:www\\\\.)?[-a-zA-Z0-9@:%._\\\\+~#=]{2,255}\\\\.[a-z]{2,6}\\\\b(?:[-a-zA-Z0-9@:%_\\\\+.~#()?&//=]*)\": 0.0,\n",
       "            \"\\\\d+\": 0.0,\n",
       "            \"-?\\\\d+(?:\\\\.\\\\d*)?\": 0.0,\n",
       "            \"-?\\\\d+\": 0.0\n",
       "          }\n",
       "        }\n",
       "      }\n",
       "    },\n",
       "    {\n",
       "      \"expectation_type\": \"expect_column_values_to_be_in_set\",\n",
       "      \"kwargs\": {\n",
       "        \"column\": \"age\",\n",
       "        \"value_set\": [\n",
       "          \"25-34\",\n",
       "          \"65 or over\",\n",
       "          \"18-24\",\n",
       "          \"55-64\",\n",
       "          \"45-54\",\n",
       "          \"under 18\",\n",
       "          \"35-44\"\n",
       "        ],\n",
       "        \"mostly\": 1.0\n",
       "      },\n",
       "      \"meta\": {\n",
       "        \"profiler_details\": {\n",
       "          \"metric_configuration\": {\n",
       "            \"metric_name\": \"column.distinct_values\",\n",
       "            \"domain_kwargs\": {\n",
       "              \"column\": \"age\"\n",
       "            },\n",
       "            \"metric_value_kwargs\": null\n",
       "          },\n",
       "          \"num_batches\": 1,\n",
       "          \"parse_strings_as_datetimes\": false\n",
       "        }\n",
       "      }\n",
       "    },\n",
       "    {\n",
       "      \"expectation_type\": \"expect_column_unique_value_count_to_be_between\",\n",
       "      \"kwargs\": {\n",
       "        \"column\": \"age\",\n",
       "        \"max_value\": 7,\n",
       "        \"min_value\": 7,\n",
       "        \"strict_max\": false,\n",
       "        \"strict_min\": false\n",
       "      },\n",
       "      \"meta\": {\n",
       "        \"profiler_details\": {\n",
       "          \"metric_configuration\": {\n",
       "            \"metric_name\": \"column.distinct_values.count\",\n",
       "            \"domain_kwargs\": {\n",
       "              \"column\": \"age\"\n",
       "            },\n",
       "            \"metric_value_kwargs\": null\n",
       "          },\n",
       "          \"num_batches\": 1\n",
       "        }\n",
       "      }\n",
       "    },\n",
       "    {\n",
       "      \"expectation_type\": \"expect_column_proportion_of_unique_values_to_be_between\",\n",
       "      \"kwargs\": {\n",
       "        \"column\": \"age\",\n",
       "        \"max_value\": 0.00025025919702549067,\n",
       "        \"min_value\": 0.00025025919702549067,\n",
       "        \"strict_max\": false,\n",
       "        \"strict_min\": false\n",
       "      },\n",
       "      \"meta\": {\n",
       "        \"profiler_details\": {\n",
       "          \"metric_configuration\": {\n",
       "            \"metric_name\": \"column.unique_proportion\",\n",
       "            \"domain_kwargs\": {\n",
       "              \"column\": \"age\"\n",
       "            },\n",
       "            \"metric_value_kwargs\": null\n",
       "          },\n",
       "          \"num_batches\": 1\n",
       "        }\n",
       "      }\n",
       "    },\n",
       "    {\n",
       "      \"expectation_type\": \"expect_column_values_to_be_in_set\",\n",
       "      \"kwargs\": {\n",
       "        \"column\": \"currencya\",\n",
       "        \"value_set\": [\n",
       "          \"GBP\",\n",
       "          \"HKD\",\n",
       "          \"ZAR\",\n",
       "          \"CAD\",\n",
       "          \"CHF\",\n",
       "          \"SEK\",\n",
       "          \"EUR\",\n",
       "          \"USD\",\n",
       "          \"Other\",\n",
       "          \"AUD/NZD\",\n",
       "          \"JPY\"\n",
       "        ],\n",
       "        \"mostly\": 1.0\n",
       "      },\n",
       "      \"meta\": {\n",
       "        \"profiler_details\": {\n",
       "          \"metric_configuration\": {\n",
       "            \"metric_name\": \"column.distinct_values\",\n",
       "            \"domain_kwargs\": {\n",
       "              \"column\": \"currencya\"\n",
       "            },\n",
       "            \"metric_value_kwargs\": null\n",
       "          },\n",
       "          \"num_batches\": 1,\n",
       "          \"parse_strings_as_datetimes\": false\n",
       "        }\n",
       "      }\n",
       "    },\n",
       "    {\n",
       "      \"expectation_type\": \"expect_column_unique_value_count_to_be_between\",\n",
       "      \"kwargs\": {\n",
       "        \"column\": \"currencya\",\n",
       "        \"max_value\": 11,\n",
       "        \"min_value\": 11,\n",
       "        \"strict_max\": false,\n",
       "        \"strict_min\": false\n",
       "      },\n",
       "      \"meta\": {\n",
       "        \"profiler_details\": {\n",
       "          \"metric_configuration\": {\n",
       "            \"metric_name\": \"column.distinct_values.count\",\n",
       "            \"domain_kwargs\": {\n",
       "              \"column\": \"currencya\"\n",
       "            },\n",
       "            \"metric_value_kwargs\": null\n",
       "          },\n",
       "          \"num_batches\": 1\n",
       "        }\n",
       "      }\n",
       "    },\n",
       "    {\n",
       "      \"expectation_type\": \"expect_column_proportion_of_unique_values_to_be_between\",\n",
       "      \"kwargs\": {\n",
       "        \"column\": \"currencya\",\n",
       "        \"max_value\": 0.0003932644524686282,\n",
       "        \"min_value\": 0.0003932644524686282,\n",
       "        \"strict_max\": false,\n",
       "        \"strict_min\": false\n",
       "      },\n",
       "      \"meta\": {\n",
       "        \"profiler_details\": {\n",
       "          \"metric_configuration\": {\n",
       "            \"metric_name\": \"column.unique_proportion\",\n",
       "            \"domain_kwargs\": {\n",
       "              \"column\": \"currencya\"\n",
       "            },\n",
       "            \"metric_value_kwargs\": null\n",
       "          },\n",
       "          \"num_batches\": 1\n",
       "        }\n",
       "      }\n",
       "    },\n",
       "    {\n",
       "      \"expectation_type\": \"expect_column_values_to_be_in_set\",\n",
       "      \"kwargs\": {\n",
       "        \"column\": \"overall_experience\",\n",
       "        \"value_set\": [\n",
       "          \"21 - 30 years\",\n",
       "          \"2 - 4 years\",\n",
       "          \"1 year or less\",\n",
       "          \"8 - 10 years\",\n",
       "          \"41 years or more\",\n",
       "          \"11 - 20 years\",\n",
       "          \"31 - 40 years\",\n",
       "          \"5-7 years\"\n",
       "        ],\n",
       "        \"mostly\": 1.0\n",
       "      },\n",
       "      \"meta\": {\n",
       "        \"profiler_details\": {\n",
       "          \"metric_configuration\": {\n",
       "            \"metric_name\": \"column.distinct_values\",\n",
       "            \"domain_kwargs\": {\n",
       "              \"column\": \"overall_experience\"\n",
       "            },\n",
       "            \"metric_value_kwargs\": null\n",
       "          },\n",
       "          \"num_batches\": 1,\n",
       "          \"parse_strings_as_datetimes\": false\n",
       "        }\n",
       "      }\n",
       "    },\n",
       "    {\n",
       "      \"expectation_type\": \"expect_column_unique_value_count_to_be_between\",\n",
       "      \"kwargs\": {\n",
       "        \"column\": \"overall_experience\",\n",
       "        \"max_value\": 8,\n",
       "        \"min_value\": 8,\n",
       "        \"strict_max\": false,\n",
       "        \"strict_min\": false\n",
       "      },\n",
       "      \"meta\": {\n",
       "        \"profiler_details\": {\n",
       "          \"metric_configuration\": {\n",
       "            \"metric_name\": \"column.distinct_values.count\",\n",
       "            \"domain_kwargs\": {\n",
       "              \"column\": \"overall_experience\"\n",
       "            },\n",
       "            \"metric_value_kwargs\": null\n",
       "          },\n",
       "          \"num_batches\": 1\n",
       "        }\n",
       "      }\n",
       "    },\n",
       "    {\n",
       "      \"expectation_type\": \"expect_column_proportion_of_unique_values_to_be_between\",\n",
       "      \"kwargs\": {\n",
       "        \"column\": \"overall_experience\",\n",
       "        \"max_value\": 0.0002860105108862751,\n",
       "        \"min_value\": 0.0002860105108862751,\n",
       "        \"strict_max\": false,\n",
       "        \"strict_min\": false\n",
       "      },\n",
       "      \"meta\": {\n",
       "        \"profiler_details\": {\n",
       "          \"metric_configuration\": {\n",
       "            \"metric_name\": \"column.unique_proportion\",\n",
       "            \"domain_kwargs\": {\n",
       "              \"column\": \"overall_experience\"\n",
       "            },\n",
       "            \"metric_value_kwargs\": null\n",
       "          },\n",
       "          \"num_batches\": 1\n",
       "        }\n",
       "      }\n",
       "    },\n",
       "    {\n",
       "      \"expectation_type\": \"expect_column_values_to_be_in_set\",\n",
       "      \"kwargs\": {\n",
       "        \"column\": \"field_experience\",\n",
       "        \"value_set\": [\n",
       "          \"21 - 30 years\",\n",
       "          \"2 - 4 years\",\n",
       "          \"1 year or less\",\n",
       "          \"8 - 10 years\",\n",
       "          \"41 years or more\",\n",
       "          \"11 - 20 years\",\n",
       "          \"31 - 40 years\",\n",
       "          \"5-7 years\"\n",
       "        ],\n",
       "        \"mostly\": 1.0\n",
       "      },\n",
       "      \"meta\": {\n",
       "        \"profiler_details\": {\n",
       "          \"metric_configuration\": {\n",
       "            \"metric_name\": \"column.distinct_values\",\n",
       "            \"domain_kwargs\": {\n",
       "              \"column\": \"field_experience\"\n",
       "            },\n",
       "            \"metric_value_kwargs\": null\n",
       "          },\n",
       "          \"num_batches\": 1,\n",
       "          \"parse_strings_as_datetimes\": false\n",
       "        }\n",
       "      }\n",
       "    },\n",
       "    {\n",
       "      \"expectation_type\": \"expect_column_unique_value_count_to_be_between\",\n",
       "      \"kwargs\": {\n",
       "        \"column\": \"field_experience\",\n",
       "        \"max_value\": 8,\n",
       "        \"min_value\": 8,\n",
       "        \"strict_max\": false,\n",
       "        \"strict_min\": false\n",
       "      },\n",
       "      \"meta\": {\n",
       "        \"profiler_details\": {\n",
       "          \"metric_configuration\": {\n",
       "            \"metric_name\": \"column.distinct_values.count\",\n",
       "            \"domain_kwargs\": {\n",
       "              \"column\": \"field_experience\"\n",
       "            },\n",
       "            \"metric_value_kwargs\": null\n",
       "          },\n",
       "          \"num_batches\": 1\n",
       "        }\n",
       "      }\n",
       "    },\n",
       "    {\n",
       "      \"expectation_type\": \"expect_column_proportion_of_unique_values_to_be_between\",\n",
       "      \"kwargs\": {\n",
       "        \"column\": \"field_experience\",\n",
       "        \"max_value\": 0.0002860105108862751,\n",
       "        \"min_value\": 0.0002860105108862751,\n",
       "        \"strict_max\": false,\n",
       "        \"strict_min\": false\n",
       "      },\n",
       "      \"meta\": {\n",
       "        \"profiler_details\": {\n",
       "          \"metric_configuration\": {\n",
       "            \"metric_name\": \"column.unique_proportion\",\n",
       "            \"domain_kwargs\": {\n",
       "              \"column\": \"field_experience\"\n",
       "            },\n",
       "            \"metric_value_kwargs\": null\n",
       "          },\n",
       "          \"num_batches\": 1\n",
       "        }\n",
       "      }\n",
       "    },\n",
       "    {\n",
       "      \"expectation_type\": \"expect_column_values_to_be_in_set\",\n",
       "      \"kwargs\": {\n",
       "        \"column\": \"education\",\n",
       "        \"value_set\": [\n",
       "          \"High School\",\n",
       "          \"Master's degree\",\n",
       "          \"PhD\",\n",
       "          \"Some college\",\n",
       "          \"Professional degree (MD, JD, etc.)\",\n",
       "          \"College degree\"\n",
       "        ],\n",
       "        \"mostly\": 1.0\n",
       "      },\n",
       "      \"meta\": {\n",
       "        \"profiler_details\": {\n",
       "          \"metric_configuration\": {\n",
       "            \"metric_name\": \"column.distinct_values\",\n",
       "            \"domain_kwargs\": {\n",
       "              \"column\": \"education\"\n",
       "            },\n",
       "            \"metric_value_kwargs\": null\n",
       "          },\n",
       "          \"num_batches\": 1,\n",
       "          \"parse_strings_as_datetimes\": false\n",
       "        }\n",
       "      }\n",
       "    },\n",
       "    {\n",
       "      \"expectation_type\": \"expect_column_unique_value_count_to_be_between\",\n",
       "      \"kwargs\": {\n",
       "        \"column\": \"education\",\n",
       "        \"max_value\": 6,\n",
       "        \"min_value\": 6,\n",
       "        \"strict_max\": false,\n",
       "        \"strict_min\": false\n",
       "      },\n",
       "      \"meta\": {\n",
       "        \"profiler_details\": {\n",
       "          \"metric_configuration\": {\n",
       "            \"metric_name\": \"column.distinct_values.count\",\n",
       "            \"domain_kwargs\": {\n",
       "              \"column\": \"education\"\n",
       "            },\n",
       "            \"metric_value_kwargs\": null\n",
       "          },\n",
       "          \"num_batches\": 1\n",
       "        }\n",
       "      }\n",
       "    },\n",
       "    {\n",
       "      \"expectation_type\": \"expect_column_proportion_of_unique_values_to_be_between\",\n",
       "      \"kwargs\": {\n",
       "        \"column\": \"education\",\n",
       "        \"max_value\": 0.00021616947686986597,\n",
       "        \"min_value\": 0.00021616947686986597,\n",
       "        \"strict_max\": false,\n",
       "        \"strict_min\": false\n",
       "      },\n",
       "      \"meta\": {\n",
       "        \"profiler_details\": {\n",
       "          \"metric_configuration\": {\n",
       "            \"metric_name\": \"column.unique_proportion\",\n",
       "            \"domain_kwargs\": {\n",
       "              \"column\": \"education\"\n",
       "            },\n",
       "            \"metric_value_kwargs\": null\n",
       "          },\n",
       "          \"num_batches\": 1\n",
       "        }\n",
       "      }\n",
       "    },\n",
       "    {\n",
       "      \"expectation_type\": \"expect_column_values_to_be_in_set\",\n",
       "      \"kwargs\": {\n",
       "        \"column\": \"gender\",\n",
       "        \"value_set\": [\n",
       "          \"Prefer not to answer\",\n",
       "          \"Woman\",\n",
       "          \"Non-binary\",\n",
       "          \"Other or prefer not to answer\",\n",
       "          \"Man\"\n",
       "        ],\n",
       "        \"mostly\": 1.0\n",
       "      },\n",
       "      \"meta\": {\n",
       "        \"profiler_details\": {\n",
       "          \"metric_configuration\": {\n",
       "            \"metric_name\": \"column.distinct_values\",\n",
       "            \"domain_kwargs\": {\n",
       "              \"column\": \"gender\"\n",
       "            },\n",
       "            \"metric_value_kwargs\": null\n",
       "          },\n",
       "          \"num_batches\": 1,\n",
       "          \"parse_strings_as_datetimes\": false\n",
       "        }\n",
       "      }\n",
       "    },\n",
       "    {\n",
       "      \"expectation_type\": \"expect_column_unique_value_count_to_be_between\",\n",
       "      \"kwargs\": {\n",
       "        \"column\": \"gender\",\n",
       "        \"max_value\": 5,\n",
       "        \"min_value\": 5,\n",
       "        \"strict_max\": false,\n",
       "        \"strict_min\": false\n",
       "      },\n",
       "      \"meta\": {\n",
       "        \"profiler_details\": {\n",
       "          \"metric_configuration\": {\n",
       "            \"metric_name\": \"column.distinct_values.count\",\n",
       "            \"domain_kwargs\": {\n",
       "              \"column\": \"gender\"\n",
       "            },\n",
       "            \"metric_value_kwargs\": null\n",
       "          },\n",
       "          \"num_batches\": 1\n",
       "        }\n",
       "      }\n",
       "    },\n",
       "    {\n",
       "      \"expectation_type\": \"expect_column_proportion_of_unique_values_to_be_between\",\n",
       "      \"kwargs\": {\n",
       "        \"column\": \"gender\",\n",
       "        \"max_value\": 0.00017983024025320098,\n",
       "        \"min_value\": 0.00017983024025320098,\n",
       "        \"strict_max\": false,\n",
       "        \"strict_min\": false\n",
       "      },\n",
       "      \"meta\": {\n",
       "        \"profiler_details\": {\n",
       "          \"metric_configuration\": {\n",
       "            \"metric_name\": \"column.unique_proportion\",\n",
       "            \"domain_kwargs\": {\n",
       "              \"column\": \"gender\"\n",
       "            },\n",
       "            \"metric_value_kwargs\": null\n",
       "          },\n",
       "          \"num_batches\": 1\n",
       "        }\n",
       "      }\n",
       "    },\n",
       "    {\n",
       "      \"expectation_type\": \"expect_column_values_to_be_in_set\",\n",
       "      \"kwargs\": {\n",
       "        \"column\": \"race\",\n",
       "        \"value_set\": [\n",
       "          \"Asian or Asian American, White, Another option not listed here or prefer not to answer\",\n",
       "          \"Hispanic, Latino, or Spanish origin, Another option not listed here or prefer not to answer\",\n",
       "          \"Black or African American\",\n",
       "          \"Asian or Asian American, Hispanic, Latino, or Spanish origin, Native American or Alaska Native, White\",\n",
       "          \"Asian or Asian American, Another option not listed here or prefer not to answer\",\n",
       "          \"Middle Eastern or Northern African, White\",\n",
       "          \"Native American or Alaska Native, White, Another option not listed here or prefer not to answer\",\n",
       "          \"Asian or Asian American, Hispanic, Latino, or Spanish origin, White, Another option not listed here or prefer not to answer\",\n",
       "          \"Asian or Asian American, Hispanic, Latino, or Spanish origin, White\",\n",
       "          \"Asian or Asian American, Native American or Alaska Native, White\",\n",
       "          \"Asian or Asian American, Black or African American, White\",\n",
       "          \"Native American or Alaska Native, Another option not listed here or prefer not to answer\",\n",
       "          \"Black or African American, Hispanic, Latino, or Spanish origin, White\",\n",
       "          \"Black or African American, Native American or Alaska Native, White\",\n",
       "          \"Hispanic, Latino, or Spanish origin, White\",\n",
       "          \"Asian or Asian American, Hispanic, Latino, or Spanish origin, Another option not listed here or prefer not to answer\",\n",
       "          \"Middle Eastern or Northern African, Native American or Alaska Native, White\",\n",
       "          \"Black or African American, Another option not listed here or prefer not to answer\",\n",
       "          \"Hispanic, Latino, or Spanish origin, Middle Eastern or Northern African\",\n",
       "          \"Hispanic, Latino, or Spanish origin, Middle Eastern or Northern African, White\",\n",
       "          \"Asian or Asian American, Black or African American, Hispanic, Latino, or Spanish origin\",\n",
       "          \"Asian or Asian American, Middle Eastern or Northern African, White\",\n",
       "          \"Hispanic, Latino, or Spanish origin, Native American or Alaska Native, Another option not listed here or prefer not to answer\",\n",
       "          \"Black or African American, White\",\n",
       "          \"Black or African American, Hispanic, Latino, or Spanish origin\",\n",
       "          \"Native American or Alaska Native, White\",\n",
       "          \"White\",\n",
       "          \"Asian or Asian American, White\",\n",
       "          \"Black or African American, Middle Eastern or Northern African, White\",\n",
       "          \"Asian or Asian American\",\n",
       "          \"Black or African American, Middle Eastern or Northern African, Native American or Alaska Native, White\",\n",
       "          \"Asian or Asian American, Hispanic, Latino, or Spanish origin\",\n",
       "          \"Black or African American, Middle Eastern or Northern African\",\n",
       "          \"Asian or Asian American, Native American or Alaska Native\",\n",
       "          \"Another option not listed here or prefer not to answer\",\n",
       "          \"Hispanic, Latino, or Spanish origin, White, Another option not listed here or prefer not to answer\",\n",
       "          \"Middle Eastern or Northern African\",\n",
       "          \"Black or African American, Hispanic, Latino, or Spanish origin, Native American or Alaska Native, White\",\n",
       "          \"Middle Eastern or Northern African, White, Another option not listed here or prefer not to answer\",\n",
       "          \"Asian or Asian American, Black or African American\",\n",
       "          \"Asian or Asian American, Black or African American, Native American or Alaska Native, White\",\n",
       "          \"Hispanic, Latino, or Spanish origin\",\n",
       "          \"Native American or Alaska Native\",\n",
       "          \"Hispanic, Latino, or Spanish origin, Native American or Alaska Native, White\",\n",
       "          \"Hispanic, Latino, or Spanish origin, Native American or Alaska Native\",\n",
       "          \"Middle Eastern or Northern African, Native American or Alaska Native\",\n",
       "          \"White, Another option not listed here or prefer not to answer\",\n",
       "          \"Asian or Asian American, Middle Eastern or Northern African\"\n",
       "        ],\n",
       "        \"mostly\": 1.0\n",
       "      },\n",
       "      \"meta\": {\n",
       "        \"profiler_details\": {\n",
       "          \"metric_configuration\": {\n",
       "            \"metric_name\": \"column.distinct_values\",\n",
       "            \"domain_kwargs\": {\n",
       "              \"column\": \"race\"\n",
       "            },\n",
       "            \"metric_value_kwargs\": null\n",
       "          },\n",
       "          \"num_batches\": 1,\n",
       "          \"parse_strings_as_datetimes\": false\n",
       "        }\n",
       "      }\n",
       "    },\n",
       "    {\n",
       "      \"expectation_type\": \"expect_column_unique_value_count_to_be_between\",\n",
       "      \"kwargs\": {\n",
       "        \"column\": \"race\",\n",
       "        \"max_value\": 48,\n",
       "        \"min_value\": 48,\n",
       "        \"strict_max\": false,\n",
       "        \"strict_min\": false\n",
       "      },\n",
       "      \"meta\": {\n",
       "        \"profiler_details\": {\n",
       "          \"metric_configuration\": {\n",
       "            \"metric_name\": \"column.distinct_values.count\",\n",
       "            \"domain_kwargs\": {\n",
       "              \"column\": \"race\"\n",
       "            },\n",
       "            \"metric_value_kwargs\": null\n",
       "          },\n",
       "          \"num_batches\": 1\n",
       "        }\n",
       "      }\n",
       "    },\n",
       "    {\n",
       "      \"expectation_type\": \"expect_column_proportion_of_unique_values_to_be_between\",\n",
       "      \"kwargs\": {\n",
       "        \"column\": \"race\",\n",
       "        \"max_value\": 0.0017264944967987914,\n",
       "        \"min_value\": 0.0017264944967987914,\n",
       "        \"strict_max\": false,\n",
       "        \"strict_min\": false\n",
       "      },\n",
       "      \"meta\": {\n",
       "        \"profiler_details\": {\n",
       "          \"metric_configuration\": {\n",
       "            \"metric_name\": \"column.unique_proportion\",\n",
       "            \"domain_kwargs\": {\n",
       "              \"column\": \"race\"\n",
       "            },\n",
       "            \"metric_value_kwargs\": null\n",
       "          },\n",
       "          \"num_batches\": 1\n",
       "        }\n",
       "      }\n",
       "    }\n",
       "  ],\n",
       "  \"data_asset_type\": null,\n",
       "  \"meta\": {\n",
       "    \"great_expectations_version\": \"0.17.7\",\n",
       "    \"citations\": [\n",
       "      {\n",
       "        \"citation_date\": \"2023-08-29T20:59:21.287856Z\",\n",
       "        \"comment\": \"Created by effective Rule-Based Profiler of OnboardingDataAssistant with the configuration included.\\n\"\n",
       "      }\n",
       "    ]\n",
       "  }\n",
       "}"
      ]
     },
     "execution_count": 31,
     "metadata": {},
     "output_type": "execute_result"
    }
   ],
   "source": [
    "data_assistant_result.get_expectation_suite()"
   ]
  },
  {
   "cell_type": "markdown",
   "id": "0fad19ba-4b93-4889-9c85-6401e9245c76",
   "metadata": {},
   "source": [
    "<h3> 6. Add the formed Expectation Suite to the Context </h3> "
   ]
  },
  {
   "cell_type": "code",
   "execution_count": 32,
   "id": "65a2d449-5fc6-44d7-9144-d8bcf5f30b9b",
   "metadata": {},
   "outputs": [],
   "source": [
    "expectation_suite = data_assistant_result.get_expectation_suite(\n",
    "    expectation_suite_name=expectation_suite_name\n",
    ")"
   ]
  },
  {
   "cell_type": "code",
   "execution_count": 33,
   "id": "22289b8a-4590-4f4b-a0f6-0660e5232437",
   "metadata": {
    "collapsed": true,
    "jupyter": {
     "outputs_hidden": true
    },
    "tags": []
   },
   "outputs": [
    {
     "data": {
      "text/plain": [
       "{\n",
       "  \"expectation_suite_name\": \"salary_expectation_suite\",\n",
       "  \"ge_cloud_id\": null,\n",
       "  \"expectations\": [\n",
       "    {\n",
       "      \"expectation_type\": \"expect_table_row_count_to_be_between\",\n",
       "      \"kwargs\": {\n",
       "        \"max_value\": 27971,\n",
       "        \"min_value\": 27971\n",
       "      },\n",
       "      \"meta\": {\n",
       "        \"profiler_details\": {\n",
       "          \"metric_configuration\": {\n",
       "            \"metric_name\": \"table.row_count\",\n",
       "            \"domain_kwargs\": {},\n",
       "            \"metric_value_kwargs\": null\n",
       "          },\n",
       "          \"num_batches\": 1\n",
       "        }\n",
       "      }\n",
       "    },\n",
       "    {\n",
       "      \"expectation_type\": \"expect_table_columns_to_match_set\",\n",
       "      \"kwargs\": {\n",
       "        \"exact_match\": null,\n",
       "        \"column_set\": [\n",
       "          \"timestamp\",\n",
       "          \"age\",\n",
       "          \"title\",\n",
       "          \"currencya\",\n",
       "          \"city\",\n",
       "          \"overall_experience\",\n",
       "          \"country\",\n",
       "          \"gender\",\n",
       "          \"index\",\n",
       "          \"bonus\",\n",
       "          \"currencyb\",\n",
       "          \"income_context\",\n",
       "          \"industry\",\n",
       "          \"race\",\n",
       "          \"field_experience\",\n",
       "          \"us_state\",\n",
       "          \"education\",\n",
       "          \"salary\",\n",
       "          \"title_description\"\n",
       "        ]\n",
       "      },\n",
       "      \"meta\": {\n",
       "        \"profiler_details\": {\n",
       "          \"success_ratio\": 1.0\n",
       "        }\n",
       "      }\n",
       "    },\n",
       "    {\n",
       "      \"expectation_type\": \"expect_column_values_to_be_unique\",\n",
       "      \"kwargs\": {\n",
       "        \"column\": \"index\"\n",
       "      },\n",
       "      \"meta\": {\n",
       "        \"profiler_details\": {\n",
       "          \"metric_configuration\": {\n",
       "            \"metric_name\": \"column_values.unique.unexpected_count\",\n",
       "            \"domain_kwargs\": {\n",
       "              \"column\": \"index\"\n",
       "            },\n",
       "            \"metric_value_kwargs\": null\n",
       "          },\n",
       "          \"num_batches\": 1\n",
       "        }\n",
       "      }\n",
       "    },\n",
       "    {\n",
       "      \"expectation_type\": \"expect_column_values_to_not_be_null\",\n",
       "      \"kwargs\": {\n",
       "        \"column\": \"index\"\n",
       "      },\n",
       "      \"meta\": {\n",
       "        \"profiler_details\": {\n",
       "          \"metric_configuration\": {\n",
       "            \"metric_name\": \"column_values.nonnull.unexpected_count\",\n",
       "            \"domain_kwargs\": {\n",
       "              \"column\": \"index\"\n",
       "            },\n",
       "            \"metric_value_kwargs\": null\n",
       "          },\n",
       "          \"num_batches\": 1\n",
       "        }\n",
       "      }\n",
       "    },\n",
       "    {\n",
       "      \"expectation_type\": \"expect_column_values_to_not_be_null\",\n",
       "      \"kwargs\": {\n",
       "        \"column\": \"timestamp\"\n",
       "      },\n",
       "      \"meta\": {\n",
       "        \"profiler_details\": {\n",
       "          \"metric_configuration\": {\n",
       "            \"metric_name\": \"column_values.nonnull.unexpected_count\",\n",
       "            \"domain_kwargs\": {\n",
       "              \"column\": \"timestamp\"\n",
       "            },\n",
       "            \"metric_value_kwargs\": null\n",
       "          },\n",
       "          \"num_batches\": 1\n",
       "        }\n",
       "      }\n",
       "    },\n",
       "    {\n",
       "      \"expectation_type\": \"expect_column_values_to_not_be_null\",\n",
       "      \"kwargs\": {\n",
       "        \"column\": \"age\"\n",
       "      },\n",
       "      \"meta\": {\n",
       "        \"profiler_details\": {\n",
       "          \"metric_configuration\": {\n",
       "            \"metric_name\": \"column_values.nonnull.unexpected_count\",\n",
       "            \"domain_kwargs\": {\n",
       "              \"column\": \"age\"\n",
       "            },\n",
       "            \"metric_value_kwargs\": null\n",
       "          },\n",
       "          \"num_batches\": 1\n",
       "        }\n",
       "      }\n",
       "    },\n",
       "    {\n",
       "      \"expectation_type\": \"expect_column_values_to_not_be_null\",\n",
       "      \"kwargs\": {\n",
       "        \"column\": \"title\"\n",
       "      },\n",
       "      \"meta\": {\n",
       "        \"profiler_details\": {\n",
       "          \"metric_configuration\": {\n",
       "            \"metric_name\": \"column_values.nonnull.unexpected_count\",\n",
       "            \"domain_kwargs\": {\n",
       "              \"column\": \"title\"\n",
       "            },\n",
       "            \"metric_value_kwargs\": null\n",
       "          },\n",
       "          \"num_batches\": 1\n",
       "        }\n",
       "      }\n",
       "    },\n",
       "    {\n",
       "      \"expectation_type\": \"expect_column_values_to_not_be_null\",\n",
       "      \"kwargs\": {\n",
       "        \"column\": \"salary\"\n",
       "      },\n",
       "      \"meta\": {\n",
       "        \"profiler_details\": {\n",
       "          \"metric_configuration\": {\n",
       "            \"metric_name\": \"column_values.nonnull.unexpected_count\",\n",
       "            \"domain_kwargs\": {\n",
       "              \"column\": \"salary\"\n",
       "            },\n",
       "            \"metric_value_kwargs\": null\n",
       "          },\n",
       "          \"num_batches\": 1\n",
       "        }\n",
       "      }\n",
       "    },\n",
       "    {\n",
       "      \"expectation_type\": \"expect_column_values_to_not_be_null\",\n",
       "      \"kwargs\": {\n",
       "        \"column\": \"currencya\"\n",
       "      },\n",
       "      \"meta\": {\n",
       "        \"profiler_details\": {\n",
       "          \"metric_configuration\": {\n",
       "            \"metric_name\": \"column_values.nonnull.unexpected_count\",\n",
       "            \"domain_kwargs\": {\n",
       "              \"column\": \"currencya\"\n",
       "            },\n",
       "            \"metric_value_kwargs\": null\n",
       "          },\n",
       "          \"num_batches\": 1\n",
       "        }\n",
       "      }\n",
       "    },\n",
       "    {\n",
       "      \"expectation_type\": \"expect_column_values_to_not_be_null\",\n",
       "      \"kwargs\": {\n",
       "        \"column\": \"country\"\n",
       "      },\n",
       "      \"meta\": {\n",
       "        \"profiler_details\": {\n",
       "          \"metric_configuration\": {\n",
       "            \"metric_name\": \"column_values.nonnull.unexpected_count\",\n",
       "            \"domain_kwargs\": {\n",
       "              \"column\": \"country\"\n",
       "            },\n",
       "            \"metric_value_kwargs\": null\n",
       "          },\n",
       "          \"num_batches\": 1\n",
       "        }\n",
       "      }\n",
       "    },\n",
       "    {\n",
       "      \"expectation_type\": \"expect_column_values_to_not_be_null\",\n",
       "      \"kwargs\": {\n",
       "        \"column\": \"overall_experience\"\n",
       "      },\n",
       "      \"meta\": {\n",
       "        \"profiler_details\": {\n",
       "          \"metric_configuration\": {\n",
       "            \"metric_name\": \"column_values.nonnull.unexpected_count\",\n",
       "            \"domain_kwargs\": {\n",
       "              \"column\": \"overall_experience\"\n",
       "            },\n",
       "            \"metric_value_kwargs\": null\n",
       "          },\n",
       "          \"num_batches\": 1\n",
       "        }\n",
       "      }\n",
       "    },\n",
       "    {\n",
       "      \"expectation_type\": \"expect_column_values_to_not_be_null\",\n",
       "      \"kwargs\": {\n",
       "        \"column\": \"field_experience\"\n",
       "      },\n",
       "      \"meta\": {\n",
       "        \"profiler_details\": {\n",
       "          \"metric_configuration\": {\n",
       "            \"metric_name\": \"column_values.nonnull.unexpected_count\",\n",
       "            \"domain_kwargs\": {\n",
       "              \"column\": \"field_experience\"\n",
       "            },\n",
       "            \"metric_value_kwargs\": null\n",
       "          },\n",
       "          \"num_batches\": 1\n",
       "        }\n",
       "      }\n",
       "    },\n",
       "    {\n",
       "      \"expectation_type\": \"expect_column_min_to_be_between\",\n",
       "      \"kwargs\": {\n",
       "        \"column\": \"index\",\n",
       "        \"max_value\": 0,\n",
       "        \"min_value\": 0,\n",
       "        \"strict_max\": false,\n",
       "        \"strict_min\": false\n",
       "      },\n",
       "      \"meta\": {\n",
       "        \"profiler_details\": {\n",
       "          \"metric_configuration\": {\n",
       "            \"metric_name\": \"column.min\",\n",
       "            \"domain_kwargs\": {\n",
       "              \"column\": \"index\"\n",
       "            },\n",
       "            \"metric_value_kwargs\": null\n",
       "          },\n",
       "          \"num_batches\": 1\n",
       "        }\n",
       "      }\n",
       "    },\n",
       "    {\n",
       "      \"expectation_type\": \"expect_column_max_to_be_between\",\n",
       "      \"kwargs\": {\n",
       "        \"column\": \"index\",\n",
       "        \"max_value\": 27970,\n",
       "        \"min_value\": 27970,\n",
       "        \"strict_max\": false,\n",
       "        \"strict_min\": false\n",
       "      },\n",
       "      \"meta\": {\n",
       "        \"profiler_details\": {\n",
       "          \"metric_configuration\": {\n",
       "            \"metric_name\": \"column.max\",\n",
       "            \"domain_kwargs\": {\n",
       "              \"column\": \"index\"\n",
       "            },\n",
       "            \"metric_value_kwargs\": null\n",
       "          },\n",
       "          \"num_batches\": 1\n",
       "        }\n",
       "      }\n",
       "    },\n",
       "    {\n",
       "      \"expectation_type\": \"expect_column_values_to_be_between\",\n",
       "      \"kwargs\": {\n",
       "        \"column\": \"index\",\n",
       "        \"mostly\": 1.0,\n",
       "        \"max_value\": 27970,\n",
       "        \"min_value\": 0,\n",
       "        \"strict_max\": false,\n",
       "        \"strict_min\": false\n",
       "      },\n",
       "      \"meta\": {\n",
       "        \"profiler_details\": {\n",
       "          \"column_min_values_range_estimator\": {\n",
       "            \"metric_configuration\": {\n",
       "              \"metric_name\": \"column.min\",\n",
       "              \"domain_kwargs\": {\n",
       "                \"column\": \"index\"\n",
       "              },\n",
       "              \"metric_value_kwargs\": null\n",
       "            },\n",
       "            \"num_batches\": 1\n",
       "          },\n",
       "          \"column_max_values_range_estimator\": {\n",
       "            \"metric_configuration\": {\n",
       "              \"metric_name\": \"column.max\",\n",
       "              \"domain_kwargs\": {\n",
       "                \"column\": \"index\"\n",
       "              },\n",
       "              \"metric_value_kwargs\": null\n",
       "            },\n",
       "            \"num_batches\": 1\n",
       "          }\n",
       "        }\n",
       "      }\n",
       "    },\n",
       "    {\n",
       "      \"expectation_type\": \"expect_column_quantile_values_to_be_between\",\n",
       "      \"kwargs\": {\n",
       "        \"column\": \"index\",\n",
       "        \"allow_relative_error\": false,\n",
       "        \"quantile_ranges\": {\n",
       "          \"quantiles\": [\n",
       "            0.25,\n",
       "            0.5,\n",
       "            0.75\n",
       "          ],\n",
       "          \"value_ranges\": [\n",
       "            [\n",
       "              6991,\n",
       "              6991\n",
       "            ],\n",
       "            [\n",
       "              13984,\n",
       "              13984\n",
       "            ],\n",
       "            [\n",
       "              20977,\n",
       "              20977\n",
       "            ]\n",
       "          ]\n",
       "        }\n",
       "      },\n",
       "      \"meta\": {\n",
       "        \"profiler_details\": {\n",
       "          \"metric_configuration\": {\n",
       "            \"metric_name\": \"column.quantile_values\",\n",
       "            \"domain_kwargs\": {\n",
       "              \"column\": \"index\"\n",
       "            },\n",
       "            \"metric_value_kwargs\": {\n",
       "              \"quantiles\": [\n",
       "                0.25,\n",
       "                0.5,\n",
       "                0.75\n",
       "              ],\n",
       "              \"allow_relative_error\": false\n",
       "            }\n",
       "          },\n",
       "          \"num_batches\": 1\n",
       "        }\n",
       "      }\n",
       "    },\n",
       "    {\n",
       "      \"expectation_type\": \"expect_column_median_to_be_between\",\n",
       "      \"kwargs\": {\n",
       "        \"column\": \"index\",\n",
       "        \"max_value\": 13985,\n",
       "        \"min_value\": 13985,\n",
       "        \"strict_max\": false,\n",
       "        \"strict_min\": false\n",
       "      },\n",
       "      \"meta\": {\n",
       "        \"profiler_details\": {\n",
       "          \"metric_configuration\": {\n",
       "            \"metric_name\": \"column.median\",\n",
       "            \"domain_kwargs\": {\n",
       "              \"column\": \"index\"\n",
       "            },\n",
       "            \"metric_value_kwargs\": null\n",
       "          },\n",
       "          \"num_batches\": 1\n",
       "        }\n",
       "      }\n",
       "    },\n",
       "    {\n",
       "      \"expectation_type\": \"expect_column_mean_to_be_between\",\n",
       "      \"kwargs\": {\n",
       "        \"column\": \"index\",\n",
       "        \"max_value\": 13985.0,\n",
       "        \"min_value\": 13985.0,\n",
       "        \"strict_max\": false,\n",
       "        \"strict_min\": false\n",
       "      },\n",
       "      \"meta\": {\n",
       "        \"profiler_details\": {\n",
       "          \"metric_configuration\": {\n",
       "            \"metric_name\": \"column.mean\",\n",
       "            \"domain_kwargs\": {\n",
       "              \"column\": \"index\"\n",
       "            },\n",
       "            \"metric_value_kwargs\": null\n",
       "          },\n",
       "          \"num_batches\": 1\n",
       "        }\n",
       "      }\n",
       "    },\n",
       "    {\n",
       "      \"expectation_type\": \"expect_column_stdev_to_be_between\",\n",
       "      \"kwargs\": {\n",
       "        \"column\": \"index\",\n",
       "        \"max_value\": 8074.6765260287675,\n",
       "        \"min_value\": 8074.6765260287675,\n",
       "        \"strict_max\": false,\n",
       "        \"strict_min\": false\n",
       "      },\n",
       "      \"meta\": {\n",
       "        \"profiler_details\": {\n",
       "          \"metric_configuration\": {\n",
       "            \"metric_name\": \"column.standard_deviation\",\n",
       "            \"domain_kwargs\": {\n",
       "              \"column\": \"index\"\n",
       "            },\n",
       "            \"metric_value_kwargs\": null\n",
       "          },\n",
       "          \"num_batches\": 1\n",
       "        }\n",
       "      }\n",
       "    },\n",
       "    {\n",
       "      \"expectation_type\": \"expect_column_min_to_be_between\",\n",
       "      \"kwargs\": {\n",
       "        \"column\": \"bonus\",\n",
       "        \"max_value\": 0.0,\n",
       "        \"min_value\": 0.0,\n",
       "        \"strict_max\": false,\n",
       "        \"strict_min\": false\n",
       "      },\n",
       "      \"meta\": {\n",
       "        \"profiler_details\": {\n",
       "          \"metric_configuration\": {\n",
       "            \"metric_name\": \"column.min\",\n",
       "            \"domain_kwargs\": {\n",
       "              \"column\": \"bonus\"\n",
       "            },\n",
       "            \"metric_value_kwargs\": null\n",
       "          },\n",
       "          \"num_batches\": 1\n",
       "        }\n",
       "      }\n",
       "    },\n",
       "    {\n",
       "      \"expectation_type\": \"expect_column_max_to_be_between\",\n",
       "      \"kwargs\": {\n",
       "        \"column\": \"bonus\",\n",
       "        \"max_value\": 120000000.0,\n",
       "        \"min_value\": 120000000.0,\n",
       "        \"strict_max\": false,\n",
       "        \"strict_min\": false\n",
       "      },\n",
       "      \"meta\": {\n",
       "        \"profiler_details\": {\n",
       "          \"metric_configuration\": {\n",
       "            \"metric_name\": \"column.max\",\n",
       "            \"domain_kwargs\": {\n",
       "              \"column\": \"bonus\"\n",
       "            },\n",
       "            \"metric_value_kwargs\": null\n",
       "          },\n",
       "          \"num_batches\": 1\n",
       "        }\n",
       "      }\n",
       "    },\n",
       "    {\n",
       "      \"expectation_type\": \"expect_column_values_to_be_between\",\n",
       "      \"kwargs\": {\n",
       "        \"column\": \"bonus\",\n",
       "        \"mostly\": 1.0,\n",
       "        \"max_value\": 120000000.0,\n",
       "        \"min_value\": 0.0,\n",
       "        \"strict_max\": false,\n",
       "        \"strict_min\": false\n",
       "      },\n",
       "      \"meta\": {\n",
       "        \"profiler_details\": {\n",
       "          \"column_min_values_range_estimator\": {\n",
       "            \"metric_configuration\": {\n",
       "              \"metric_name\": \"column.min\",\n",
       "              \"domain_kwargs\": {\n",
       "                \"column\": \"bonus\"\n",
       "              },\n",
       "              \"metric_value_kwargs\": null\n",
       "            },\n",
       "            \"num_batches\": 1\n",
       "          },\n",
       "          \"column_max_values_range_estimator\": {\n",
       "            \"metric_configuration\": {\n",
       "              \"metric_name\": \"column.max\",\n",
       "              \"domain_kwargs\": {\n",
       "                \"column\": \"bonus\"\n",
       "              },\n",
       "              \"metric_value_kwargs\": null\n",
       "            },\n",
       "            \"num_batches\": 1\n",
       "          }\n",
       "        }\n",
       "      }\n",
       "    },\n",
       "    {\n",
       "      \"expectation_type\": \"expect_column_quantile_values_to_be_between\",\n",
       "      \"kwargs\": {\n",
       "        \"column\": \"bonus\",\n",
       "        \"allow_relative_error\": false,\n",
       "        \"quantile_ranges\": {\n",
       "          \"quantiles\": [\n",
       "            0.25,\n",
       "            0.5,\n",
       "            0.75\n",
       "          ],\n",
       "          \"value_ranges\": [\n",
       "            [\n",
       "              0.0,\n",
       "              0.0\n",
       "            ],\n",
       "            [\n",
       "              0.0,\n",
       "              0.0\n",
       "            ],\n",
       "            [\n",
       "              5000.0,\n",
       "              5000.0\n",
       "            ]\n",
       "          ]\n",
       "        }\n",
       "      },\n",
       "      \"meta\": {\n",
       "        \"profiler_details\": {\n",
       "          \"metric_configuration\": {\n",
       "            \"metric_name\": \"column.quantile_values\",\n",
       "            \"domain_kwargs\": {\n",
       "              \"column\": \"bonus\"\n",
       "            },\n",
       "            \"metric_value_kwargs\": {\n",
       "              \"quantiles\": [\n",
       "                0.25,\n",
       "                0.5,\n",
       "                0.75\n",
       "              ],\n",
       "              \"allow_relative_error\": false\n",
       "            }\n",
       "          },\n",
       "          \"num_batches\": 1\n",
       "        }\n",
       "      }\n",
       "    },\n",
       "    {\n",
       "      \"expectation_type\": \"expect_column_median_to_be_between\",\n",
       "      \"kwargs\": {\n",
       "        \"column\": \"bonus\",\n",
       "        \"max_value\": 2000.0,\n",
       "        \"min_value\": 2000.0,\n",
       "        \"strict_max\": false,\n",
       "        \"strict_min\": false\n",
       "      },\n",
       "      \"meta\": {\n",
       "        \"profiler_details\": {\n",
       "          \"metric_configuration\": {\n",
       "            \"metric_name\": \"column.median\",\n",
       "            \"domain_kwargs\": {\n",
       "              \"column\": \"bonus\"\n",
       "            },\n",
       "            \"metric_value_kwargs\": null\n",
       "          },\n",
       "          \"num_batches\": 1\n",
       "        }\n",
       "      }\n",
       "    },\n",
       "    {\n",
       "      \"expectation_type\": \"expect_column_mean_to_be_between\",\n",
       "      \"kwargs\": {\n",
       "        \"column\": \"bonus\",\n",
       "        \"max_value\": 18199.092823336232,\n",
       "        \"min_value\": 18199.092823336232,\n",
       "        \"strict_max\": false,\n",
       "        \"strict_min\": false\n",
       "      },\n",
       "      \"meta\": {\n",
       "        \"profiler_details\": {\n",
       "          \"metric_configuration\": {\n",
       "            \"metric_name\": \"column.mean\",\n",
       "            \"domain_kwargs\": {\n",
       "              \"column\": \"bonus\"\n",
       "            },\n",
       "            \"metric_value_kwargs\": null\n",
       "          },\n",
       "          \"num_batches\": 1\n",
       "        }\n",
       "      }\n",
       "    },\n",
       "    {\n",
       "      \"expectation_type\": \"expect_column_stdev_to_be_between\",\n",
       "      \"kwargs\": {\n",
       "        \"column\": \"bonus\",\n",
       "        \"max_value\": 835260.271340808,\n",
       "        \"min_value\": 835260.271340808,\n",
       "        \"strict_max\": false,\n",
       "        \"strict_min\": false\n",
       "      },\n",
       "      \"meta\": {\n",
       "        \"profiler_details\": {\n",
       "          \"metric_configuration\": {\n",
       "            \"metric_name\": \"column.standard_deviation\",\n",
       "            \"domain_kwargs\": {\n",
       "              \"column\": \"bonus\"\n",
       "            },\n",
       "            \"metric_value_kwargs\": null\n",
       "          },\n",
       "          \"num_batches\": 1\n",
       "        }\n",
       "      }\n",
       "    },\n",
       "    {\n",
       "      \"expectation_type\": \"expect_column_value_lengths_to_be_between\",\n",
       "      \"kwargs\": {\n",
       "        \"column\": \"timestamp\",\n",
       "        \"mostly\": 1.0,\n",
       "        \"max_value\": 19,\n",
       "        \"min_value\": 16,\n",
       "        \"strict_max\": false,\n",
       "        \"strict_min\": false\n",
       "      },\n",
       "      \"meta\": {\n",
       "        \"profiler_details\": {\n",
       "          \"column_min_length_range_estimator\": {\n",
       "            \"metric_configuration\": {\n",
       "              \"metric_name\": \"column_values.length.min\",\n",
       "              \"domain_kwargs\": {\n",
       "                \"column\": \"timestamp\"\n",
       "              },\n",
       "              \"metric_value_kwargs\": null\n",
       "            },\n",
       "            \"num_batches\": 1\n",
       "          },\n",
       "          \"column_max_length_range_estimator\": {\n",
       "            \"metric_configuration\": {\n",
       "              \"metric_name\": \"column_values.length.max\",\n",
       "              \"domain_kwargs\": {\n",
       "                \"column\": \"timestamp\"\n",
       "              },\n",
       "              \"metric_value_kwargs\": null\n",
       "            },\n",
       "            \"num_batches\": 1\n",
       "          }\n",
       "        }\n",
       "      }\n",
       "    },\n",
       "    {\n",
       "      \"expectation_type\": \"expect_column_values_to_match_regex\",\n",
       "      \"kwargs\": {\n",
       "        \"column\": \"timestamp\",\n",
       "        \"mostly\": 1.0,\n",
       "        \"regex\": \"[A-Za-z0-9\\\\.,;:!?()\\\\\\\"'%\\\\-]+\"\n",
       "      },\n",
       "      \"meta\": {\n",
       "        \"profiler_details\": {\n",
       "          \"success_ratio\": 1.0,\n",
       "          \"evaluated_regexes\": {\n",
       "            \"[A-Za-z0-9\\\\.,;:!?()\\\\\\\"'%\\\\-]+\": 1.0,\n",
       "            \"(?:25[0-5]|2[0-4]\\\\d|[01]\\\\d{2}|\\\\d{1,2})(?:.(?:25[0-5]|2[0-4]\\\\d|[01]\\\\d{2}|\\\\d{1,2})){3}\": 1.0,\n",
       "            \"\\\\d+\": 1.0,\n",
       "            \"-?\\\\d+(?:\\\\.\\\\d*)?\": 1.0,\n",
       "            \"-?\\\\d+\": 1.0,\n",
       "            \"<\\\\/?(?:p|a|b|img)(?: \\\\/)?>\": 0.0,\n",
       "            \"^\\\\s+\": 0.0,\n",
       "            \"\\\\b[0-9a-fA-F]{8}\\\\b-[0-9a-fA-F]{4}-[0-5][0-9a-fA-F]{3}-[089ab][0-9a-fA-F]{3}-\\\\b[0-9a-fA-F]{12}\\\\b \": 0.0,\n",
       "            \"\\\\s+$\": 0.0,\n",
       "            \"https?:\\\\/\\\\/(?:www\\\\.)?[-a-zA-Z0-9@:%._\\\\+~#=]{2,255}\\\\.[a-z]{2,6}\\\\b(?:[-a-zA-Z0-9@:%_\\\\+.~#()?&//=]*)\": 0.0\n",
       "          }\n",
       "        }\n",
       "      }\n",
       "    },\n",
       "    {\n",
       "      \"expectation_type\": \"expect_column_value_lengths_to_be_between\",\n",
       "      \"kwargs\": {\n",
       "        \"column\": \"age\",\n",
       "        \"mostly\": 1.0,\n",
       "        \"max_value\": 10,\n",
       "        \"min_value\": 5,\n",
       "        \"strict_max\": false,\n",
       "        \"strict_min\": false\n",
       "      },\n",
       "      \"meta\": {\n",
       "        \"profiler_details\": {\n",
       "          \"column_min_length_range_estimator\": {\n",
       "            \"metric_configuration\": {\n",
       "              \"metric_name\": \"column_values.length.min\",\n",
       "              \"domain_kwargs\": {\n",
       "                \"column\": \"age\"\n",
       "              },\n",
       "              \"metric_value_kwargs\": null\n",
       "            },\n",
       "            \"num_batches\": 1\n",
       "          },\n",
       "          \"column_max_length_range_estimator\": {\n",
       "            \"metric_configuration\": {\n",
       "              \"metric_name\": \"column_values.length.max\",\n",
       "              \"domain_kwargs\": {\n",
       "                \"column\": \"age\"\n",
       "              },\n",
       "              \"metric_value_kwargs\": null\n",
       "            },\n",
       "            \"num_batches\": 1\n",
       "          }\n",
       "        }\n",
       "      }\n",
       "    },\n",
       "    {\n",
       "      \"expectation_type\": \"expect_column_values_to_match_regex\",\n",
       "      \"kwargs\": {\n",
       "        \"column\": \"age\",\n",
       "        \"mostly\": 1.0,\n",
       "        \"regex\": \"[A-Za-z0-9\\\\.,;:!?()\\\\\\\"'%\\\\-]+\"\n",
       "      },\n",
       "      \"meta\": {\n",
       "        \"profiler_details\": {\n",
       "          \"success_ratio\": 1.0,\n",
       "          \"evaluated_regexes\": {\n",
       "            \"[A-Za-z0-9\\\\.,;:!?()\\\\\\\"'%\\\\-]+\": 1.0,\n",
       "            \"\\\\d+\": 1.0,\n",
       "            \"-?\\\\d+(?:\\\\.\\\\d*)?\": 1.0,\n",
       "            \"-?\\\\d+\": 1.0,\n",
       "            \"(?:25[0-5]|2[0-4]\\\\d|[01]\\\\d{2}|\\\\d{1,2})(?:.(?:25[0-5]|2[0-4]\\\\d|[01]\\\\d{2}|\\\\d{1,2})){3}\": 0.0,\n",
       "            \"<\\\\/?(?:p|a|b|img)(?: \\\\/)?>\": 0.0,\n",
       "            \"^\\\\s+\": 0.0,\n",
       "            \"\\\\b[0-9a-fA-F]{8}\\\\b-[0-9a-fA-F]{4}-[0-5][0-9a-fA-F]{3}-[089ab][0-9a-fA-F]{3}-\\\\b[0-9a-fA-F]{12}\\\\b \": 0.0,\n",
       "            \"\\\\s+$\": 0.0,\n",
       "            \"https?:\\\\/\\\\/(?:www\\\\.)?[-a-zA-Z0-9@:%._\\\\+~#=]{2,255}\\\\.[a-z]{2,6}\\\\b(?:[-a-zA-Z0-9@:%_\\\\+.~#()?&//=]*)\": 0.0\n",
       "          }\n",
       "        }\n",
       "      }\n",
       "    },\n",
       "    {\n",
       "      \"expectation_type\": \"expect_column_value_lengths_to_be_between\",\n",
       "      \"kwargs\": {\n",
       "        \"column\": \"industry\",\n",
       "        \"mostly\": 1.0,\n",
       "        \"max_value\": 171,\n",
       "        \"min_value\": 2,\n",
       "        \"strict_max\": false,\n",
       "        \"strict_min\": false\n",
       "      },\n",
       "      \"meta\": {\n",
       "        \"profiler_details\": {\n",
       "          \"column_min_length_range_estimator\": {\n",
       "            \"metric_configuration\": {\n",
       "              \"metric_name\": \"column_values.length.min\",\n",
       "              \"domain_kwargs\": {\n",
       "                \"column\": \"industry\"\n",
       "              },\n",
       "              \"metric_value_kwargs\": null\n",
       "            },\n",
       "            \"num_batches\": 1\n",
       "          },\n",
       "          \"column_max_length_range_estimator\": {\n",
       "            \"metric_configuration\": {\n",
       "              \"metric_name\": \"column_values.length.max\",\n",
       "              \"domain_kwargs\": {\n",
       "                \"column\": \"industry\"\n",
       "              },\n",
       "              \"metric_value_kwargs\": null\n",
       "            },\n",
       "            \"num_batches\": 1\n",
       "          }\n",
       "        }\n",
       "      }\n",
       "    },\n",
       "    {\n",
       "      \"expectation_type\": \"expect_column_values_to_match_regex\",\n",
       "      \"kwargs\": {\n",
       "        \"column\": \"industry\",\n",
       "        \"mostly\": 1.0,\n",
       "        \"regex\": \"[A-Za-z0-9\\\\.,;:!?()\\\\\\\"'%\\\\-]+\"\n",
       "      },\n",
       "      \"meta\": {\n",
       "        \"profiler_details\": {\n",
       "          \"success_ratio\": 1.0,\n",
       "          \"evaluated_regexes\": {\n",
       "            \"[A-Za-z0-9\\\\.,;:!?()\\\\\\\"'%\\\\-]+\": 1.0,\n",
       "            \"\\\\s+$\": 0.010681386429621133,\n",
       "            \"\\\\d+\": 0.000250905050360228,\n",
       "            \"-?\\\\d+(?:\\\\.\\\\d*)?\": 0.000250905050360228,\n",
       "            \"-?\\\\d+\": 0.000250905050360228,\n",
       "            \"^\\\\s+\": 7.168715724577942e-05,\n",
       "            \"(?:25[0-5]|2[0-4]\\\\d|[01]\\\\d{2}|\\\\d{1,2})(?:.(?:25[0-5]|2[0-4]\\\\d|[01]\\\\d{2}|\\\\d{1,2})){3}\": 0.0,\n",
       "            \"<\\\\/?(?:p|a|b|img)(?: \\\\/)?>\": 0.0,\n",
       "            \"\\\\b[0-9a-fA-F]{8}\\\\b-[0-9a-fA-F]{4}-[0-5][0-9a-fA-F]{3}-[089ab][0-9a-fA-F]{3}-\\\\b[0-9a-fA-F]{12}\\\\b \": 0.0,\n",
       "            \"https?:\\\\/\\\\/(?:www\\\\.)?[-a-zA-Z0-9@:%._\\\\+~#=]{2,255}\\\\.[a-z]{2,6}\\\\b(?:[-a-zA-Z0-9@:%_\\\\+.~#()?&//=]*)\": 0.0\n",
       "          }\n",
       "        }\n",
       "      }\n",
       "    },\n",
       "    {\n",
       "      \"expectation_type\": \"expect_column_value_lengths_to_be_between\",\n",
       "      \"kwargs\": {\n",
       "        \"column\": \"title\",\n",
       "        \"mostly\": 1.0,\n",
       "        \"max_value\": 126,\n",
       "        \"min_value\": 1,\n",
       "        \"strict_max\": false,\n",
       "        \"strict_min\": false\n",
       "      },\n",
       "      \"meta\": {\n",
       "        \"profiler_details\": {\n",
       "          \"column_min_length_range_estimator\": {\n",
       "            \"metric_configuration\": {\n",
       "              \"metric_name\": \"column_values.length.min\",\n",
       "              \"domain_kwargs\": {\n",
       "                \"column\": \"title\"\n",
       "              },\n",
       "              \"metric_value_kwargs\": null\n",
       "            },\n",
       "            \"num_batches\": 1\n",
       "          },\n",
       "          \"column_max_length_range_estimator\": {\n",
       "            \"metric_configuration\": {\n",
       "              \"metric_name\": \"column_values.length.max\",\n",
       "              \"domain_kwargs\": {\n",
       "                \"column\": \"title\"\n",
       "              },\n",
       "              \"metric_value_kwargs\": null\n",
       "            },\n",
       "            \"num_batches\": 1\n",
       "          }\n",
       "        }\n",
       "      }\n",
       "    },\n",
       "    {\n",
       "      \"expectation_type\": \"expect_column_values_to_match_regex\",\n",
       "      \"kwargs\": {\n",
       "        \"column\": \"title\",\n",
       "        \"mostly\": 1.0,\n",
       "        \"regex\": \"[A-Za-z0-9\\\\.,;:!?()\\\\\\\"'%\\\\-]+\"\n",
       "      },\n",
       "      \"meta\": {\n",
       "        \"profiler_details\": {\n",
       "          \"success_ratio\": 1.0,\n",
       "          \"evaluated_regexes\": {\n",
       "            \"[A-Za-z0-9\\\\.,;:!?()\\\\\\\"'%\\\\-]+\": 1.0,\n",
       "            \"\\\\s+$\": 0.12305602230881985,\n",
       "            \"\\\\d+\": 0.00782953773551178,\n",
       "            \"-?\\\\d+(?:\\\\.\\\\d*)?\": 0.00782953773551178,\n",
       "            \"-?\\\\d+\": 0.00782953773551178,\n",
       "            \"^\\\\s+\": 0.0007865289049372564,\n",
       "            \"(?:25[0-5]|2[0-4]\\\\d|[01]\\\\d{2}|\\\\d{1,2})(?:.(?:25[0-5]|2[0-4]\\\\d|[01]\\\\d{2}|\\\\d{1,2})){3}\": 0.0,\n",
       "            \"<\\\\/?(?:p|a|b|img)(?: \\\\/)?>\": 0.0,\n",
       "            \"\\\\b[0-9a-fA-F]{8}\\\\b-[0-9a-fA-F]{4}-[0-5][0-9a-fA-F]{3}-[089ab][0-9a-fA-F]{3}-\\\\b[0-9a-fA-F]{12}\\\\b \": 0.0,\n",
       "            \"https?:\\\\/\\\\/(?:www\\\\.)?[-a-zA-Z0-9@:%._\\\\+~#=]{2,255}\\\\.[a-z]{2,6}\\\\b(?:[-a-zA-Z0-9@:%_\\\\+.~#()?&//=]*)\": 0.0\n",
       "          }\n",
       "        }\n",
       "      }\n",
       "    },\n",
       "    {\n",
       "      \"expectation_type\": \"expect_column_value_lengths_to_be_between\",\n",
       "      \"kwargs\": {\n",
       "        \"column\": \"title_description\",\n",
       "        \"mostly\": 1.0,\n",
       "        \"max_value\": 808,\n",
       "        \"min_value\": 1,\n",
       "        \"strict_max\": false,\n",
       "        \"strict_min\": false\n",
       "      },\n",
       "      \"meta\": {\n",
       "        \"profiler_details\": {\n",
       "          \"column_min_length_range_estimator\": {\n",
       "            \"metric_configuration\": {\n",
       "              \"metric_name\": \"column_values.length.min\",\n",
       "              \"domain_kwargs\": {\n",
       "                \"column\": \"title_description\"\n",
       "              },\n",
       "              \"metric_value_kwargs\": null\n",
       "            },\n",
       "            \"num_batches\": 1\n",
       "          },\n",
       "          \"column_max_length_range_estimator\": {\n",
       "            \"metric_configuration\": {\n",
       "              \"metric_name\": \"column_values.length.max\",\n",
       "              \"domain_kwargs\": {\n",
       "                \"column\": \"title_description\"\n",
       "              },\n",
       "              \"metric_value_kwargs\": null\n",
       "            },\n",
       "            \"num_batches\": 1\n",
       "          }\n",
       "        }\n",
       "      }\n",
       "    },\n",
       "    {\n",
       "      \"expectation_type\": \"expect_column_value_lengths_to_be_between\",\n",
       "      \"kwargs\": {\n",
       "        \"column\": \"salary\",\n",
       "        \"mostly\": 1.0,\n",
       "        \"max_value\": 11,\n",
       "        \"min_value\": 1,\n",
       "        \"strict_max\": false,\n",
       "        \"strict_min\": false\n",
       "      },\n",
       "      \"meta\": {\n",
       "        \"profiler_details\": {\n",
       "          \"column_min_length_range_estimator\": {\n",
       "            \"metric_configuration\": {\n",
       "              \"metric_name\": \"column_values.length.min\",\n",
       "              \"domain_kwargs\": {\n",
       "                \"column\": \"salary\"\n",
       "              },\n",
       "              \"metric_value_kwargs\": null\n",
       "            },\n",
       "            \"num_batches\": 1\n",
       "          },\n",
       "          \"column_max_length_range_estimator\": {\n",
       "            \"metric_configuration\": {\n",
       "              \"metric_name\": \"column_values.length.max\",\n",
       "              \"domain_kwargs\": {\n",
       "                \"column\": \"salary\"\n",
       "              },\n",
       "              \"metric_value_kwargs\": null\n",
       "            },\n",
       "            \"num_batches\": 1\n",
       "          }\n",
       "        }\n",
       "      }\n",
       "    },\n",
       "    {\n",
       "      \"expectation_type\": \"expect_column_values_to_match_regex\",\n",
       "      \"kwargs\": {\n",
       "        \"column\": \"salary\",\n",
       "        \"mostly\": 1.0,\n",
       "        \"regex\": \"[A-Za-z0-9\\\\.,;:!?()\\\\\\\"'%\\\\-]+\"\n",
       "      },\n",
       "      \"meta\": {\n",
       "        \"profiler_details\": {\n",
       "          \"success_ratio\": 1.0,\n",
       "          \"evaluated_regexes\": {\n",
       "            \"[A-Za-z0-9\\\\.,;:!?()\\\\\\\"'%\\\\-]+\": 1.0,\n",
       "            \"\\\\d+\": 1.0,\n",
       "            \"-?\\\\d+(?:\\\\.\\\\d*)?\": 1.0,\n",
       "            \"-?\\\\d+\": 1.0,\n",
       "            \"(?:25[0-5]|2[0-4]\\\\d|[01]\\\\d{2}|\\\\d{1,2})(?:.(?:25[0-5]|2[0-4]\\\\d|[01]\\\\d{2}|\\\\d{1,2})){3}\": 0.22223016695863573,\n",
       "            \"<\\\\/?(?:p|a|b|img)(?: \\\\/)?>\": 0.0,\n",
       "            \"^\\\\s+\": 0.0,\n",
       "            \"\\\\b[0-9a-fA-F]{8}\\\\b-[0-9a-fA-F]{4}-[0-5][0-9a-fA-F]{3}-[089ab][0-9a-fA-F]{3}-\\\\b[0-9a-fA-F]{12}\\\\b \": 0.0,\n",
       "            \"\\\\s+$\": 0.0,\n",
       "            \"https?:\\\\/\\\\/(?:www\\\\.)?[-a-zA-Z0-9@:%._\\\\+~#=]{2,255}\\\\.[a-z]{2,6}\\\\b(?:[-a-zA-Z0-9@:%_\\\\+.~#()?&//=]*)\": 0.0\n",
       "          }\n",
       "        }\n",
       "      }\n",
       "    },\n",
       "    {\n",
       "      \"expectation_type\": \"expect_column_value_lengths_to_be_between\",\n",
       "      \"kwargs\": {\n",
       "        \"column\": \"currencya\",\n",
       "        \"mostly\": 1.0,\n",
       "        \"max_value\": 7,\n",
       "        \"min_value\": 3,\n",
       "        \"strict_max\": false,\n",
       "        \"strict_min\": false\n",
       "      },\n",
       "      \"meta\": {\n",
       "        \"profiler_details\": {\n",
       "          \"column_min_length_range_estimator\": {\n",
       "            \"metric_configuration\": {\n",
       "              \"metric_name\": \"column_values.length.min\",\n",
       "              \"domain_kwargs\": {\n",
       "                \"column\": \"currencya\"\n",
       "              },\n",
       "              \"metric_value_kwargs\": null\n",
       "            },\n",
       "            \"num_batches\": 1\n",
       "          },\n",
       "          \"column_max_length_range_estimator\": {\n",
       "            \"metric_configuration\": {\n",
       "              \"metric_name\": \"column_values.length.max\",\n",
       "              \"domain_kwargs\": {\n",
       "                \"column\": \"currencya\"\n",
       "              },\n",
       "              \"metric_value_kwargs\": null\n",
       "            },\n",
       "            \"num_batches\": 1\n",
       "          }\n",
       "        }\n",
       "      }\n",
       "    },\n",
       "    {\n",
       "      \"expectation_type\": \"expect_column_values_to_match_regex\",\n",
       "      \"kwargs\": {\n",
       "        \"column\": \"currencya\",\n",
       "        \"mostly\": 1.0,\n",
       "        \"regex\": \"[A-Za-z0-9\\\\.,;:!?()\\\\\\\"'%\\\\-]+\"\n",
       "      },\n",
       "      \"meta\": {\n",
       "        \"profiler_details\": {\n",
       "          \"success_ratio\": 1.0,\n",
       "          \"evaluated_regexes\": {\n",
       "            \"[A-Za-z0-9\\\\.,;:!?()\\\\\\\"'%\\\\-]+\": 1.0,\n",
       "            \"(?:25[0-5]|2[0-4]\\\\d|[01]\\\\d{2}|\\\\d{1,2})(?:.(?:25[0-5]|2[0-4]\\\\d|[01]\\\\d{2}|\\\\d{1,2})){3}\": 0.0,\n",
       "            \"<\\\\/?(?:p|a|b|img)(?: \\\\/)?>\": 0.0,\n",
       "            \"^\\\\s+\": 0.0,\n",
       "            \"\\\\b[0-9a-fA-F]{8}\\\\b-[0-9a-fA-F]{4}-[0-5][0-9a-fA-F]{3}-[089ab][0-9a-fA-F]{3}-\\\\b[0-9a-fA-F]{12}\\\\b \": 0.0,\n",
       "            \"\\\\s+$\": 0.0,\n",
       "            \"https?:\\\\/\\\\/(?:www\\\\.)?[-a-zA-Z0-9@:%._\\\\+~#=]{2,255}\\\\.[a-z]{2,6}\\\\b(?:[-a-zA-Z0-9@:%_\\\\+.~#()?&//=]*)\": 0.0,\n",
       "            \"\\\\d+\": 0.0,\n",
       "            \"-?\\\\d+(?:\\\\.\\\\d*)?\": 0.0,\n",
       "            \"-?\\\\d+\": 0.0\n",
       "          }\n",
       "        }\n",
       "      }\n",
       "    },\n",
       "    {\n",
       "      \"expectation_type\": \"expect_column_value_lengths_to_be_between\",\n",
       "      \"kwargs\": {\n",
       "        \"column\": \"currencyb\",\n",
       "        \"mostly\": 1.0,\n",
       "        \"max_value\": 112,\n",
       "        \"min_value\": 1,\n",
       "        \"strict_max\": false,\n",
       "        \"strict_min\": false\n",
       "      },\n",
       "      \"meta\": {\n",
       "        \"profiler_details\": {\n",
       "          \"column_min_length_range_estimator\": {\n",
       "            \"metric_configuration\": {\n",
       "              \"metric_name\": \"column_values.length.min\",\n",
       "              \"domain_kwargs\": {\n",
       "                \"column\": \"currencyb\"\n",
       "              },\n",
       "              \"metric_value_kwargs\": null\n",
       "            },\n",
       "            \"num_batches\": 1\n",
       "          },\n",
       "          \"column_max_length_range_estimator\": {\n",
       "            \"metric_configuration\": {\n",
       "              \"metric_name\": \"column_values.length.max\",\n",
       "              \"domain_kwargs\": {\n",
       "                \"column\": \"currencyb\"\n",
       "              },\n",
       "              \"metric_value_kwargs\": null\n",
       "            },\n",
       "            \"num_batches\": 1\n",
       "          }\n",
       "        }\n",
       "      }\n",
       "    },\n",
       "    {\n",
       "      \"expectation_type\": \"expect_column_values_to_match_regex\",\n",
       "      \"kwargs\": {\n",
       "        \"column\": \"currencyb\",\n",
       "        \"mostly\": 1.0,\n",
       "        \"regex\": \"[A-Za-z0-9\\\\.,;:!?()\\\\\\\"'%\\\\-]+\"\n",
       "      },\n",
       "      \"meta\": {\n",
       "        \"profiler_details\": {\n",
       "          \"success_ratio\": 1.0,\n",
       "          \"evaluated_regexes\": {\n",
       "            \"[A-Za-z0-9\\\\.,;:!?()\\\\\\\"'%\\\\-]+\": 1.0,\n",
       "            \"\\\\s+$\": 0.06666666666666667,\n",
       "            \"\\\\d+\": 0.05641025641025641,\n",
       "            \"-?\\\\d+(?:\\\\.\\\\d*)?\": 0.05641025641025641,\n",
       "            \"-?\\\\d+\": 0.05641025641025641,\n",
       "            \"(?:25[0-5]|2[0-4]\\\\d|[01]\\\\d{2}|\\\\d{1,2})(?:.(?:25[0-5]|2[0-4]\\\\d|[01]\\\\d{2}|\\\\d{1,2})){3}\": 0.005128205128205128,\n",
       "            \"<\\\\/?(?:p|a|b|img)(?: \\\\/)?>\": 0.0,\n",
       "            \"^\\\\s+\": 0.0,\n",
       "            \"\\\\b[0-9a-fA-F]{8}\\\\b-[0-9a-fA-F]{4}-[0-5][0-9a-fA-F]{3}-[089ab][0-9a-fA-F]{3}-\\\\b[0-9a-fA-F]{12}\\\\b \": 0.0,\n",
       "            \"https?:\\\\/\\\\/(?:www\\\\.)?[-a-zA-Z0-9@:%._\\\\+~#=]{2,255}\\\\.[a-z]{2,6}\\\\b(?:[-a-zA-Z0-9@:%_\\\\+.~#()?&//=]*)\": 0.0\n",
       "          }\n",
       "        }\n",
       "      }\n",
       "    },\n",
       "    {\n",
       "      \"expectation_type\": \"expect_column_value_lengths_to_be_between\",\n",
       "      \"kwargs\": {\n",
       "        \"column\": \"income_context\",\n",
       "        \"mostly\": 1.0,\n",
       "        \"max_value\": 1144,\n",
       "        \"min_value\": 1,\n",
       "        \"strict_max\": false,\n",
       "        \"strict_min\": false\n",
       "      },\n",
       "      \"meta\": {\n",
       "        \"profiler_details\": {\n",
       "          \"column_min_length_range_estimator\": {\n",
       "            \"metric_configuration\": {\n",
       "              \"metric_name\": \"column_values.length.min\",\n",
       "              \"domain_kwargs\": {\n",
       "                \"column\": \"income_context\"\n",
       "              },\n",
       "              \"metric_value_kwargs\": null\n",
       "            },\n",
       "            \"num_batches\": 1\n",
       "          },\n",
       "          \"column_max_length_range_estimator\": {\n",
       "            \"metric_configuration\": {\n",
       "              \"metric_name\": \"column_values.length.max\",\n",
       "              \"domain_kwargs\": {\n",
       "                \"column\": \"income_context\"\n",
       "              },\n",
       "              \"metric_value_kwargs\": null\n",
       "            },\n",
       "            \"num_batches\": 1\n",
       "          }\n",
       "        }\n",
       "      }\n",
       "    },\n",
       "    {\n",
       "      \"expectation_type\": \"expect_column_value_lengths_to_be_between\",\n",
       "      \"kwargs\": {\n",
       "        \"column\": \"country\",\n",
       "        \"mostly\": 1.0,\n",
       "        \"max_value\": 209,\n",
       "        \"min_value\": 1,\n",
       "        \"strict_max\": false,\n",
       "        \"strict_min\": false\n",
       "      },\n",
       "      \"meta\": {\n",
       "        \"profiler_details\": {\n",
       "          \"column_min_length_range_estimator\": {\n",
       "            \"metric_configuration\": {\n",
       "              \"metric_name\": \"column_values.length.min\",\n",
       "              \"domain_kwargs\": {\n",
       "                \"column\": \"country\"\n",
       "              },\n",
       "              \"metric_value_kwargs\": null\n",
       "            },\n",
       "            \"num_batches\": 1\n",
       "          },\n",
       "          \"column_max_length_range_estimator\": {\n",
       "            \"metric_configuration\": {\n",
       "              \"metric_name\": \"column_values.length.max\",\n",
       "              \"domain_kwargs\": {\n",
       "                \"column\": \"country\"\n",
       "              },\n",
       "              \"metric_value_kwargs\": null\n",
       "            },\n",
       "            \"num_batches\": 1\n",
       "          }\n",
       "        }\n",
       "      }\n",
       "    },\n",
       "    {\n",
       "      \"expectation_type\": \"expect_column_value_lengths_to_be_between\",\n",
       "      \"kwargs\": {\n",
       "        \"column\": \"us_state\",\n",
       "        \"mostly\": 1.0,\n",
       "        \"max_value\": 114,\n",
       "        \"min_value\": 4,\n",
       "        \"strict_max\": false,\n",
       "        \"strict_min\": false\n",
       "      },\n",
       "      \"meta\": {\n",
       "        \"profiler_details\": {\n",
       "          \"column_min_length_range_estimator\": {\n",
       "            \"metric_configuration\": {\n",
       "              \"metric_name\": \"column_values.length.min\",\n",
       "              \"domain_kwargs\": {\n",
       "                \"column\": \"us_state\"\n",
       "              },\n",
       "              \"metric_value_kwargs\": null\n",
       "            },\n",
       "            \"num_batches\": 1\n",
       "          },\n",
       "          \"column_max_length_range_estimator\": {\n",
       "            \"metric_configuration\": {\n",
       "              \"metric_name\": \"column_values.length.max\",\n",
       "              \"domain_kwargs\": {\n",
       "                \"column\": \"us_state\"\n",
       "              },\n",
       "              \"metric_value_kwargs\": null\n",
       "            },\n",
       "            \"num_batches\": 1\n",
       "          }\n",
       "        }\n",
       "      }\n",
       "    },\n",
       "    {\n",
       "      \"expectation_type\": \"expect_column_values_to_match_regex\",\n",
       "      \"kwargs\": {\n",
       "        \"column\": \"us_state\",\n",
       "        \"mostly\": 1.0,\n",
       "        \"regex\": \"[A-Za-z0-9\\\\.,;:!?()\\\\\\\"'%\\\\-]+\"\n",
       "      },\n",
       "      \"meta\": {\n",
       "        \"profiler_details\": {\n",
       "          \"success_ratio\": 1.0,\n",
       "          \"evaluated_regexes\": {\n",
       "            \"[A-Za-z0-9\\\\.,;:!?()\\\\\\\"'%\\\\-]+\": 1.0,\n",
       "            \"(?:25[0-5]|2[0-4]\\\\d|[01]\\\\d{2}|\\\\d{1,2})(?:.(?:25[0-5]|2[0-4]\\\\d|[01]\\\\d{2}|\\\\d{1,2})){3}\": 0.0,\n",
       "            \"<\\\\/?(?:p|a|b|img)(?: \\\\/)?>\": 0.0,\n",
       "            \"^\\\\s+\": 0.0,\n",
       "            \"\\\\b[0-9a-fA-F]{8}\\\\b-[0-9a-fA-F]{4}-[0-5][0-9a-fA-F]{3}-[089ab][0-9a-fA-F]{3}-\\\\b[0-9a-fA-F]{12}\\\\b \": 0.0,\n",
       "            \"\\\\s+$\": 0.0,\n",
       "            \"https?:\\\\/\\\\/(?:www\\\\.)?[-a-zA-Z0-9@:%._\\\\+~#=]{2,255}\\\\.[a-z]{2,6}\\\\b(?:[-a-zA-Z0-9@:%_\\\\+.~#()?&//=]*)\": 0.0,\n",
       "            \"\\\\d+\": 0.0,\n",
       "            \"-?\\\\d+(?:\\\\.\\\\d*)?\": 0.0,\n",
       "            \"-?\\\\d+\": 0.0\n",
       "          }\n",
       "        }\n",
       "      }\n",
       "    },\n",
       "    {\n",
       "      \"expectation_type\": \"expect_column_value_lengths_to_be_between\",\n",
       "      \"kwargs\": {\n",
       "        \"column\": \"city\",\n",
       "        \"mostly\": 1.0,\n",
       "        \"max_value\": 171,\n",
       "        \"min_value\": 1,\n",
       "        \"strict_max\": false,\n",
       "        \"strict_min\": false\n",
       "      },\n",
       "      \"meta\": {\n",
       "        \"profiler_details\": {\n",
       "          \"column_min_length_range_estimator\": {\n",
       "            \"metric_configuration\": {\n",
       "              \"metric_name\": \"column_values.length.min\",\n",
       "              \"domain_kwargs\": {\n",
       "                \"column\": \"city\"\n",
       "              },\n",
       "              \"metric_value_kwargs\": null\n",
       "            },\n",
       "            \"num_batches\": 1\n",
       "          },\n",
       "          \"column_max_length_range_estimator\": {\n",
       "            \"metric_configuration\": {\n",
       "              \"metric_name\": \"column_values.length.max\",\n",
       "              \"domain_kwargs\": {\n",
       "                \"column\": \"city\"\n",
       "              },\n",
       "              \"metric_value_kwargs\": null\n",
       "            },\n",
       "            \"num_batches\": 1\n",
       "          }\n",
       "        }\n",
       "      }\n",
       "    },\n",
       "    {\n",
       "      \"expectation_type\": \"expect_column_value_lengths_to_be_between\",\n",
       "      \"kwargs\": {\n",
       "        \"column\": \"overall_experience\",\n",
       "        \"mostly\": 1.0,\n",
       "        \"max_value\": 16,\n",
       "        \"min_value\": 9,\n",
       "        \"strict_max\": false,\n",
       "        \"strict_min\": false\n",
       "      },\n",
       "      \"meta\": {\n",
       "        \"profiler_details\": {\n",
       "          \"column_min_length_range_estimator\": {\n",
       "            \"metric_configuration\": {\n",
       "              \"metric_name\": \"column_values.length.min\",\n",
       "              \"domain_kwargs\": {\n",
       "                \"column\": \"overall_experience\"\n",
       "              },\n",
       "              \"metric_value_kwargs\": null\n",
       "            },\n",
       "            \"num_batches\": 1\n",
       "          },\n",
       "          \"column_max_length_range_estimator\": {\n",
       "            \"metric_configuration\": {\n",
       "              \"metric_name\": \"column_values.length.max\",\n",
       "              \"domain_kwargs\": {\n",
       "                \"column\": \"overall_experience\"\n",
       "              },\n",
       "              \"metric_value_kwargs\": null\n",
       "            },\n",
       "            \"num_batches\": 1\n",
       "          }\n",
       "        }\n",
       "      }\n",
       "    },\n",
       "    {\n",
       "      \"expectation_type\": \"expect_column_values_to_match_regex\",\n",
       "      \"kwargs\": {\n",
       "        \"column\": \"overall_experience\",\n",
       "        \"mostly\": 1.0,\n",
       "        \"regex\": \"[A-Za-z0-9\\\\.,;:!?()\\\\\\\"'%\\\\-]+\"\n",
       "      },\n",
       "      \"meta\": {\n",
       "        \"profiler_details\": {\n",
       "          \"success_ratio\": 1.0,\n",
       "          \"evaluated_regexes\": {\n",
       "            \"[A-Za-z0-9\\\\.,;:!?()\\\\\\\"'%\\\\-]+\": 1.0,\n",
       "            \"\\\\d+\": 1.0,\n",
       "            \"-?\\\\d+(?:\\\\.\\\\d*)?\": 1.0,\n",
       "            \"-?\\\\d+\": 1.0,\n",
       "            \"(?:25[0-5]|2[0-4]\\\\d|[01]\\\\d{2}|\\\\d{1,2})(?:.(?:25[0-5]|2[0-4]\\\\d|[01]\\\\d{2}|\\\\d{1,2})){3}\": 0.0,\n",
       "            \"<\\\\/?(?:p|a|b|img)(?: \\\\/)?>\": 0.0,\n",
       "            \"^\\\\s+\": 0.0,\n",
       "            \"\\\\b[0-9a-fA-F]{8}\\\\b-[0-9a-fA-F]{4}-[0-5][0-9a-fA-F]{3}-[089ab][0-9a-fA-F]{3}-\\\\b[0-9a-fA-F]{12}\\\\b \": 0.0,\n",
       "            \"\\\\s+$\": 0.0,\n",
       "            \"https?:\\\\/\\\\/(?:www\\\\.)?[-a-zA-Z0-9@:%._\\\\+~#=]{2,255}\\\\.[a-z]{2,6}\\\\b(?:[-a-zA-Z0-9@:%_\\\\+.~#()?&//=]*)\": 0.0\n",
       "          }\n",
       "        }\n",
       "      }\n",
       "    },\n",
       "    {\n",
       "      \"expectation_type\": \"expect_column_value_lengths_to_be_between\",\n",
       "      \"kwargs\": {\n",
       "        \"column\": \"field_experience\",\n",
       "        \"mostly\": 1.0,\n",
       "        \"max_value\": 16,\n",
       "        \"min_value\": 9,\n",
       "        \"strict_max\": false,\n",
       "        \"strict_min\": false\n",
       "      },\n",
       "      \"meta\": {\n",
       "        \"profiler_details\": {\n",
       "          \"column_min_length_range_estimator\": {\n",
       "            \"metric_configuration\": {\n",
       "              \"metric_name\": \"column_values.length.min\",\n",
       "              \"domain_kwargs\": {\n",
       "                \"column\": \"field_experience\"\n",
       "              },\n",
       "              \"metric_value_kwargs\": null\n",
       "            },\n",
       "            \"num_batches\": 1\n",
       "          },\n",
       "          \"column_max_length_range_estimator\": {\n",
       "            \"metric_configuration\": {\n",
       "              \"metric_name\": \"column_values.length.max\",\n",
       "              \"domain_kwargs\": {\n",
       "                \"column\": \"field_experience\"\n",
       "              },\n",
       "              \"metric_value_kwargs\": null\n",
       "            },\n",
       "            \"num_batches\": 1\n",
       "          }\n",
       "        }\n",
       "      }\n",
       "    },\n",
       "    {\n",
       "      \"expectation_type\": \"expect_column_values_to_match_regex\",\n",
       "      \"kwargs\": {\n",
       "        \"column\": \"field_experience\",\n",
       "        \"mostly\": 1.0,\n",
       "        \"regex\": \"[A-Za-z0-9\\\\.,;:!?()\\\\\\\"'%\\\\-]+\"\n",
       "      },\n",
       "      \"meta\": {\n",
       "        \"profiler_details\": {\n",
       "          \"success_ratio\": 1.0,\n",
       "          \"evaluated_regexes\": {\n",
       "            \"[A-Za-z0-9\\\\.,;:!?()\\\\\\\"'%\\\\-]+\": 1.0,\n",
       "            \"\\\\d+\": 1.0,\n",
       "            \"-?\\\\d+(?:\\\\.\\\\d*)?\": 1.0,\n",
       "            \"-?\\\\d+\": 1.0,\n",
       "            \"(?:25[0-5]|2[0-4]\\\\d|[01]\\\\d{2}|\\\\d{1,2})(?:.(?:25[0-5]|2[0-4]\\\\d|[01]\\\\d{2}|\\\\d{1,2})){3}\": 0.0,\n",
       "            \"<\\\\/?(?:p|a|b|img)(?: \\\\/)?>\": 0.0,\n",
       "            \"^\\\\s+\": 0.0,\n",
       "            \"\\\\b[0-9a-fA-F]{8}\\\\b-[0-9a-fA-F]{4}-[0-5][0-9a-fA-F]{3}-[089ab][0-9a-fA-F]{3}-\\\\b[0-9a-fA-F]{12}\\\\b \": 0.0,\n",
       "            \"\\\\s+$\": 0.0,\n",
       "            \"https?:\\\\/\\\\/(?:www\\\\.)?[-a-zA-Z0-9@:%._\\\\+~#=]{2,255}\\\\.[a-z]{2,6}\\\\b(?:[-a-zA-Z0-9@:%_\\\\+.~#()?&//=]*)\": 0.0\n",
       "          }\n",
       "        }\n",
       "      }\n",
       "    },\n",
       "    {\n",
       "      \"expectation_type\": \"expect_column_value_lengths_to_be_between\",\n",
       "      \"kwargs\": {\n",
       "        \"column\": \"education\",\n",
       "        \"mostly\": 1.0,\n",
       "        \"max_value\": 34,\n",
       "        \"min_value\": 3,\n",
       "        \"strict_max\": false,\n",
       "        \"strict_min\": false\n",
       "      },\n",
       "      \"meta\": {\n",
       "        \"profiler_details\": {\n",
       "          \"column_min_length_range_estimator\": {\n",
       "            \"metric_configuration\": {\n",
       "              \"metric_name\": \"column_values.length.min\",\n",
       "              \"domain_kwargs\": {\n",
       "                \"column\": \"education\"\n",
       "              },\n",
       "              \"metric_value_kwargs\": null\n",
       "            },\n",
       "            \"num_batches\": 1\n",
       "          },\n",
       "          \"column_max_length_range_estimator\": {\n",
       "            \"metric_configuration\": {\n",
       "              \"metric_name\": \"column_values.length.max\",\n",
       "              \"domain_kwargs\": {\n",
       "                \"column\": \"education\"\n",
       "              },\n",
       "              \"metric_value_kwargs\": null\n",
       "            },\n",
       "            \"num_batches\": 1\n",
       "          }\n",
       "        }\n",
       "      }\n",
       "    },\n",
       "    {\n",
       "      \"expectation_type\": \"expect_column_values_to_match_regex\",\n",
       "      \"kwargs\": {\n",
       "        \"column\": \"education\",\n",
       "        \"mostly\": 1.0,\n",
       "        \"regex\": \"[A-Za-z0-9\\\\.,;:!?()\\\\\\\"'%\\\\-]+\"\n",
       "      },\n",
       "      \"meta\": {\n",
       "        \"profiler_details\": {\n",
       "          \"success_ratio\": 1.0,\n",
       "          \"evaluated_regexes\": {\n",
       "            \"[A-Za-z0-9\\\\.,;:!?()\\\\\\\"'%\\\\-]+\": 1.0,\n",
       "            \"(?:25[0-5]|2[0-4]\\\\d|[01]\\\\d{2}|\\\\d{1,2})(?:.(?:25[0-5]|2[0-4]\\\\d|[01]\\\\d{2}|\\\\d{1,2})){3}\": 0.0,\n",
       "            \"<\\\\/?(?:p|a|b|img)(?: \\\\/)?>\": 0.0,\n",
       "            \"^\\\\s+\": 0.0,\n",
       "            \"\\\\b[0-9a-fA-F]{8}\\\\b-[0-9a-fA-F]{4}-[0-5][0-9a-fA-F]{3}-[089ab][0-9a-fA-F]{3}-\\\\b[0-9a-fA-F]{12}\\\\b \": 0.0,\n",
       "            \"\\\\s+$\": 0.0,\n",
       "            \"https?:\\\\/\\\\/(?:www\\\\.)?[-a-zA-Z0-9@:%._\\\\+~#=]{2,255}\\\\.[a-z]{2,6}\\\\b(?:[-a-zA-Z0-9@:%_\\\\+.~#()?&//=]*)\": 0.0,\n",
       "            \"\\\\d+\": 0.0,\n",
       "            \"-?\\\\d+(?:\\\\.\\\\d*)?\": 0.0,\n",
       "            \"-?\\\\d+\": 0.0\n",
       "          }\n",
       "        }\n",
       "      }\n",
       "    },\n",
       "    {\n",
       "      \"expectation_type\": \"expect_column_value_lengths_to_be_between\",\n",
       "      \"kwargs\": {\n",
       "        \"column\": \"gender\",\n",
       "        \"mostly\": 1.0,\n",
       "        \"max_value\": 29,\n",
       "        \"min_value\": 3,\n",
       "        \"strict_max\": false,\n",
       "        \"strict_min\": false\n",
       "      },\n",
       "      \"meta\": {\n",
       "        \"profiler_details\": {\n",
       "          \"column_min_length_range_estimator\": {\n",
       "            \"metric_configuration\": {\n",
       "              \"metric_name\": \"column_values.length.min\",\n",
       "              \"domain_kwargs\": {\n",
       "                \"column\": \"gender\"\n",
       "              },\n",
       "              \"metric_value_kwargs\": null\n",
       "            },\n",
       "            \"num_batches\": 1\n",
       "          },\n",
       "          \"column_max_length_range_estimator\": {\n",
       "            \"metric_configuration\": {\n",
       "              \"metric_name\": \"column_values.length.max\",\n",
       "              \"domain_kwargs\": {\n",
       "                \"column\": \"gender\"\n",
       "              },\n",
       "              \"metric_value_kwargs\": null\n",
       "            },\n",
       "            \"num_batches\": 1\n",
       "          }\n",
       "        }\n",
       "      }\n",
       "    },\n",
       "    {\n",
       "      \"expectation_type\": \"expect_column_values_to_match_regex\",\n",
       "      \"kwargs\": {\n",
       "        \"column\": \"gender\",\n",
       "        \"mostly\": 1.0,\n",
       "        \"regex\": \"[A-Za-z0-9\\\\.,;:!?()\\\\\\\"'%\\\\-]+\"\n",
       "      },\n",
       "      \"meta\": {\n",
       "        \"profiler_details\": {\n",
       "          \"success_ratio\": 1.0,\n",
       "          \"evaluated_regexes\": {\n",
       "            \"[A-Za-z0-9\\\\.,;:!?()\\\\\\\"'%\\\\-]+\": 1.0,\n",
       "            \"(?:25[0-5]|2[0-4]\\\\d|[01]\\\\d{2}|\\\\d{1,2})(?:.(?:25[0-5]|2[0-4]\\\\d|[01]\\\\d{2}|\\\\d{1,2})){3}\": 0.0,\n",
       "            \"<\\\\/?(?:p|a|b|img)(?: \\\\/)?>\": 0.0,\n",
       "            \"^\\\\s+\": 0.0,\n",
       "            \"\\\\b[0-9a-fA-F]{8}\\\\b-[0-9a-fA-F]{4}-[0-5][0-9a-fA-F]{3}-[089ab][0-9a-fA-F]{3}-\\\\b[0-9a-fA-F]{12}\\\\b \": 0.0,\n",
       "            \"\\\\s+$\": 0.0,\n",
       "            \"https?:\\\\/\\\\/(?:www\\\\.)?[-a-zA-Z0-9@:%._\\\\+~#=]{2,255}\\\\.[a-z]{2,6}\\\\b(?:[-a-zA-Z0-9@:%_\\\\+.~#()?&//=]*)\": 0.0,\n",
       "            \"\\\\d+\": 0.0,\n",
       "            \"-?\\\\d+(?:\\\\.\\\\d*)?\": 0.0,\n",
       "            \"-?\\\\d+\": 0.0\n",
       "          }\n",
       "        }\n",
       "      }\n",
       "    },\n",
       "    {\n",
       "      \"expectation_type\": \"expect_column_value_lengths_to_be_between\",\n",
       "      \"kwargs\": {\n",
       "        \"column\": \"race\",\n",
       "        \"mostly\": 1.0,\n",
       "        \"max_value\": 125,\n",
       "        \"min_value\": 5,\n",
       "        \"strict_max\": false,\n",
       "        \"strict_min\": false\n",
       "      },\n",
       "      \"meta\": {\n",
       "        \"profiler_details\": {\n",
       "          \"column_min_length_range_estimator\": {\n",
       "            \"metric_configuration\": {\n",
       "              \"metric_name\": \"column_values.length.min\",\n",
       "              \"domain_kwargs\": {\n",
       "                \"column\": \"race\"\n",
       "              },\n",
       "              \"metric_value_kwargs\": null\n",
       "            },\n",
       "            \"num_batches\": 1\n",
       "          },\n",
       "          \"column_max_length_range_estimator\": {\n",
       "            \"metric_configuration\": {\n",
       "              \"metric_name\": \"column_values.length.max\",\n",
       "              \"domain_kwargs\": {\n",
       "                \"column\": \"race\"\n",
       "              },\n",
       "              \"metric_value_kwargs\": null\n",
       "            },\n",
       "            \"num_batches\": 1\n",
       "          }\n",
       "        }\n",
       "      }\n",
       "    },\n",
       "    {\n",
       "      \"expectation_type\": \"expect_column_values_to_match_regex\",\n",
       "      \"kwargs\": {\n",
       "        \"column\": \"race\",\n",
       "        \"mostly\": 1.0,\n",
       "        \"regex\": \"[A-Za-z0-9\\\\.,;:!?()\\\\\\\"'%\\\\-]+\"\n",
       "      },\n",
       "      \"meta\": {\n",
       "        \"profiler_details\": {\n",
       "          \"success_ratio\": 1.0,\n",
       "          \"evaluated_regexes\": {\n",
       "            \"[A-Za-z0-9\\\\.,;:!?()\\\\\\\"'%\\\\-]+\": 1.0,\n",
       "            \"(?:25[0-5]|2[0-4]\\\\d|[01]\\\\d{2}|\\\\d{1,2})(?:.(?:25[0-5]|2[0-4]\\\\d|[01]\\\\d{2}|\\\\d{1,2})){3}\": 0.0,\n",
       "            \"<\\\\/?(?:p|a|b|img)(?: \\\\/)?>\": 0.0,\n",
       "            \"^\\\\s+\": 0.0,\n",
       "            \"\\\\b[0-9a-fA-F]{8}\\\\b-[0-9a-fA-F]{4}-[0-5][0-9a-fA-F]{3}-[089ab][0-9a-fA-F]{3}-\\\\b[0-9a-fA-F]{12}\\\\b \": 0.0,\n",
       "            \"\\\\s+$\": 0.0,\n",
       "            \"https?:\\\\/\\\\/(?:www\\\\.)?[-a-zA-Z0-9@:%._\\\\+~#=]{2,255}\\\\.[a-z]{2,6}\\\\b(?:[-a-zA-Z0-9@:%_\\\\+.~#()?&//=]*)\": 0.0,\n",
       "            \"\\\\d+\": 0.0,\n",
       "            \"-?\\\\d+(?:\\\\.\\\\d*)?\": 0.0,\n",
       "            \"-?\\\\d+\": 0.0\n",
       "          }\n",
       "        }\n",
       "      }\n",
       "    },\n",
       "    {\n",
       "      \"expectation_type\": \"expect_column_values_to_be_in_set\",\n",
       "      \"kwargs\": {\n",
       "        \"column\": \"age\",\n",
       "        \"value_set\": [\n",
       "          \"25-34\",\n",
       "          \"65 or over\",\n",
       "          \"18-24\",\n",
       "          \"55-64\",\n",
       "          \"45-54\",\n",
       "          \"under 18\",\n",
       "          \"35-44\"\n",
       "        ],\n",
       "        \"mostly\": 1.0\n",
       "      },\n",
       "      \"meta\": {\n",
       "        \"profiler_details\": {\n",
       "          \"metric_configuration\": {\n",
       "            \"metric_name\": \"column.distinct_values\",\n",
       "            \"domain_kwargs\": {\n",
       "              \"column\": \"age\"\n",
       "            },\n",
       "            \"metric_value_kwargs\": null\n",
       "          },\n",
       "          \"num_batches\": 1,\n",
       "          \"parse_strings_as_datetimes\": false\n",
       "        }\n",
       "      }\n",
       "    },\n",
       "    {\n",
       "      \"expectation_type\": \"expect_column_unique_value_count_to_be_between\",\n",
       "      \"kwargs\": {\n",
       "        \"column\": \"age\",\n",
       "        \"max_value\": 7,\n",
       "        \"min_value\": 7,\n",
       "        \"strict_max\": false,\n",
       "        \"strict_min\": false\n",
       "      },\n",
       "      \"meta\": {\n",
       "        \"profiler_details\": {\n",
       "          \"metric_configuration\": {\n",
       "            \"metric_name\": \"column.distinct_values.count\",\n",
       "            \"domain_kwargs\": {\n",
       "              \"column\": \"age\"\n",
       "            },\n",
       "            \"metric_value_kwargs\": null\n",
       "          },\n",
       "          \"num_batches\": 1\n",
       "        }\n",
       "      }\n",
       "    },\n",
       "    {\n",
       "      \"expectation_type\": \"expect_column_proportion_of_unique_values_to_be_between\",\n",
       "      \"kwargs\": {\n",
       "        \"column\": \"age\",\n",
       "        \"max_value\": 0.00025025919702549067,\n",
       "        \"min_value\": 0.00025025919702549067,\n",
       "        \"strict_max\": false,\n",
       "        \"strict_min\": false\n",
       "      },\n",
       "      \"meta\": {\n",
       "        \"profiler_details\": {\n",
       "          \"metric_configuration\": {\n",
       "            \"metric_name\": \"column.unique_proportion\",\n",
       "            \"domain_kwargs\": {\n",
       "              \"column\": \"age\"\n",
       "            },\n",
       "            \"metric_value_kwargs\": null\n",
       "          },\n",
       "          \"num_batches\": 1\n",
       "        }\n",
       "      }\n",
       "    },\n",
       "    {\n",
       "      \"expectation_type\": \"expect_column_values_to_be_in_set\",\n",
       "      \"kwargs\": {\n",
       "        \"column\": \"currencya\",\n",
       "        \"value_set\": [\n",
       "          \"GBP\",\n",
       "          \"HKD\",\n",
       "          \"ZAR\",\n",
       "          \"CAD\",\n",
       "          \"CHF\",\n",
       "          \"SEK\",\n",
       "          \"EUR\",\n",
       "          \"USD\",\n",
       "          \"Other\",\n",
       "          \"AUD/NZD\",\n",
       "          \"JPY\"\n",
       "        ],\n",
       "        \"mostly\": 1.0\n",
       "      },\n",
       "      \"meta\": {\n",
       "        \"profiler_details\": {\n",
       "          \"metric_configuration\": {\n",
       "            \"metric_name\": \"column.distinct_values\",\n",
       "            \"domain_kwargs\": {\n",
       "              \"column\": \"currencya\"\n",
       "            },\n",
       "            \"metric_value_kwargs\": null\n",
       "          },\n",
       "          \"num_batches\": 1,\n",
       "          \"parse_strings_as_datetimes\": false\n",
       "        }\n",
       "      }\n",
       "    },\n",
       "    {\n",
       "      \"expectation_type\": \"expect_column_unique_value_count_to_be_between\",\n",
       "      \"kwargs\": {\n",
       "        \"column\": \"currencya\",\n",
       "        \"max_value\": 11,\n",
       "        \"min_value\": 11,\n",
       "        \"strict_max\": false,\n",
       "        \"strict_min\": false\n",
       "      },\n",
       "      \"meta\": {\n",
       "        \"profiler_details\": {\n",
       "          \"metric_configuration\": {\n",
       "            \"metric_name\": \"column.distinct_values.count\",\n",
       "            \"domain_kwargs\": {\n",
       "              \"column\": \"currencya\"\n",
       "            },\n",
       "            \"metric_value_kwargs\": null\n",
       "          },\n",
       "          \"num_batches\": 1\n",
       "        }\n",
       "      }\n",
       "    },\n",
       "    {\n",
       "      \"expectation_type\": \"expect_column_proportion_of_unique_values_to_be_between\",\n",
       "      \"kwargs\": {\n",
       "        \"column\": \"currencya\",\n",
       "        \"max_value\": 0.0003932644524686282,\n",
       "        \"min_value\": 0.0003932644524686282,\n",
       "        \"strict_max\": false,\n",
       "        \"strict_min\": false\n",
       "      },\n",
       "      \"meta\": {\n",
       "        \"profiler_details\": {\n",
       "          \"metric_configuration\": {\n",
       "            \"metric_name\": \"column.unique_proportion\",\n",
       "            \"domain_kwargs\": {\n",
       "              \"column\": \"currencya\"\n",
       "            },\n",
       "            \"metric_value_kwargs\": null\n",
       "          },\n",
       "          \"num_batches\": 1\n",
       "        }\n",
       "      }\n",
       "    },\n",
       "    {\n",
       "      \"expectation_type\": \"expect_column_values_to_be_in_set\",\n",
       "      \"kwargs\": {\n",
       "        \"column\": \"overall_experience\",\n",
       "        \"value_set\": [\n",
       "          \"21 - 30 years\",\n",
       "          \"2 - 4 years\",\n",
       "          \"1 year or less\",\n",
       "          \"8 - 10 years\",\n",
       "          \"41 years or more\",\n",
       "          \"11 - 20 years\",\n",
       "          \"31 - 40 years\",\n",
       "          \"5-7 years\"\n",
       "        ],\n",
       "        \"mostly\": 1.0\n",
       "      },\n",
       "      \"meta\": {\n",
       "        \"profiler_details\": {\n",
       "          \"metric_configuration\": {\n",
       "            \"metric_name\": \"column.distinct_values\",\n",
       "            \"domain_kwargs\": {\n",
       "              \"column\": \"overall_experience\"\n",
       "            },\n",
       "            \"metric_value_kwargs\": null\n",
       "          },\n",
       "          \"num_batches\": 1,\n",
       "          \"parse_strings_as_datetimes\": false\n",
       "        }\n",
       "      }\n",
       "    },\n",
       "    {\n",
       "      \"expectation_type\": \"expect_column_unique_value_count_to_be_between\",\n",
       "      \"kwargs\": {\n",
       "        \"column\": \"overall_experience\",\n",
       "        \"max_value\": 8,\n",
       "        \"min_value\": 8,\n",
       "        \"strict_max\": false,\n",
       "        \"strict_min\": false\n",
       "      },\n",
       "      \"meta\": {\n",
       "        \"profiler_details\": {\n",
       "          \"metric_configuration\": {\n",
       "            \"metric_name\": \"column.distinct_values.count\",\n",
       "            \"domain_kwargs\": {\n",
       "              \"column\": \"overall_experience\"\n",
       "            },\n",
       "            \"metric_value_kwargs\": null\n",
       "          },\n",
       "          \"num_batches\": 1\n",
       "        }\n",
       "      }\n",
       "    },\n",
       "    {\n",
       "      \"expectation_type\": \"expect_column_proportion_of_unique_values_to_be_between\",\n",
       "      \"kwargs\": {\n",
       "        \"column\": \"overall_experience\",\n",
       "        \"max_value\": 0.0002860105108862751,\n",
       "        \"min_value\": 0.0002860105108862751,\n",
       "        \"strict_max\": false,\n",
       "        \"strict_min\": false\n",
       "      },\n",
       "      \"meta\": {\n",
       "        \"profiler_details\": {\n",
       "          \"metric_configuration\": {\n",
       "            \"metric_name\": \"column.unique_proportion\",\n",
       "            \"domain_kwargs\": {\n",
       "              \"column\": \"overall_experience\"\n",
       "            },\n",
       "            \"metric_value_kwargs\": null\n",
       "          },\n",
       "          \"num_batches\": 1\n",
       "        }\n",
       "      }\n",
       "    },\n",
       "    {\n",
       "      \"expectation_type\": \"expect_column_values_to_be_in_set\",\n",
       "      \"kwargs\": {\n",
       "        \"column\": \"field_experience\",\n",
       "        \"value_set\": [\n",
       "          \"21 - 30 years\",\n",
       "          \"2 - 4 years\",\n",
       "          \"1 year or less\",\n",
       "          \"8 - 10 years\",\n",
       "          \"41 years or more\",\n",
       "          \"11 - 20 years\",\n",
       "          \"31 - 40 years\",\n",
       "          \"5-7 years\"\n",
       "        ],\n",
       "        \"mostly\": 1.0\n",
       "      },\n",
       "      \"meta\": {\n",
       "        \"profiler_details\": {\n",
       "          \"metric_configuration\": {\n",
       "            \"metric_name\": \"column.distinct_values\",\n",
       "            \"domain_kwargs\": {\n",
       "              \"column\": \"field_experience\"\n",
       "            },\n",
       "            \"metric_value_kwargs\": null\n",
       "          },\n",
       "          \"num_batches\": 1,\n",
       "          \"parse_strings_as_datetimes\": false\n",
       "        }\n",
       "      }\n",
       "    },\n",
       "    {\n",
       "      \"expectation_type\": \"expect_column_unique_value_count_to_be_between\",\n",
       "      \"kwargs\": {\n",
       "        \"column\": \"field_experience\",\n",
       "        \"max_value\": 8,\n",
       "        \"min_value\": 8,\n",
       "        \"strict_max\": false,\n",
       "        \"strict_min\": false\n",
       "      },\n",
       "      \"meta\": {\n",
       "        \"profiler_details\": {\n",
       "          \"metric_configuration\": {\n",
       "            \"metric_name\": \"column.distinct_values.count\",\n",
       "            \"domain_kwargs\": {\n",
       "              \"column\": \"field_experience\"\n",
       "            },\n",
       "            \"metric_value_kwargs\": null\n",
       "          },\n",
       "          \"num_batches\": 1\n",
       "        }\n",
       "      }\n",
       "    },\n",
       "    {\n",
       "      \"expectation_type\": \"expect_column_proportion_of_unique_values_to_be_between\",\n",
       "      \"kwargs\": {\n",
       "        \"column\": \"field_experience\",\n",
       "        \"max_value\": 0.0002860105108862751,\n",
       "        \"min_value\": 0.0002860105108862751,\n",
       "        \"strict_max\": false,\n",
       "        \"strict_min\": false\n",
       "      },\n",
       "      \"meta\": {\n",
       "        \"profiler_details\": {\n",
       "          \"metric_configuration\": {\n",
       "            \"metric_name\": \"column.unique_proportion\",\n",
       "            \"domain_kwargs\": {\n",
       "              \"column\": \"field_experience\"\n",
       "            },\n",
       "            \"metric_value_kwargs\": null\n",
       "          },\n",
       "          \"num_batches\": 1\n",
       "        }\n",
       "      }\n",
       "    },\n",
       "    {\n",
       "      \"expectation_type\": \"expect_column_values_to_be_in_set\",\n",
       "      \"kwargs\": {\n",
       "        \"column\": \"education\",\n",
       "        \"value_set\": [\n",
       "          \"High School\",\n",
       "          \"Master's degree\",\n",
       "          \"PhD\",\n",
       "          \"Some college\",\n",
       "          \"Professional degree (MD, JD, etc.)\",\n",
       "          \"College degree\"\n",
       "        ],\n",
       "        \"mostly\": 1.0\n",
       "      },\n",
       "      \"meta\": {\n",
       "        \"profiler_details\": {\n",
       "          \"metric_configuration\": {\n",
       "            \"metric_name\": \"column.distinct_values\",\n",
       "            \"domain_kwargs\": {\n",
       "              \"column\": \"education\"\n",
       "            },\n",
       "            \"metric_value_kwargs\": null\n",
       "          },\n",
       "          \"num_batches\": 1,\n",
       "          \"parse_strings_as_datetimes\": false\n",
       "        }\n",
       "      }\n",
       "    },\n",
       "    {\n",
       "      \"expectation_type\": \"expect_column_unique_value_count_to_be_between\",\n",
       "      \"kwargs\": {\n",
       "        \"column\": \"education\",\n",
       "        \"max_value\": 6,\n",
       "        \"min_value\": 6,\n",
       "        \"strict_max\": false,\n",
       "        \"strict_min\": false\n",
       "      },\n",
       "      \"meta\": {\n",
       "        \"profiler_details\": {\n",
       "          \"metric_configuration\": {\n",
       "            \"metric_name\": \"column.distinct_values.count\",\n",
       "            \"domain_kwargs\": {\n",
       "              \"column\": \"education\"\n",
       "            },\n",
       "            \"metric_value_kwargs\": null\n",
       "          },\n",
       "          \"num_batches\": 1\n",
       "        }\n",
       "      }\n",
       "    },\n",
       "    {\n",
       "      \"expectation_type\": \"expect_column_proportion_of_unique_values_to_be_between\",\n",
       "      \"kwargs\": {\n",
       "        \"column\": \"education\",\n",
       "        \"max_value\": 0.00021616947686986597,\n",
       "        \"min_value\": 0.00021616947686986597,\n",
       "        \"strict_max\": false,\n",
       "        \"strict_min\": false\n",
       "      },\n",
       "      \"meta\": {\n",
       "        \"profiler_details\": {\n",
       "          \"metric_configuration\": {\n",
       "            \"metric_name\": \"column.unique_proportion\",\n",
       "            \"domain_kwargs\": {\n",
       "              \"column\": \"education\"\n",
       "            },\n",
       "            \"metric_value_kwargs\": null\n",
       "          },\n",
       "          \"num_batches\": 1\n",
       "        }\n",
       "      }\n",
       "    },\n",
       "    {\n",
       "      \"expectation_type\": \"expect_column_values_to_be_in_set\",\n",
       "      \"kwargs\": {\n",
       "        \"column\": \"gender\",\n",
       "        \"value_set\": [\n",
       "          \"Prefer not to answer\",\n",
       "          \"Woman\",\n",
       "          \"Non-binary\",\n",
       "          \"Other or prefer not to answer\",\n",
       "          \"Man\"\n",
       "        ],\n",
       "        \"mostly\": 1.0\n",
       "      },\n",
       "      \"meta\": {\n",
       "        \"profiler_details\": {\n",
       "          \"metric_configuration\": {\n",
       "            \"metric_name\": \"column.distinct_values\",\n",
       "            \"domain_kwargs\": {\n",
       "              \"column\": \"gender\"\n",
       "            },\n",
       "            \"metric_value_kwargs\": null\n",
       "          },\n",
       "          \"num_batches\": 1,\n",
       "          \"parse_strings_as_datetimes\": false\n",
       "        }\n",
       "      }\n",
       "    },\n",
       "    {\n",
       "      \"expectation_type\": \"expect_column_unique_value_count_to_be_between\",\n",
       "      \"kwargs\": {\n",
       "        \"column\": \"gender\",\n",
       "        \"max_value\": 5,\n",
       "        \"min_value\": 5,\n",
       "        \"strict_max\": false,\n",
       "        \"strict_min\": false\n",
       "      },\n",
       "      \"meta\": {\n",
       "        \"profiler_details\": {\n",
       "          \"metric_configuration\": {\n",
       "            \"metric_name\": \"column.distinct_values.count\",\n",
       "            \"domain_kwargs\": {\n",
       "              \"column\": \"gender\"\n",
       "            },\n",
       "            \"metric_value_kwargs\": null\n",
       "          },\n",
       "          \"num_batches\": 1\n",
       "        }\n",
       "      }\n",
       "    },\n",
       "    {\n",
       "      \"expectation_type\": \"expect_column_proportion_of_unique_values_to_be_between\",\n",
       "      \"kwargs\": {\n",
       "        \"column\": \"gender\",\n",
       "        \"max_value\": 0.00017983024025320098,\n",
       "        \"min_value\": 0.00017983024025320098,\n",
       "        \"strict_max\": false,\n",
       "        \"strict_min\": false\n",
       "      },\n",
       "      \"meta\": {\n",
       "        \"profiler_details\": {\n",
       "          \"metric_configuration\": {\n",
       "            \"metric_name\": \"column.unique_proportion\",\n",
       "            \"domain_kwargs\": {\n",
       "              \"column\": \"gender\"\n",
       "            },\n",
       "            \"metric_value_kwargs\": null\n",
       "          },\n",
       "          \"num_batches\": 1\n",
       "        }\n",
       "      }\n",
       "    },\n",
       "    {\n",
       "      \"expectation_type\": \"expect_column_values_to_be_in_set\",\n",
       "      \"kwargs\": {\n",
       "        \"column\": \"race\",\n",
       "        \"value_set\": [\n",
       "          \"Asian or Asian American, White, Another option not listed here or prefer not to answer\",\n",
       "          \"Hispanic, Latino, or Spanish origin, Another option not listed here or prefer not to answer\",\n",
       "          \"Black or African American\",\n",
       "          \"Asian or Asian American, Hispanic, Latino, or Spanish origin, Native American or Alaska Native, White\",\n",
       "          \"Asian or Asian American, Another option not listed here or prefer not to answer\",\n",
       "          \"Middle Eastern or Northern African, White\",\n",
       "          \"Native American or Alaska Native, White, Another option not listed here or prefer not to answer\",\n",
       "          \"Asian or Asian American, Hispanic, Latino, or Spanish origin, White, Another option not listed here or prefer not to answer\",\n",
       "          \"Asian or Asian American, Hispanic, Latino, or Spanish origin, White\",\n",
       "          \"Asian or Asian American, Native American or Alaska Native, White\",\n",
       "          \"Asian or Asian American, Black or African American, White\",\n",
       "          \"Native American or Alaska Native, Another option not listed here or prefer not to answer\",\n",
       "          \"Black or African American, Hispanic, Latino, or Spanish origin, White\",\n",
       "          \"Black or African American, Native American or Alaska Native, White\",\n",
       "          \"Hispanic, Latino, or Spanish origin, White\",\n",
       "          \"Asian or Asian American, Hispanic, Latino, or Spanish origin, Another option not listed here or prefer not to answer\",\n",
       "          \"Middle Eastern or Northern African, Native American or Alaska Native, White\",\n",
       "          \"Black or African American, Another option not listed here or prefer not to answer\",\n",
       "          \"Hispanic, Latino, or Spanish origin, Middle Eastern or Northern African\",\n",
       "          \"Hispanic, Latino, or Spanish origin, Middle Eastern or Northern African, White\",\n",
       "          \"Asian or Asian American, Black or African American, Hispanic, Latino, or Spanish origin\",\n",
       "          \"Asian or Asian American, Middle Eastern or Northern African, White\",\n",
       "          \"Hispanic, Latino, or Spanish origin, Native American or Alaska Native, Another option not listed here or prefer not to answer\",\n",
       "          \"Black or African American, White\",\n",
       "          \"Black or African American, Hispanic, Latino, or Spanish origin\",\n",
       "          \"Native American or Alaska Native, White\",\n",
       "          \"White\",\n",
       "          \"Asian or Asian American, White\",\n",
       "          \"Black or African American, Middle Eastern or Northern African, White\",\n",
       "          \"Asian or Asian American\",\n",
       "          \"Black or African American, Middle Eastern or Northern African, Native American or Alaska Native, White\",\n",
       "          \"Asian or Asian American, Hispanic, Latino, or Spanish origin\",\n",
       "          \"Black or African American, Middle Eastern or Northern African\",\n",
       "          \"Asian or Asian American, Native American or Alaska Native\",\n",
       "          \"Another option not listed here or prefer not to answer\",\n",
       "          \"Hispanic, Latino, or Spanish origin, White, Another option not listed here or prefer not to answer\",\n",
       "          \"Middle Eastern or Northern African\",\n",
       "          \"Black or African American, Hispanic, Latino, or Spanish origin, Native American or Alaska Native, White\",\n",
       "          \"Middle Eastern or Northern African, White, Another option not listed here or prefer not to answer\",\n",
       "          \"Asian or Asian American, Black or African American\",\n",
       "          \"Asian or Asian American, Black or African American, Native American or Alaska Native, White\",\n",
       "          \"Hispanic, Latino, or Spanish origin\",\n",
       "          \"Native American or Alaska Native\",\n",
       "          \"Hispanic, Latino, or Spanish origin, Native American or Alaska Native, White\",\n",
       "          \"Hispanic, Latino, or Spanish origin, Native American or Alaska Native\",\n",
       "          \"Middle Eastern or Northern African, Native American or Alaska Native\",\n",
       "          \"White, Another option not listed here or prefer not to answer\",\n",
       "          \"Asian or Asian American, Middle Eastern or Northern African\"\n",
       "        ],\n",
       "        \"mostly\": 1.0\n",
       "      },\n",
       "      \"meta\": {\n",
       "        \"profiler_details\": {\n",
       "          \"metric_configuration\": {\n",
       "            \"metric_name\": \"column.distinct_values\",\n",
       "            \"domain_kwargs\": {\n",
       "              \"column\": \"race\"\n",
       "            },\n",
       "            \"metric_value_kwargs\": null\n",
       "          },\n",
       "          \"num_batches\": 1,\n",
       "          \"parse_strings_as_datetimes\": false\n",
       "        }\n",
       "      }\n",
       "    },\n",
       "    {\n",
       "      \"expectation_type\": \"expect_column_unique_value_count_to_be_between\",\n",
       "      \"kwargs\": {\n",
       "        \"column\": \"race\",\n",
       "        \"max_value\": 48,\n",
       "        \"min_value\": 48,\n",
       "        \"strict_max\": false,\n",
       "        \"strict_min\": false\n",
       "      },\n",
       "      \"meta\": {\n",
       "        \"profiler_details\": {\n",
       "          \"metric_configuration\": {\n",
       "            \"metric_name\": \"column.distinct_values.count\",\n",
       "            \"domain_kwargs\": {\n",
       "              \"column\": \"race\"\n",
       "            },\n",
       "            \"metric_value_kwargs\": null\n",
       "          },\n",
       "          \"num_batches\": 1\n",
       "        }\n",
       "      }\n",
       "    },\n",
       "    {\n",
       "      \"expectation_type\": \"expect_column_proportion_of_unique_values_to_be_between\",\n",
       "      \"kwargs\": {\n",
       "        \"column\": \"race\",\n",
       "        \"max_value\": 0.0017264944967987914,\n",
       "        \"min_value\": 0.0017264944967987914,\n",
       "        \"strict_max\": false,\n",
       "        \"strict_min\": false\n",
       "      },\n",
       "      \"meta\": {\n",
       "        \"profiler_details\": {\n",
       "          \"metric_configuration\": {\n",
       "            \"metric_name\": \"column.unique_proportion\",\n",
       "            \"domain_kwargs\": {\n",
       "              \"column\": \"race\"\n",
       "            },\n",
       "            \"metric_value_kwargs\": null\n",
       "          },\n",
       "          \"num_batches\": 1\n",
       "        }\n",
       "      }\n",
       "    }\n",
       "  ],\n",
       "  \"data_asset_type\": null,\n",
       "  \"meta\": {\n",
       "    \"great_expectations_version\": \"0.17.7\",\n",
       "    \"citations\": [\n",
       "      {\n",
       "        \"citation_date\": \"2023-08-29T20:59:21.287856Z\",\n",
       "        \"comment\": \"Created by effective Rule-Based Profiler of OnboardingDataAssistant with the configuration included.\\n\"\n",
       "      }\n",
       "    ]\n",
       "  }\n",
       "}"
      ]
     },
     "execution_count": 33,
     "metadata": {},
     "output_type": "execute_result"
    }
   ],
   "source": [
    "context.add_or_update_expectation_suite(expectation_suite=expectation_suite)"
   ]
  },
  {
   "cell_type": "markdown",
   "id": "3ec32c78-84be-49ce-b47b-5e4cb10f6d8b",
   "metadata": {},
   "source": [
    "<h3> 7. Run a Checkpoint on the Batch using our Expectation Suite </h3>"
   ]
  },
  {
   "cell_type": "code",
   "execution_count": 11,
   "id": "0c13eb17-31e0-45e1-8aaa-f0533d437287",
   "metadata": {},
   "outputs": [
    {
     "name": "stdout",
     "output_type": "stream",
     "text": [
      "2023-08-29T10:07:09-0300 - INFO - SQLDatasource.dict() - substituting config values\n",
      "2023-08-29T10:07:09-0300 - INFO - batch_slice: None was parsed to: slice(0, None, None)\n",
      "2023-08-29T10:07:09-0300 - INFO - \t77 expectation(s) included in expectation_suite.\n"
     ]
    },
    {
     "data": {
      "application/vnd.jupyter.widget-view+json": {
       "model_id": "3957bb6d30ae4f5dabc2c92128f133f2",
       "version_major": 2,
       "version_minor": 0
      },
      "text/plain": [
       "Calculating Metrics:   0%|          | 0/393 [00:00<?, ?it/s]"
      ]
     },
     "metadata": {},
     "output_type": "display_data"
    }
   ],
   "source": [
    "checkpoint = context.add_or_update_checkpoint(\n",
    "    name=f\"salary_expectation\",\n",
    "    validations=[\n",
    "        {\n",
    "            \"batch_request\": full_batch_salary_batch_request,\n",
    "            \"expectation_suite_name\": expectation_suite_name,\n",
    "        }\n",
    "    ],\n",
    ")\n",
    "checkpoint_result = checkpoint.run()"
   ]
  },
  {
   "cell_type": "markdown",
   "id": "18a31201-7ee4-4e60-b56f-9339c6d448a5",
   "metadata": {},
   "source": [
    "<h3> 8. Update the Data Docs to see the result of the Expectations </h3>"
   ]
  },
  {
   "cell_type": "code",
   "execution_count": 12,
   "id": "7bdc8b39-6ebf-48f6-89a9-0482b5be8b62",
   "metadata": {},
   "outputs": [
    {
     "data": {
      "text/plain": [
       "{'local_site': 'file:///home/andro/great_expectations/uncommitted/data_docs/local_site/index.html'}"
      ]
     },
     "execution_count": 12,
     "metadata": {},
     "output_type": "execute_result"
    }
   ],
   "source": [
    "context.build_data_docs()"
   ]
  },
  {
   "cell_type": "markdown",
   "id": "e3ea4c72-ab33-4715-bd05-3dd07134e238",
   "metadata": {},
   "source": [
    "<h3> Option 2: Manually adding Expectations and creating a Suite out of them </h3>"
   ]
  },
  {
   "cell_type": "markdown",
   "id": "62c825e0-f912-4be4-9d25-f23c93505c25",
   "metadata": {},
   "source": [
    "<h3> 3. Create a validator with our datasource </h3>"
   ]
  },
  {
   "cell_type": "code",
   "execution_count": 35,
   "id": "d05b941a-6eeb-4ba6-a1da-dcbf30836592",
   "metadata": {
    "tags": []
   },
   "outputs": [
    {
     "name": "stdout",
     "output_type": "stream",
     "text": [
      "2023-08-29T18:02:05-0300 - INFO - SQLDatasource.dict() - substituting config values\n",
      "2023-08-29T18:02:05-0300 - INFO - batch_slice: None was parsed to: slice(0, None, None)\n"
     ]
    }
   ],
   "source": [
    "validator = context.get_validator(batch_request=full_batch_salary_batch_request)"
   ]
  },
  {
   "cell_type": "markdown",
   "id": "e64d64ca-0d0b-4ae8-b8ee-5d3b19c8d7bc",
   "metadata": {},
   "source": [
    "<h3> 4. Start adding individual exceptions for each column of interest </h3>"
   ]
  },
  {
   "cell_type": "code",
   "execution_count": 36,
   "id": "643a69ff-d03a-465a-b036-f1e3ad9d3791",
   "metadata": {},
   "outputs": [
    {
     "data": {
      "application/vnd.jupyter.widget-view+json": {
       "model_id": "0c42b922deac4fc09cfb35a7b88a9980",
       "version_major": 2,
       "version_minor": 0
      },
      "text/plain": [
       "Calculating Metrics:   0%|          | 0/8 [00:00<?, ?it/s]"
      ]
     },
     "metadata": {},
     "output_type": "display_data"
    },
    {
     "data": {
      "application/vnd.jupyter.widget-view+json": {
       "model_id": "bdf9ec08be414a73acbb463be69b9bac",
       "version_major": 2,
       "version_minor": 0
      },
      "text/plain": [
       "Calculating Metrics:   0%|          | 0/6 [00:00<?, ?it/s]"
      ]
     },
     "metadata": {},
     "output_type": "display_data"
    },
    {
     "data": {
      "text/plain": [
       "{\n",
       "  \"success\": true,\n",
       "  \"result\": {\n",
       "    \"observed_value\": 120000000.0\n",
       "  },\n",
       "  \"meta\": {},\n",
       "  \"exception_info\": {\n",
       "    \"raised_exception\": false,\n",
       "    \"exception_traceback\": null,\n",
       "    \"exception_message\": null\n",
       "  }\n",
       "}"
      ]
     },
     "execution_count": 36,
     "metadata": {},
     "output_type": "execute_result"
    }
   ],
   "source": [
    "validator.expect_column_values_to_not_be_null(\"age\")\n",
    "validator.expect_column_max_to_be_between(\"bonus\", strict_max=1200000)"
   ]
  },
  {
   "cell_type": "markdown",
   "id": "fbe94072-0903-4e98-8f67-f064941cb121",
   "metadata": {},
   "source": [
    "<h3> 5. Save the expectations to a default suite </h3>"
   ]
  },
  {
   "cell_type": "code",
   "execution_count": 42,
   "id": "07b47e4d-a57c-4fe6-b29d-284083f733f6",
   "metadata": {},
   "outputs": [
    {
     "name": "stdout",
     "output_type": "stream",
     "text": [
      "2023-08-29T20:00:52-0300 - INFO - \t2 expectation(s) included in expectation_suite.\n"
     ]
    }
   ],
   "source": [
    "validator.save_expectation_suite()"
   ]
  },
  {
   "cell_type": "markdown",
   "id": "ad115efc-d0a6-476a-9fbe-1cb6f3a1f044",
   "metadata": {},
   "source": [
    "<h3> 6. Create a checkpoint to evaluate the data using the default suite </h3>"
   ]
  },
  {
   "cell_type": "code",
   "execution_count": 43,
   "id": "1c1b52c6-88d4-4575-b857-053c4f98d2c9",
   "metadata": {},
   "outputs": [
    {
     "name": "stdout",
     "output_type": "stream",
     "text": [
      "2023-08-29T20:00:53-0300 - INFO - SQLDatasource.dict() - substituting config values\n",
      "2023-08-29T20:00:53-0300 - INFO - batch_slice: None was parsed to: slice(0, None, None)\n",
      "2023-08-29T20:00:53-0300 - INFO - \t2 expectation(s) included in expectation_suite.\n"
     ]
    },
    {
     "data": {
      "application/vnd.jupyter.widget-view+json": {
       "model_id": "f49bf1e2e0ef477da977d4caa7eb8092",
       "version_major": 2,
       "version_minor": 0
      },
      "text/plain": [
       "Calculating Metrics:   0%|          | 0/12 [00:00<?, ?it/s]"
      ]
     },
     "metadata": {},
     "output_type": "display_data"
    }
   ],
   "source": [
    "checkpoint = context.add_or_update_checkpoint(\n",
    "    name=\"salary_checkpoint\",\n",
    "    validator=validator,\n",
    ")\n",
    "\n",
    "checkpoint_result = checkpoint.run()"
   ]
  },
  {
   "cell_type": "markdown",
   "id": "2f59acc1-7f86-404d-8ed6-81ffeb85c6d0",
   "metadata": {},
   "source": [
    "<h3> 7. Check the docs for the results of the checkpoint on how the suite performed </h3>"
   ]
  },
  {
   "cell_type": "code",
   "execution_count": 44,
   "id": "b1ae540f-8a01-4d22-8fb6-d496fcfeab44",
   "metadata": {},
   "outputs": [
    {
     "data": {
      "text/plain": [
       "{'local_site': 'file:///home/andro/great_expectations/uncommitted/data_docs/local_site/index.html'}"
      ]
     },
     "execution_count": 44,
     "metadata": {},
     "output_type": "execute_result"
    }
   ],
   "source": [
    "context.build_data_docs()"
   ]
  },
  {
   "cell_type": "markdown",
   "id": "dddc9356-f98f-453f-b0c5-3bf0d5114286",
   "metadata": {},
   "source": [
    "<h3> 8. Save the expectation suite in the desired path once all needed expectations are configured </h3>"
   ]
  },
  {
   "cell_type": "code",
   "execution_count": 46,
   "id": "52490d8c-0b2a-4ab9-a6f1-1d1193c3d26a",
   "metadata": {},
   "outputs": [
    {
     "name": "stdout",
     "output_type": "stream",
     "text": [
      "2023-08-29T20:07:06-0300 - INFO - \t2 expectation(s) included in expectation_suite.\n"
     ]
    }
   ],
   "source": [
    "validator.save_expectation_suite('./manual_salary_expectation_suite.json')"
   ]
  },
  {
   "cell_type": "markdown",
   "id": "2e038791-56b5-4432-841b-48cb3cc430d2",
   "metadata": {},
   "source": [
    "<h2> <u> We can also... </u> </h2>"
   ]
  },
  {
   "cell_type": "markdown",
   "id": "505e0657-099b-483e-a4e8-02569475bb64",
   "metadata": {},
   "source": [
    "<h3> Modify/Add/Remove Expectations from a Suite </h3>"
   ]
  },
  {
   "cell_type": "code",
   "execution_count": 14,
   "id": "7976b2fc-1765-4c4e-963f-c20c37b5b747",
   "metadata": {
    "collapsed": true,
    "jupyter": {
     "outputs_hidden": true
    },
    "tags": []
   },
   "outputs": [
    {
     "name": "stdout",
     "output_type": "stream",
     "text": [
      "[ { 'expect_table_columns_to_match_set': { 'column_set': [ 'timestamp',\n",
      "                                                           'age',\n",
      "                                                           'title',\n",
      "                                                           'currencya',\n",
      "                                                           'city',\n",
      "                                                           'overall_experience',\n",
      "                                                           'country',\n",
      "                                                           'gender',\n",
      "                                                           'index',\n",
      "                                                           'bonus',\n",
      "                                                           'currencyb',\n",
      "                                                           'income_context',\n",
      "                                                           'industry',\n",
      "                                                           'race',\n",
      "                                                           'field_experience',\n",
      "                                                           'us_state',\n",
      "                                                           'education',\n",
      "                                                           'salary',\n",
      "                                                           'title_description'],\n",
      "                                           'domain': 'table'}},\n",
      "  { 'expect_table_row_count_to_be_between': { 'domain': 'table',\n",
      "                                              'max_value': 27971,\n",
      "                                              'min_value': 27971}},\n",
      "  { 'expect_column_max_to_be_between': { 'column': 'index',\n",
      "                                         'domain': 'column',\n",
      "                                         'max_value': 27970,\n",
      "                                         'min_value': 27970,\n",
      "                                         'strict_max': False,\n",
      "                                         'strict_min': False}},\n",
      "  { 'expect_column_max_to_be_between': { 'column': 'bonus',\n",
      "                                         'domain': 'column',\n",
      "                                         'max_value': 120000000.0,\n",
      "                                         'min_value': 120000000.0,\n",
      "                                         'strict_max': False,\n",
      "                                         'strict_min': False}},\n",
      "  { 'expect_column_mean_to_be_between': { 'column': 'index',\n",
      "                                          'domain': 'column',\n",
      "                                          'max_value': 13985.0,\n",
      "                                          'min_value': 13985.0,\n",
      "                                          'strict_max': False,\n",
      "                                          'strict_min': False}},\n",
      "  { 'expect_column_mean_to_be_between': { 'column': 'bonus',\n",
      "                                          'domain': 'column',\n",
      "                                          'max_value': 18199.092823336232,\n",
      "                                          'min_value': 18199.092823336232,\n",
      "                                          'strict_max': False,\n",
      "                                          'strict_min': False}},\n",
      "  { 'expect_column_median_to_be_between': { 'column': 'index',\n",
      "                                            'domain': 'column',\n",
      "                                            'max_value': 13985,\n",
      "                                            'min_value': 13985,\n",
      "                                            'strict_max': False,\n",
      "                                            'strict_min': False}},\n",
      "  { 'expect_column_median_to_be_between': { 'column': 'bonus',\n",
      "                                            'domain': 'column',\n",
      "                                            'max_value': 2000.0,\n",
      "                                            'min_value': 2000.0,\n",
      "                                            'strict_max': False,\n",
      "                                            'strict_min': False}},\n",
      "  { 'expect_column_min_to_be_between': { 'column': 'index',\n",
      "                                         'domain': 'column',\n",
      "                                         'max_value': 0,\n",
      "                                         'min_value': 0,\n",
      "                                         'strict_max': False,\n",
      "                                         'strict_min': False}},\n",
      "  { 'expect_column_min_to_be_between': { 'column': 'bonus',\n",
      "                                         'domain': 'column',\n",
      "                                         'max_value': 0.0,\n",
      "                                         'min_value': 0.0,\n",
      "                                         'strict_max': False,\n",
      "                                         'strict_min': False}},\n",
      "  { 'expect_column_proportion_of_unique_values_to_be_between': { 'column': 'age',\n",
      "                                                                 'domain': 'column',\n",
      "                                                                 'max_value': 0.00025025919702549067,\n",
      "                                                                 'min_value': 0.00025025919702549067,\n",
      "                                                                 'strict_max': False,\n",
      "                                                                 'strict_min': False}},\n",
      "  { 'expect_column_proportion_of_unique_values_to_be_between': { 'column': 'currencya',\n",
      "                                                                 'domain': 'column',\n",
      "                                                                 'max_value': 0.0003932644524686282,\n",
      "                                                                 'min_value': 0.0003932644524686282,\n",
      "                                                                 'strict_max': False,\n",
      "                                                                 'strict_min': False}},\n",
      "  { 'expect_column_proportion_of_unique_values_to_be_between': { 'column': 'overall_experience',\n",
      "                                                                 'domain': 'column',\n",
      "                                                                 'max_value': 0.0002860105108862751,\n",
      "                                                                 'min_value': 0.0002860105108862751,\n",
      "                                                                 'strict_max': False,\n",
      "                                                                 'strict_min': False}},\n",
      "  { 'expect_column_proportion_of_unique_values_to_be_between': { 'column': 'field_experience',\n",
      "                                                                 'domain': 'column',\n",
      "                                                                 'max_value': 0.0002860105108862751,\n",
      "                                                                 'min_value': 0.0002860105108862751,\n",
      "                                                                 'strict_max': False,\n",
      "                                                                 'strict_min': False}},\n",
      "  { 'expect_column_proportion_of_unique_values_to_be_between': { 'column': 'education',\n",
      "                                                                 'domain': 'column',\n",
      "                                                                 'max_value': 0.00021616947686986597,\n",
      "                                                                 'min_value': 0.00021616947686986597,\n",
      "                                                                 'strict_max': False,\n",
      "                                                                 'strict_min': False}},\n",
      "  { 'expect_column_proportion_of_unique_values_to_be_between': { 'column': 'gender',\n",
      "                                                                 'domain': 'column',\n",
      "                                                                 'max_value': 0.00017983024025320098,\n",
      "                                                                 'min_value': 0.00017983024025320098,\n",
      "                                                                 'strict_max': False,\n",
      "                                                                 'strict_min': False}},\n",
      "  { 'expect_column_proportion_of_unique_values_to_be_between': { 'column': 'race',\n",
      "                                                                 'domain': 'column',\n",
      "                                                                 'max_value': 0.0017264944967987914,\n",
      "                                                                 'min_value': 0.0017264944967987914,\n",
      "                                                                 'strict_max': False,\n",
      "                                                                 'strict_min': False}},\n",
      "  { 'expect_column_quantile_values_to_be_between': { 'allow_relative_error': False,\n",
      "                                                     'column': 'index',\n",
      "                                                     'domain': 'column',\n",
      "                                                     'quantile_ranges': { 'quantiles': [ 0.25,\n",
      "                                                                                         0.5,\n",
      "                                                                                         0.75],\n",
      "                                                                          'value_ranges': [ [ 6991,\n",
      "                                                                                              6991],\n",
      "                                                                                            [ 13984,\n",
      "                                                                                              13984],\n",
      "                                                                                            [ 20977,\n",
      "                                                                                              20977]]}}},\n",
      "  { 'expect_column_quantile_values_to_be_between': { 'allow_relative_error': False,\n",
      "                                                     'column': 'bonus',\n",
      "                                                     'domain': 'column',\n",
      "                                                     'quantile_ranges': { 'quantiles': [ 0.25,\n",
      "                                                                                         0.5,\n",
      "                                                                                         0.75],\n",
      "                                                                          'value_ranges': [ [ 0.0,\n",
      "                                                                                              0.0],\n",
      "                                                                                            [ 0.0,\n",
      "                                                                                              0.0],\n",
      "                                                                                            [ 5000.0,\n",
      "                                                                                              5000.0]]}}},\n",
      "  { 'expect_column_stdev_to_be_between': { 'column': 'index',\n",
      "                                           'domain': 'column',\n",
      "                                           'max_value': 8074.6765260287675,\n",
      "                                           'min_value': 8074.6765260287675,\n",
      "                                           'strict_max': False,\n",
      "                                           'strict_min': False}},\n",
      "  { 'expect_column_stdev_to_be_between': { 'column': 'bonus',\n",
      "                                           'domain': 'column',\n",
      "                                           'max_value': 835260.271340808,\n",
      "                                           'min_value': 835260.271340808,\n",
      "                                           'strict_max': False,\n",
      "                                           'strict_min': False}},\n",
      "  { 'expect_column_unique_value_count_to_be_between': { 'column': 'age',\n",
      "                                                        'domain': 'column',\n",
      "                                                        'max_value': 7,\n",
      "                                                        'min_value': 7,\n",
      "                                                        'strict_max': False,\n",
      "                                                        'strict_min': False}},\n",
      "  { 'expect_column_unique_value_count_to_be_between': { 'column': 'currencya',\n",
      "                                                        'domain': 'column',\n",
      "                                                        'max_value': 11,\n",
      "                                                        'min_value': 11,\n",
      "                                                        'strict_max': False,\n",
      "                                                        'strict_min': False}},\n",
      "  { 'expect_column_unique_value_count_to_be_between': { 'column': 'overall_experience',\n",
      "                                                        'domain': 'column',\n",
      "                                                        'max_value': 8,\n",
      "                                                        'min_value': 8,\n",
      "                                                        'strict_max': False,\n",
      "                                                        'strict_min': False}},\n",
      "  { 'expect_column_unique_value_count_to_be_between': { 'column': 'field_experience',\n",
      "                                                        'domain': 'column',\n",
      "                                                        'max_value': 8,\n",
      "                                                        'min_value': 8,\n",
      "                                                        'strict_max': False,\n",
      "                                                        'strict_min': False}},\n",
      "  { 'expect_column_unique_value_count_to_be_between': { 'column': 'education',\n",
      "                                                        'domain': 'column',\n",
      "                                                        'max_value': 6,\n",
      "                                                        'min_value': 6,\n",
      "                                                        'strict_max': False,\n",
      "                                                        'strict_min': False}},\n",
      "  { 'expect_column_unique_value_count_to_be_between': { 'column': 'gender',\n",
      "                                                        'domain': 'column',\n",
      "                                                        'max_value': 5,\n",
      "                                                        'min_value': 5,\n",
      "                                                        'strict_max': False,\n",
      "                                                        'strict_min': False}},\n",
      "  { 'expect_column_unique_value_count_to_be_between': { 'column': 'race',\n",
      "                                                        'domain': 'column',\n",
      "                                                        'max_value': 48,\n",
      "                                                        'min_value': 48,\n",
      "                                                        'strict_max': False,\n",
      "                                                        'strict_min': False}},\n",
      "  { 'expect_column_value_lengths_to_be_between': { 'column': 'timestamp',\n",
      "                                                   'domain': 'column',\n",
      "                                                   'max_value': 19,\n",
      "                                                   'min_value': 16,\n",
      "                                                   'mostly': 1.0,\n",
      "                                                   'strict_max': False,\n",
      "                                                   'strict_min': False}},\n",
      "  { 'expect_column_value_lengths_to_be_between': { 'column': 'age',\n",
      "                                                   'domain': 'column',\n",
      "                                                   'max_value': 10,\n",
      "                                                   'min_value': 5,\n",
      "                                                   'mostly': 1.0,\n",
      "                                                   'strict_max': False,\n",
      "                                                   'strict_min': False}},\n",
      "  { 'expect_column_value_lengths_to_be_between': { 'column': 'industry',\n",
      "                                                   'domain': 'column',\n",
      "                                                   'max_value': 171,\n",
      "                                                   'min_value': 2,\n",
      "                                                   'mostly': 1.0,\n",
      "                                                   'strict_max': False,\n",
      "                                                   'strict_min': False}},\n",
      "  { 'expect_column_value_lengths_to_be_between': { 'column': 'title',\n",
      "                                                   'domain': 'column',\n",
      "                                                   'max_value': 126,\n",
      "                                                   'min_value': 1,\n",
      "                                                   'mostly': 1.0,\n",
      "                                                   'strict_max': False,\n",
      "                                                   'strict_min': False}},\n",
      "  { 'expect_column_value_lengths_to_be_between': { 'column': 'title_description',\n",
      "                                                   'domain': 'column',\n",
      "                                                   'max_value': 808,\n",
      "                                                   'min_value': 1,\n",
      "                                                   'mostly': 1.0,\n",
      "                                                   'strict_max': False,\n",
      "                                                   'strict_min': False}},\n",
      "  { 'expect_column_value_lengths_to_be_between': { 'column': 'salary',\n",
      "                                                   'domain': 'column',\n",
      "                                                   'max_value': 11,\n",
      "                                                   'min_value': 1,\n",
      "                                                   'mostly': 1.0,\n",
      "                                                   'strict_max': False,\n",
      "                                                   'strict_min': False}},\n",
      "  { 'expect_column_value_lengths_to_be_between': { 'column': 'currencya',\n",
      "                                                   'domain': 'column',\n",
      "                                                   'max_value': 7,\n",
      "                                                   'min_value': 3,\n",
      "                                                   'mostly': 1.0,\n",
      "                                                   'strict_max': False,\n",
      "                                                   'strict_min': False}},\n",
      "  { 'expect_column_value_lengths_to_be_between': { 'column': 'currencyb',\n",
      "                                                   'domain': 'column',\n",
      "                                                   'max_value': 112,\n",
      "                                                   'min_value': 1,\n",
      "                                                   'mostly': 1.0,\n",
      "                                                   'strict_max': False,\n",
      "                                                   'strict_min': False}},\n",
      "  { 'expect_column_value_lengths_to_be_between': { 'column': 'income_context',\n",
      "                                                   'domain': 'column',\n",
      "                                                   'max_value': 1144,\n",
      "                                                   'min_value': 1,\n",
      "                                                   'mostly': 1.0,\n",
      "                                                   'strict_max': False,\n",
      "                                                   'strict_min': False}},\n",
      "  { 'expect_column_value_lengths_to_be_between': { 'column': 'country',\n",
      "                                                   'domain': 'column',\n",
      "                                                   'max_value': 209,\n",
      "                                                   'min_value': 1,\n",
      "                                                   'mostly': 1.0,\n",
      "                                                   'strict_max': False,\n",
      "                                                   'strict_min': False}},\n",
      "  { 'expect_column_value_lengths_to_be_between': { 'column': 'us_state',\n",
      "                                                   'domain': 'column',\n",
      "                                                   'max_value': 114,\n",
      "                                                   'min_value': 4,\n",
      "                                                   'mostly': 1.0,\n",
      "                                                   'strict_max': False,\n",
      "                                                   'strict_min': False}},\n",
      "  { 'expect_column_value_lengths_to_be_between': { 'column': 'city',\n",
      "                                                   'domain': 'column',\n",
      "                                                   'max_value': 171,\n",
      "                                                   'min_value': 1,\n",
      "                                                   'mostly': 1.0,\n",
      "                                                   'strict_max': False,\n",
      "                                                   'strict_min': False}},\n",
      "  { 'expect_column_value_lengths_to_be_between': { 'column': 'overall_experience',\n",
      "                                                   'domain': 'column',\n",
      "                                                   'max_value': 16,\n",
      "                                                   'min_value': 9,\n",
      "                                                   'mostly': 1.0,\n",
      "                                                   'strict_max': False,\n",
      "                                                   'strict_min': False}},\n",
      "  { 'expect_column_value_lengths_to_be_between': { 'column': 'field_experience',\n",
      "                                                   'domain': 'column',\n",
      "                                                   'max_value': 16,\n",
      "                                                   'min_value': 9,\n",
      "                                                   'mostly': 1.0,\n",
      "                                                   'strict_max': False,\n",
      "                                                   'strict_min': False}},\n",
      "  { 'expect_column_value_lengths_to_be_between': { 'column': 'education',\n",
      "                                                   'domain': 'column',\n",
      "                                                   'max_value': 34,\n",
      "                                                   'min_value': 3,\n",
      "                                                   'mostly': 1.0,\n",
      "                                                   'strict_max': False,\n",
      "                                                   'strict_min': False}},\n",
      "  { 'expect_column_value_lengths_to_be_between': { 'column': 'gender',\n",
      "                                                   'domain': 'column',\n",
      "                                                   'max_value': 29,\n",
      "                                                   'min_value': 3,\n",
      "                                                   'mostly': 1.0,\n",
      "                                                   'strict_max': False,\n",
      "                                                   'strict_min': False}},\n",
      "  { 'expect_column_value_lengths_to_be_between': { 'column': 'race',\n",
      "                                                   'domain': 'column',\n",
      "                                                   'max_value': 125,\n",
      "                                                   'min_value': 5,\n",
      "                                                   'mostly': 1.0,\n",
      "                                                   'strict_max': False,\n",
      "                                                   'strict_min': False}},\n",
      "  { 'expect_column_values_to_be_between': { 'column': 'index',\n",
      "                                            'domain': 'column',\n",
      "                                            'max_value': 27970,\n",
      "                                            'min_value': 0,\n",
      "                                            'mostly': 1.0,\n",
      "                                            'strict_max': False,\n",
      "                                            'strict_min': False}},\n",
      "  { 'expect_column_values_to_be_between': { 'column': 'bonus',\n",
      "                                            'domain': 'column',\n",
      "                                            'max_value': 120000000.0,\n",
      "                                            'min_value': 0.0,\n",
      "                                            'mostly': 1.0,\n",
      "                                            'strict_max': False,\n",
      "                                            'strict_min': False}},\n",
      "  { 'expect_column_values_to_be_in_set': { 'column': 'age',\n",
      "                                           'domain': 'column',\n",
      "                                           'mostly': 1.0,\n",
      "                                           'value_set': [ '25-34',\n",
      "                                                          '65 or over',\n",
      "                                                          '18-24',\n",
      "                                                          '55-64',\n",
      "                                                          '45-54',\n",
      "                                                          'under 18',\n",
      "                                                          '35-44']}},\n",
      "  { 'expect_column_values_to_be_in_set': { 'column': 'currencya',\n",
      "                                           'domain': 'column',\n",
      "                                           'mostly': 1.0,\n",
      "                                           'value_set': [ 'GBP',\n",
      "                                                          'HKD',\n",
      "                                                          'ZAR',\n",
      "                                                          'CAD',\n",
      "                                                          'CHF',\n",
      "                                                          'SEK',\n",
      "                                                          'EUR',\n",
      "                                                          'USD',\n",
      "                                                          'Other',\n",
      "                                                          'AUD/NZD',\n",
      "                                                          'JPY']}},\n",
      "  { 'expect_column_values_to_be_in_set': { 'column': 'overall_experience',\n",
      "                                           'domain': 'column',\n",
      "                                           'mostly': 1.0,\n",
      "                                           'value_set': [ '21 - 30 years',\n",
      "                                                          '2 - 4 years',\n",
      "                                                          '1 year or less',\n",
      "                                                          '8 - 10 years',\n",
      "                                                          '41 years or more',\n",
      "                                                          '11 - 20 years',\n",
      "                                                          '31 - 40 years',\n",
      "                                                          '5-7 years']}},\n",
      "  { 'expect_column_values_to_be_in_set': { 'column': 'field_experience',\n",
      "                                           'domain': 'column',\n",
      "                                           'mostly': 1.0,\n",
      "                                           'value_set': [ '21 - 30 years',\n",
      "                                                          '2 - 4 years',\n",
      "                                                          '1 year or less',\n",
      "                                                          '8 - 10 years',\n",
      "                                                          '41 years or more',\n",
      "                                                          '11 - 20 years',\n",
      "                                                          '31 - 40 years',\n",
      "                                                          '5-7 years']}},\n",
      "  { 'expect_column_values_to_be_in_set': { 'column': 'education',\n",
      "                                           'domain': 'column',\n",
      "                                           'mostly': 1.0,\n",
      "                                           'value_set': [ 'High School',\n",
      "                                                          \"Master's degree\",\n",
      "                                                          'PhD',\n",
      "                                                          'Some college',\n",
      "                                                          'Professional degree '\n",
      "                                                          '(MD, JD, etc.)',\n",
      "                                                          'College degree']}},\n",
      "  { 'expect_column_values_to_be_in_set': { 'column': 'gender',\n",
      "                                           'domain': 'column',\n",
      "                                           'mostly': 1.0,\n",
      "                                           'value_set': [ 'Prefer not to '\n",
      "                                                          'answer',\n",
      "                                                          'Woman',\n",
      "                                                          'Non-binary',\n",
      "                                                          'Other or prefer not '\n",
      "                                                          'to answer',\n",
      "                                                          'Man']}},\n",
      "  { 'expect_column_values_to_be_in_set': { 'column': 'race',\n",
      "                                           'domain': 'column',\n",
      "                                           'mostly': 1.0,\n",
      "                                           'value_set': [ 'Asian or Asian '\n",
      "                                                          'American, White, '\n",
      "                                                          'Another option not '\n",
      "                                                          'listed here or '\n",
      "                                                          'prefer not to '\n",
      "                                                          'answer',\n",
      "                                                          'Hispanic, Latino, '\n",
      "                                                          'or Spanish origin, '\n",
      "                                                          'Another option not '\n",
      "                                                          'listed here or '\n",
      "                                                          'prefer not to '\n",
      "                                                          'answer',\n",
      "                                                          'Black or African '\n",
      "                                                          'American',\n",
      "                                                          'Asian or Asian '\n",
      "                                                          'American, Hispanic, '\n",
      "                                                          'Latino, or Spanish '\n",
      "                                                          'origin, Native '\n",
      "                                                          'American or Alaska '\n",
      "                                                          'Native, White',\n",
      "                                                          'Asian or Asian '\n",
      "                                                          'American, Another '\n",
      "                                                          'option not listed '\n",
      "                                                          'here or prefer not '\n",
      "                                                          'to answer',\n",
      "                                                          'Middle Eastern or '\n",
      "                                                          'Northern African, '\n",
      "                                                          'White',\n",
      "                                                          'Native American or '\n",
      "                                                          'Alaska Native, '\n",
      "                                                          'White, Another '\n",
      "                                                          'option not listed '\n",
      "                                                          'here or prefer not '\n",
      "                                                          'to answer',\n",
      "                                                          'Asian or Asian '\n",
      "                                                          'American, Hispanic, '\n",
      "                                                          'Latino, or Spanish '\n",
      "                                                          'origin, White, '\n",
      "                                                          'Another option not '\n",
      "                                                          'listed here or '\n",
      "                                                          'prefer not to '\n",
      "                                                          'answer',\n",
      "                                                          'Asian or Asian '\n",
      "                                                          'American, Hispanic, '\n",
      "                                                          'Latino, or Spanish '\n",
      "                                                          'origin, White',\n",
      "                                                          'Asian or Asian '\n",
      "                                                          'American, Native '\n",
      "                                                          'American or Alaska '\n",
      "                                                          'Native, White',\n",
      "                                                          'Asian or Asian '\n",
      "                                                          'American, Black or '\n",
      "                                                          'African American, '\n",
      "                                                          'White',\n",
      "                                                          'Native American or '\n",
      "                                                          'Alaska Native, '\n",
      "                                                          'Another option not '\n",
      "                                                          'listed here or '\n",
      "                                                          'prefer not to '\n",
      "                                                          'answer',\n",
      "                                                          'Black or African '\n",
      "                                                          'American, Hispanic, '\n",
      "                                                          'Latino, or Spanish '\n",
      "                                                          'origin, White',\n",
      "                                                          'Black or African '\n",
      "                                                          'American, Native '\n",
      "                                                          'American or Alaska '\n",
      "                                                          'Native, White',\n",
      "                                                          'Hispanic, Latino, '\n",
      "                                                          'or Spanish origin, '\n",
      "                                                          'White',\n",
      "                                                          'Asian or Asian '\n",
      "                                                          'American, Hispanic, '\n",
      "                                                          'Latino, or Spanish '\n",
      "                                                          'origin, Another '\n",
      "                                                          'option not listed '\n",
      "                                                          'here or prefer not '\n",
      "                                                          'to answer',\n",
      "                                                          'Middle Eastern or '\n",
      "                                                          'Northern African, '\n",
      "                                                          'Native American or '\n",
      "                                                          'Alaska Native, '\n",
      "                                                          'White',\n",
      "                                                          'Black or African '\n",
      "                                                          'American, Another '\n",
      "                                                          'option not listed '\n",
      "                                                          'here or prefer not '\n",
      "                                                          'to answer',\n",
      "                                                          'Hispanic, Latino, '\n",
      "                                                          'or Spanish origin, '\n",
      "                                                          'Middle Eastern or '\n",
      "                                                          'Northern African',\n",
      "                                                          'Hispanic, Latino, '\n",
      "                                                          'or Spanish origin, '\n",
      "                                                          'Middle Eastern or '\n",
      "                                                          'Northern African, '\n",
      "                                                          'White',\n",
      "                                                          'Asian or Asian '\n",
      "                                                          'American, Black or '\n",
      "                                                          'African American, '\n",
      "                                                          'Hispanic, Latino, '\n",
      "                                                          'or Spanish origin',\n",
      "                                                          'Asian or Asian '\n",
      "                                                          'American, Middle '\n",
      "                                                          'Eastern or Northern '\n",
      "                                                          'African, White',\n",
      "                                                          'Hispanic, Latino, '\n",
      "                                                          'or Spanish origin, '\n",
      "                                                          'Native American or '\n",
      "                                                          'Alaska Native, '\n",
      "                                                          'Another option not '\n",
      "                                                          'listed here or '\n",
      "                                                          'prefer not to '\n",
      "                                                          'answer',\n",
      "                                                          'Black or African '\n",
      "                                                          'American, White',\n",
      "                                                          'Black or African '\n",
      "                                                          'American, Hispanic, '\n",
      "                                                          'Latino, or Spanish '\n",
      "                                                          'origin',\n",
      "                                                          'Native American or '\n",
      "                                                          'Alaska Native, '\n",
      "                                                          'White',\n",
      "                                                          'White',\n",
      "                                                          'Asian or Asian '\n",
      "                                                          'American, White',\n",
      "                                                          'Black or African '\n",
      "                                                          'American, Middle '\n",
      "                                                          'Eastern or Northern '\n",
      "                                                          'African, White',\n",
      "                                                          'Asian or Asian '\n",
      "                                                          'American',\n",
      "                                                          'Black or African '\n",
      "                                                          'American, Middle '\n",
      "                                                          'Eastern or Northern '\n",
      "                                                          'African, Native '\n",
      "                                                          'American or Alaska '\n",
      "                                                          'Native, White',\n",
      "                                                          'Asian or Asian '\n",
      "                                                          'American, Hispanic, '\n",
      "                                                          'Latino, or Spanish '\n",
      "                                                          'origin',\n",
      "                                                          'Black or African '\n",
      "                                                          'American, Middle '\n",
      "                                                          'Eastern or Northern '\n",
      "                                                          'African',\n",
      "                                                          'Asian or Asian '\n",
      "                                                          'American, Native '\n",
      "                                                          'American or Alaska '\n",
      "                                                          'Native',\n",
      "                                                          'Another option not '\n",
      "                                                          'listed here or '\n",
      "                                                          'prefer not to '\n",
      "                                                          'answer',\n",
      "                                                          'Hispanic, Latino, '\n",
      "                                                          'or Spanish origin, '\n",
      "                                                          'White, Another '\n",
      "                                                          'option not listed '\n",
      "                                                          'here or prefer not '\n",
      "                                                          'to answer',\n",
      "                                                          'Middle Eastern or '\n",
      "                                                          'Northern African',\n",
      "                                                          'Black or African '\n",
      "                                                          'American, Hispanic, '\n",
      "                                                          'Latino, or Spanish '\n",
      "                                                          'origin, Native '\n",
      "                                                          'American or Alaska '\n",
      "                                                          'Native, White',\n",
      "                                                          'Middle Eastern or '\n",
      "                                                          'Northern African, '\n",
      "                                                          'White, Another '\n",
      "                                                          'option not listed '\n",
      "                                                          'here or prefer not '\n",
      "                                                          'to answer',\n",
      "                                                          'Asian or Asian '\n",
      "                                                          'American, Black or '\n",
      "                                                          'African American',\n",
      "                                                          'Asian or Asian '\n",
      "                                                          'American, Black or '\n",
      "                                                          'African American, '\n",
      "                                                          'Native American or '\n",
      "                                                          'Alaska Native, '\n",
      "                                                          'White',\n",
      "                                                          'Hispanic, Latino, '\n",
      "                                                          'or Spanish origin',\n",
      "                                                          'Native American or '\n",
      "                                                          'Alaska Native',\n",
      "                                                          'Hispanic, Latino, '\n",
      "                                                          'or Spanish origin, '\n",
      "                                                          'Native American or '\n",
      "                                                          'Alaska Native, '\n",
      "                                                          'White',\n",
      "                                                          'Hispanic, Latino, '\n",
      "                                                          'or Spanish origin, '\n",
      "                                                          'Native American or '\n",
      "                                                          'Alaska Native',\n",
      "                                                          'Middle Eastern or '\n",
      "                                                          'Northern African, '\n",
      "                                                          'Native American or '\n",
      "                                                          'Alaska Native',\n",
      "                                                          'White, Another '\n",
      "                                                          'option not listed '\n",
      "                                                          'here or prefer not '\n",
      "                                                          'to answer',\n",
      "                                                          'Asian or Asian '\n",
      "                                                          'American, Middle '\n",
      "                                                          'Eastern or Northern '\n",
      "                                                          'African']}},\n",
      "  { 'expect_column_values_to_be_unique': { 'column': 'index',\n",
      "                                           'domain': 'column'}},\n",
      "  { 'expect_column_values_to_match_regex': { 'column': 'timestamp',\n",
      "                                             'domain': 'column',\n",
      "                                             'mostly': 1.0,\n",
      "                                             'regex': '[A-Za-z0-9\\\\.,;:!?()\\\\\"\\'%\\\\-]+'}},\n",
      "  { 'expect_column_values_to_match_regex': { 'column': 'age',\n",
      "                                             'domain': 'column',\n",
      "                                             'mostly': 1.0,\n",
      "                                             'regex': '[A-Za-z0-9\\\\.,;:!?()\\\\\"\\'%\\\\-]+'}},\n",
      "  { 'expect_column_values_to_match_regex': { 'column': 'industry',\n",
      "                                             'domain': 'column',\n",
      "                                             'mostly': 1.0,\n",
      "                                             'regex': '[A-Za-z0-9\\\\.,;:!?()\\\\\"\\'%\\\\-]+'}},\n",
      "  { 'expect_column_values_to_match_regex': { 'column': 'title',\n",
      "                                             'domain': 'column',\n",
      "                                             'mostly': 1.0,\n",
      "                                             'regex': '[A-Za-z0-9\\\\.,;:!?()\\\\\"\\'%\\\\-]+'}},\n",
      "  { 'expect_column_values_to_match_regex': { 'column': 'salary',\n",
      "                                             'domain': 'column',\n",
      "                                             'mostly': 1.0,\n",
      "                                             'regex': '[A-Za-z0-9\\\\.,;:!?()\\\\\"\\'%\\\\-]+'}},\n",
      "  { 'expect_column_values_to_match_regex': { 'column': 'currencya',\n",
      "                                             'domain': 'column',\n",
      "                                             'mostly': 1.0,\n",
      "                                             'regex': '[A-Za-z0-9\\\\.,;:!?()\\\\\"\\'%\\\\-]+'}},\n",
      "  { 'expect_column_values_to_match_regex': { 'column': 'currencyb',\n",
      "                                             'domain': 'column',\n",
      "                                             'mostly': 1.0,\n",
      "                                             'regex': '[A-Za-z0-9\\\\.,;:!?()\\\\\"\\'%\\\\-]+'}},\n",
      "  { 'expect_column_values_to_match_regex': { 'column': 'us_state',\n",
      "                                             'domain': 'column',\n",
      "                                             'mostly': 1.0,\n",
      "                                             'regex': '[A-Za-z0-9\\\\.,;:!?()\\\\\"\\'%\\\\-]+'}},\n",
      "  { 'expect_column_values_to_match_regex': { 'column': 'overall_experience',\n",
      "                                             'domain': 'column',\n",
      "                                             'mostly': 1.0,\n",
      "                                             'regex': '[A-Za-z0-9\\\\.,;:!?()\\\\\"\\'%\\\\-]+'}},\n",
      "  { 'expect_column_values_to_match_regex': { 'column': 'field_experience',\n",
      "                                             'domain': 'column',\n",
      "                                             'mostly': 1.0,\n",
      "                                             'regex': '[A-Za-z0-9\\\\.,;:!?()\\\\\"\\'%\\\\-]+'}},\n",
      "  { 'expect_column_values_to_match_regex': { 'column': 'education',\n",
      "                                             'domain': 'column',\n",
      "                                             'mostly': 1.0,\n",
      "                                             'regex': '[A-Za-z0-9\\\\.,;:!?()\\\\\"\\'%\\\\-]+'}},\n",
      "  { 'expect_column_values_to_match_regex': { 'column': 'gender',\n",
      "                                             'domain': 'column',\n",
      "                                             'mostly': 1.0,\n",
      "                                             'regex': '[A-Za-z0-9\\\\.,;:!?()\\\\\"\\'%\\\\-]+'}},\n",
      "  { 'expect_column_values_to_match_regex': { 'column': 'race',\n",
      "                                             'domain': 'column',\n",
      "                                             'mostly': 1.0,\n",
      "                                             'regex': '[A-Za-z0-9\\\\.,;:!?()\\\\\"\\'%\\\\-]+'}},\n",
      "  { 'expect_column_values_to_not_be_null': { 'column': 'index',\n",
      "                                             'domain': 'column'}},\n",
      "  { 'expect_column_values_to_not_be_null': { 'column': 'timestamp',\n",
      "                                             'domain': 'column'}},\n",
      "  { 'expect_column_values_to_not_be_null': { 'column': 'age',\n",
      "                                             'domain': 'column'}},\n",
      "  { 'expect_column_values_to_not_be_null': { 'column': 'title',\n",
      "                                             'domain': 'column'}},\n",
      "  { 'expect_column_values_to_not_be_null': { 'column': 'salary',\n",
      "                                             'domain': 'column'}},\n",
      "  { 'expect_column_values_to_not_be_null': { 'column': 'currencya',\n",
      "                                             'domain': 'column'}},\n",
      "  { 'expect_column_values_to_not_be_null': { 'column': 'country',\n",
      "                                             'domain': 'column'}},\n",
      "  { 'expect_column_values_to_not_be_null': { 'column': 'overall_experience',\n",
      "                                             'domain': 'column'}},\n",
      "  { 'expect_column_values_to_not_be_null': { 'column': 'field_experience',\n",
      "                                             'domain': 'column'}}]\n"
     ]
    }
   ],
   "source": [
    "suite = context.get_expectation_suite(expectation_suite_name)\n",
    "# Get a list of all expectations in the suite\n",
    "suite.show_expectations_by_expectation_type()"
   ]
  },
  {
   "cell_type": "markdown",
   "id": "1e40ae9a-3859-4b01-9905-333ffaf3dcca",
   "metadata": {},
   "source": [
    "<h4> 1. Modify/Add </h4>"
   ]
  },
  {
   "cell_type": "code",
   "execution_count": 15,
   "id": "8a28d0d1-be76-45e6-9537-8a2266d16779",
   "metadata": {},
   "outputs": [],
   "source": [
    "# We can copy the configuration from the list in the previous cell. For example:\n",
    "# {\n",
    "#   \"expectation_type\": \"expect_column_values_to_be_between\",\n",
    "#   \"kwargs\": {\n",
    "#     \"column\": \"Bonus\",\n",
    "#     \"min_value\": 0.0,\n",
    "#     \"strict_min\": false,\n",
    "#     \"max_value\": 120000000.0,\n",
    "#     \"mostly\": 1.0,\n",
    "#     \"strict_max\": false\n",
    "#   }\n",
    "# }\n",
    "\n",
    "# We turn this configuration into an ExpectationConfiguration\n",
    "from great_expectations.core.expectation_suite import ExpectationConfiguration\n",
    "\n",
    "updated_config = ExpectationConfiguration(\n",
    "  expectation_type=\"expect_column_values_to_be_between\",\n",
    "  kwargs={\n",
    "    \"column\": \"Bonus\",\n",
    "    \"min_value\": 0.0,\n",
    "    \"strict_min\": False,\n",
    "    \"max_value\": 2000.0,\n",
    "    \"mostly\": 1.0,\n",
    "    \"strict_max\": False\n",
    "  }\n",
    ")"
   ]
  },
  {
   "cell_type": "code",
   "execution_count": 16,
   "id": "a25ef1df-b46b-4e5a-a674-9e408837bfca",
   "metadata": {},
   "outputs": [
    {
     "data": {
      "text/plain": [
       "{\"expectation_type\": \"expect_column_values_to_be_between\", \"kwargs\": {\"column\": \"Bonus\", \"min_value\": 0.0, \"strict_min\": false, \"max_value\": 2000.0, \"mostly\": 1.0, \"strict_max\": false}, \"meta\": {}}"
      ]
     },
     "execution_count": 16,
     "metadata": {},
     "output_type": "execute_result"
    }
   ],
   "source": [
    "# Upserting the config\n",
    "suite.add_expectation(updated_config)\n",
    "# By altering the expectation type and/or column in this config we can then use it to \n",
    "# insert a new expectation to the suite in the same way as we modify it"
   ]
  },
  {
   "cell_type": "code",
   "execution_count": 32,
   "id": "aa795b8f-c1ed-4574-9e36-19472520d67b",
   "metadata": {},
   "outputs": [
    {
     "name": "stdout",
     "output_type": "stream",
     "text": [
      "Expectation updated, saving Suite\n"
     ]
    }
   ],
   "source": [
    "# We can check that the expectation updated by\n",
    "config_to_search = ExpectationConfiguration(\n",
    "    expectation_type=\"expect_column_values_to_be_between\",\n",
    "    kwargs={\"column\": \"Bonus\"},\n",
    ")\n",
    "found_expectation = suite.find_expectations(config_to_search, match_type=\"domain\")\n",
    "\n",
    "# This assertion will succeed because the ExpectationConfiguration has been updated.\n",
    "if found_expectation == [updated_config]:\n",
    "    print(\"Expectation updated, saving Suite\")\n",
    "    context.save_expectation_suite(suite)"
   ]
  },
  {
   "cell_type": "markdown",
   "id": "25138a0d-5690-4863-9fb6-204cfc6c9110",
   "metadata": {},
   "source": [
    "<h4> Remove </h4>"
   ]
  },
  {
   "cell_type": "code",
   "execution_count": 17,
   "id": "bf06517f-6bc8-4c21-8b7b-5995bc0cd566",
   "metadata": {},
   "outputs": [
    {
     "name": "stdout",
     "output_type": "stream",
     "text": [
      "Expectation updated, saving Suite\n"
     ]
    }
   ],
   "source": [
    "remove_config = ExpectationConfiguration(\n",
    "    expectation_type=\"expect_column_values_to_be_between\",\n",
    "    kwargs={\n",
    "        \"column\": \"Bonus\"}\n",
    ")\n",
    "suite.remove_expectation(remove_config)\n",
    "\n",
    "# We can check that the expectation updated by\n",
    "config_to_search = ExpectationConfiguration(\n",
    "    expectation_type=\"expect_column_values_to_be_between\",\n",
    "    kwargs={\"column\": \"Bonus\"},\n",
    ")\n",
    "found_expectation = suite.find_expectations(config_to_search, match_type=\"domain\")\n",
    "\n",
    "# This assertion will succeed because the ExpectationConfiguration has been updated.\n",
    "if found_expectation != [updated_config]:\n",
    "    print(\"Expectation updated, saving Suite\")\n",
    "    context.save_expectation_suite(suite)"
   ]
  }
 ],
 "metadata": {
  "kernelspec": {
   "display_name": "Python 3 (ipykernel)",
   "language": "python",
   "name": "python3"
  },
  "language_info": {
   "codemirror_mode": {
    "name": "ipython",
    "version": 3
   },
   "file_extension": ".py",
   "mimetype": "text/x-python",
   "name": "python",
   "nbconvert_exporter": "python",
   "pygments_lexer": "ipython3",
   "version": "3.10.6"
  }
 },
 "nbformat": 4,
 "nbformat_minor": 5
}
